{
 "cells": [
  {
   "cell_type": "code",
   "execution_count": 1,
   "metadata": {},
   "outputs": [
    {
     "name": "stderr",
     "output_type": "stream",
     "text": [
      "2022-07-20 10:24:32.184179: I tensorflow/stream_executor/platform/default/dso_loader.cc:53] Successfully opened dynamic library libcudart.so.11.0\n"
     ]
    }
   ],
   "source": [
    "import transformers\n",
    "\n",
    "model = transformers.AutoModelForSequenceClassification.from_pretrained(\"textattack/bert-base-uncased-SST-2\")\n",
    "tokenizer = transformers.AutoTokenizer.from_pretrained(\"textattack/bert-base-uncased-SST-2\", use_fast=True)"
   ]
  },
  {
   "cell_type": "code",
   "execution_count": 2,
   "metadata": {},
   "outputs": [
    {
     "name": "stderr",
     "output_type": "stream",
     "text": [
      "textattack: Unknown if model of class <class 'transformers.models.bert.modeling_bert.BertForSequenceClassification'> compatible with goal function <class 'textattack.goal_functions.classification.untargeted_classification.UntargetedClassification'>.\n",
      "Reusing dataset glue (/home/coraline/.cache/huggingface/datasets/glue/sst2/1.0.0/dacbe3125aa31d7f70367a07a8a9e72a5a0bfeb5fc42e75c9db75b96da6053ad)\n"
     ]
    },
    {
     "data": {
      "application/vnd.jupyter.widget-view+json": {
       "model_id": "e8f9ea4dd0a34564aa3e5a6bea304f82",
       "version_major": 2,
       "version_minor": 0
      },
      "text/plain": [
       "  0%|          | 0/3 [00:00<?, ?it/s]"
      ]
     },
     "metadata": {},
     "output_type": "display_data"
    },
    {
     "name": "stderr",
     "output_type": "stream",
     "text": [
      "textattack: Loading \u001b[94mdatasets\u001b[0m dataset \u001b[94mglue\u001b[0m, subset \u001b[94msst2\u001b[0m, split \u001b[94mvalidation\u001b[0m.\n"
     ]
    }
   ],
   "source": [
    "import textattack\n",
    "\n",
    "model_wrapper = textattack.models.wrappers.HuggingFaceModelWrapper(model, tokenizer)\n",
    "attack = textattack.attack_recipes.A2TYoo2021.build(model_wrapper)\n",
    "dataset = textattack.datasets.HuggingFaceDataset(\"glue\", \"sst2\", split=\"validation\")\n",
    "\n",
    "# Attack 20 samples with CSV logging and checkpoint saved every 5 interval\n",
    "attack_args = textattack.AttackArgs(\n",
    "    num_examples=20,\n",
    "    csv_coloring_style=\"plain\",\n",
    "    log_to_csv=\"../results/log.csv\",\n",
    "    checkpoint_interval=5,\n",
    "    #disable_stdout=True\n",
    ")"
   ]
  },
  {
   "cell_type": "code",
   "execution_count": 3,
   "metadata": {
    "scrolled": true
   },
   "outputs": [
    {
     "name": "stderr",
     "output_type": "stream",
     "text": [
      "textattack: Logging to CSV at path ../results/log.csv\n"
     ]
    },
    {
     "name": "stdout",
     "output_type": "stream",
     "text": [
      "Attack(\n",
      "  (search_method): GreedyWordSwapWIR(\n",
      "    (wir_method):  gradient\n",
      "  )\n",
      "  (goal_function):  UntargetedClassification\n",
      "  (transformation):  WordSwapEmbedding(\n",
      "    (max_candidates):  20\n",
      "    (embedding):  WordEmbedding\n",
      "  )\n",
      "  (constraints): \n",
      "    (0): PartOfSpeech(\n",
      "        (tagger_type):  nltk\n",
      "        (tagset):  universal\n",
      "        (allow_verb_noun_swap):  False\n",
      "        (compare_against_original):  True\n",
      "      )\n",
      "    (1): BERT(\n",
      "        (metric):  cosine\n",
      "        (threshold):  0.9\n",
      "        (window_size):  inf\n",
      "        (skip_text_shorter_than_window):  False\n",
      "        (compare_against_original):  True\n",
      "      )\n",
      "    (2): WordEmbeddingDistance(\n",
      "        (embedding):  WordEmbedding\n",
      "        (min_cos_sim):  0.8\n",
      "        (cased):  False\n",
      "        (include_unknown_words):  True\n",
      "        (compare_against_original):  True\n",
      "      )\n",
      "    (3): RepeatModification\n",
      "    (4): StopwordModification\n",
      "    (5): InputColumnModification(\n",
      "        (matching_column_labels):  ['premise', 'hypothesis']\n",
      "        (columns_to_ignore):  {'premise'}\n",
      "      )\n",
      "    (6): MaxModificationRate(\n",
      "        (max_rate):  0.1\n",
      "        (min_threshold):  4\n",
      "      )\n",
      "  (is_black_box):  False\n",
      ") \n",
      "\n"
     ]
    },
    {
     "name": "stderr",
     "output_type": "stream",
     "text": [
      "  0%|                                                                                    | 0/20 [00:00<?, ?it/s]/home/coraline/anaconda3/envs/dpml/lib/python3.7/site-packages/torch/nn/modules/module.py:1033: UserWarning: Using a non-full backward hook when the forward contains multiple autograd Nodes is deprecated and will be removed in future versions. This hook will be missing some grad_input. Please use register_full_backward_hook to get the documented behavior.\n",
      "  warnings.warn(\"Using a non-full backward hook when the forward contains multiple autograd Nodes \"\n",
      "[Succeeded / Failed / Skipped / Total] 0 / 1 / 0 / 1:   5%|█                     | 1/20 [00:00<00:15,  1.25it/s]"
     ]
    },
    {
     "name": "stdout",
     "output_type": "stream",
     "text": [
      "--------------------------------------------- Result 1 ---------------------------------------------\n",
      "[[Positive (100%)]] --> [[[FAILED]]]\n",
      "\n",
      "it 's a charming and [[often]] affecting journey . \n",
      "\n",
      "it 's a charming and [[normally]] affecting journey . \n",
      "\n",
      "it 's a charming and often affecting journey . \n",
      "\n",
      "it 's a charming and normally affecting journey . \n",
      "\n",
      "\n"
     ]
    },
    {
     "name": "stderr",
     "output_type": "stream",
     "text": [
      "[Succeeded / Failed / Skipped / Total] 0 / 2 / 0 / 2:  10%|██▏                   | 2/20 [00:01<00:09,  1.87it/s]"
     ]
    },
    {
     "name": "stdout",
     "output_type": "stream",
     "text": [
      "--------------------------------------------- Result 2 ---------------------------------------------\n",
      "[[Negative (99%)]] --> [[[FAILED]]]\n",
      "\n",
      "unflinchingly [[bleak]] and desperate \n",
      "\n",
      "unflinchingly [[grim]] and desperate \n",
      "\n",
      "unflinchingly bleak and desperate \n",
      "\n",
      "unflinchingly grim and desperate \n",
      "\n",
      "\n"
     ]
    },
    {
     "name": "stderr",
     "output_type": "stream",
     "text": [
      "[Succeeded / Failed / Skipped / Total] 0 / 3 / 0 / 3:  15%|███▎                  | 3/20 [00:01<00:11,  1.52it/s]"
     ]
    },
    {
     "name": "stdout",
     "output_type": "stream",
     "text": [
      "--------------------------------------------- Result 3 ---------------------------------------------\n",
      "[[Positive (100%)]] --> [[[FAILED]]]\n",
      "\n",
      "[[allows]] us to [[hope]] that nolan is [[poised]] to [[embark]] a major career as a commercial yet inventive filmmaker . \n",
      "\n",
      "[[authorizes]] us to [[hopes]] that nolan is [[prepped]] to [[engage]] a major career as a commercial yet inventive filmmaker . \n",
      "\n",
      "allows us to hope that nolan is poised to embark a major career as a commercial yet inventive filmmaker . \n",
      "\n",
      "authorizes us to hopes that nolan is prepped to engage a major career as a commercial yet inventive filmmaker . \n",
      "\n",
      "\n"
     ]
    },
    {
     "name": "stderr",
     "output_type": "stream",
     "text": [
      "[Succeeded / Failed / Skipped / Total] 1 / 3 / 0 / 4:  20%|████▍                 | 4/20 [00:02<00:09,  1.76it/s]"
     ]
    },
    {
     "name": "stdout",
     "output_type": "stream",
     "text": [
      "--------------------------------------------- Result 4 ---------------------------------------------\n",
      "[[Positive (100%)]] --> [[Negative (62%)]]\n",
      "\n",
      "the acting , costumes , music , cinematography and sound are all [[astounding]] given the [[production]] 's austere locales . \n",
      "\n",
      "the acting , costumes , music , cinematography and sound are all [[staggering]] given the [[productivity]] 's austere locales . \n",
      "\n",
      "the acting , costumes , music , cinematography and sound are all astounding given the production 's austere locales . \n",
      "\n",
      "the acting , costumes , music , cinematography and sound are all staggering given the productivity 's austere locales . \n",
      "\n",
      "\n"
     ]
    },
    {
     "name": "stderr",
     "output_type": "stream",
     "text": [
      "[Succeeded / Failed / Skipped / Total] 1 / 4 / 0 / 5:  25%|█████▌                | 5/20 [00:02<00:07,  2.00it/s]textattack: Saving checkpoint under \"checkpoints/1658337904863.ta.chkpt\" at 2022-07-20 10:25:04 after 5 attacks.\n"
     ]
    },
    {
     "name": "stdout",
     "output_type": "stream",
     "text": [
      "--------------------------------------------- Result 5 ---------------------------------------------\n",
      "[[Negative (100%)]] --> [[[FAILED]]]\n",
      "\n",
      "it 's slow -- very , very [[slow]] . \n",
      "\n",
      "it 's slow -- very , very [[slower]] . \n",
      "\n",
      "it 's slow -- very , very slow . \n",
      "\n",
      "it 's slow -- very , very slower . \n",
      "\n",
      "\n",
      "\n",
      "\n",
      "=============================================================================================================================\n",
      "=============================================================================================================================\n",
      "\n"
     ]
    },
    {
     "name": "stderr",
     "output_type": "stream",
     "text": [
      "[Succeeded / Failed / Skipped / Total] 1 / 5 / 0 / 6:  30%|██████▌               | 6/20 [00:03<00:07,  1.90it/s]"
     ]
    },
    {
     "name": "stdout",
     "output_type": "stream",
     "text": [
      "--------------------------------------------- Result 6 ---------------------------------------------\n",
      "[[Positive (100%)]] --> [[[FAILED]]]\n",
      "\n",
      "although laced with [[humor]] and a few fanciful touches , the [[film]] is a [[refreshingly]] serious look at young [[women]] . \n",
      "\n",
      "although laced with [[mood]] and a few fanciful touches , the [[films]] is a [[cheerfully]] serious look at young [[female]] . \n",
      "\n",
      "although laced with humor and a few fanciful touches , the film is a refreshingly serious look at young women . \n",
      "\n",
      "although laced with mood and a few fanciful touches , the films is a cheerfully serious look at young female . \n",
      "\n",
      "\n"
     ]
    },
    {
     "name": "stderr",
     "output_type": "stream",
     "text": [
      "[Succeeded / Failed / Skipped / Total] 1 / 6 / 0 / 7:  35%|███████▋              | 7/20 [00:03<00:06,  2.02it/s]"
     ]
    },
    {
     "name": "stdout",
     "output_type": "stream",
     "text": [
      "--------------------------------------------- Result 7 ---------------------------------------------\n",
      "[[Negative (100%)]] --> [[[FAILED]]]\n",
      "\n",
      "a [[sometimes]] tedious [[film]] . \n",
      "\n",
      "a [[occasionally]] tedious [[movies]] . \n",
      "\n",
      "a sometimes tedious film . \n",
      "\n",
      "a occasionally tedious movies . \n",
      "\n",
      "\n"
     ]
    },
    {
     "name": "stderr",
     "output_type": "stream",
     "text": [
      "[Succeeded / Failed / Skipped / Total] 1 / 7 / 0 / 8:  40%|████████▊             | 8/20 [00:03<00:05,  2.16it/s]"
     ]
    },
    {
     "name": "stdout",
     "output_type": "stream",
     "text": [
      "--------------------------------------------- Result 8 ---------------------------------------------\n",
      "[[Negative (99%)]] --> [[[FAILED]]]\n",
      "\n",
      "or doing last year 's [[taxes]] with your ex-wife . \n",
      "\n",
      "or doing last year 's [[taxation]] with your ex-wife . \n",
      "\n",
      "or doing last year 's taxes with your ex-wife . \n",
      "\n",
      "or doing last year 's taxation with your ex-wife . \n",
      "\n",
      "\n"
     ]
    },
    {
     "name": "stderr",
     "output_type": "stream",
     "text": [
      "[Succeeded / Failed / Skipped / Total] 1 / 8 / 0 / 9:  45%|█████████▉            | 9/20 [00:04<00:05,  2.07it/s]"
     ]
    },
    {
     "name": "stdout",
     "output_type": "stream",
     "text": [
      "--------------------------------------------- Result 9 ---------------------------------------------\n",
      "[[Positive (100%)]] --> [[[FAILED]]]\n",
      "\n",
      "you do n't have to know about music to [[appreciate]] the [[film]] 's easygoing [[blend]] of comedy and [[romance]] . \n",
      "\n",
      "you do n't have to know about music to [[thankful]] the [[cinema]] 's easygoing [[amalgam]] of comedy and [[romanticism]] . \n",
      "\n",
      "you do n't have to know about music to appreciate the film 's easygoing blend of comedy and romance . \n",
      "\n",
      "you do n't have to know about music to thankful the cinema 's easygoing amalgam of comedy and romanticism . \n",
      "\n",
      "\n"
     ]
    },
    {
     "name": "stderr",
     "output_type": "stream",
     "text": [
      "[Succeeded / Failed / Skipped / Total] 1 / 9 / 0 / 10:  50%|██████████          | 10/20 [00:04<00:04,  2.01it/s]textattack: Saving checkpoint under \"checkpoints/1658337907321.ta.chkpt\" at 2022-07-20 10:25:07 after 10 attacks.\n"
     ]
    },
    {
     "name": "stdout",
     "output_type": "stream",
     "text": [
      "--------------------------------------------- Result 10 ---------------------------------------------\n",
      "[[Negative (100%)]] --> [[[FAILED]]]\n",
      "\n",
      "in exactly 89 minutes , most of which passed as slowly as if i 'd been sitting naked on an igloo , formula 51 [[sank]] from [[quirky]] to jerky to [[utter]] [[turkey]] . \n",
      "\n",
      "in exactly 89 minutes , most of which passed as slowly as if i 'd been sitting naked on an igloo , formula 51 [[sunk]] from [[moody]] to jerky to [[absolute]] [[ankara]] . \n",
      "\n",
      "in exactly 89 minutes , most of which passed as slowly as if i 'd been sitting naked on an igloo , formula 51 sank from quirky to jerky to utter turkey . \n",
      "\n",
      "in exactly 89 minutes , most of which passed as slowly as if i 'd been sitting naked on an igloo , formula 51 sunk from moody to jerky to absolute ankara . \n",
      "\n",
      "\n",
      "\n",
      "\n",
      "=============================================================================================================================\n",
      "=============================================================================================================================\n",
      "\n"
     ]
    },
    {
     "name": "stderr",
     "output_type": "stream",
     "text": [
      "[Succeeded / Failed / Skipped / Total] 1 / 10 / 0 / 11:  55%|██████████▍        | 11/20 [00:05<00:04,  1.93it/s]"
     ]
    },
    {
     "name": "stdout",
     "output_type": "stream",
     "text": [
      "--------------------------------------------- Result 11 ---------------------------------------------\n",
      "[[Positive (100%)]] --> [[[FAILED]]]\n",
      "\n",
      "the mesmerizing performances of the leads [[keep]] the [[film]] [[grounded]] and keep the [[audience]] riveted . \n",
      "\n",
      "the mesmerizing performances of the leads [[maintain]] the [[movie]] [[anchored]] and keep the [[spectators]] riveted . \n",
      "\n",
      "the mesmerizing performances of the leads keep the film grounded and keep the audience riveted . \n",
      "\n",
      "the mesmerizing performances of the leads maintain the movie anchored and keep the spectators riveted . \n",
      "\n",
      "\n"
     ]
    },
    {
     "name": "stderr",
     "output_type": "stream",
     "text": [
      "[Succeeded / Failed / Skipped / Total] 1 / 11 / 0 / 12:  60%|███████████▍       | 12/20 [00:06<00:04,  1.78it/s]"
     ]
    },
    {
     "name": "stdout",
     "output_type": "stream",
     "text": [
      "--------------------------------------------- Result 12 ---------------------------------------------\n",
      "[[Negative (100%)]] --> [[[FAILED]]]\n",
      "\n",
      "it takes a [[strange]] [[kind]] of laziness to [[waste]] the talents of robert forster , anne meara , eugene levy , and reginald veljohnson all in the same [[movie]] . \n",
      "\n",
      "it takes a [[inquisitive]] [[genus]] of laziness to [[squandering]] the talents of robert forster , anne meara , eugene levy , and reginald veljohnson all in the same [[film]] . \n",
      "\n",
      "it takes a strange kind of laziness to waste the talents of robert forster , anne meara , eugene levy , and reginald veljohnson all in the same movie . \n",
      "\n",
      "it takes a inquisitive genus of laziness to squandering the talents of robert forster , anne meara , eugene levy , and reginald veljohnson all in the same film . \n",
      "\n",
      "\n"
     ]
    },
    {
     "name": "stderr",
     "output_type": "stream",
     "text": [
      "[Succeeded / Failed / Skipped / Total] 1 / 12 / 1 / 14:  70%|█████████████▎     | 14/20 [00:07<00:03,  1.93it/s]"
     ]
    },
    {
     "name": "stdout",
     "output_type": "stream",
     "text": [
      "--------------------------------------------- Result 13 ---------------------------------------------\n",
      "[[Negative (100%)]] --> [[[FAILED]]]\n",
      "\n",
      "... the film [[suffers]] from a lack of [[humor]] ( something [[needed]] to [[balance]] out the violence ) ... \n",
      "\n",
      "... the film [[undergo]] from a lack of [[mood]] ( something [[need]] to [[balancing]] out the violence ) ... \n",
      "\n",
      "... the film suffers from a lack of humor ( something needed to balance out the violence ) ... \n",
      "\n",
      "... the film undergo from a lack of mood ( something need to balancing out the violence ) ... \n",
      "\n",
      "\n",
      "--------------------------------------------- Result 14 ---------------------------------------------\n",
      "[[Negative (64%)]] --> [[[SKIPPED]]]\n",
      "\n",
      "we root for ( clara and paul ) , even like them , though perhaps it 's an emotion closer to pity . \n",
      "\n",
      "\n"
     ]
    },
    {
     "name": "stderr",
     "output_type": "stream",
     "text": [
      "[Succeeded / Failed / Skipped / Total] 1 / 13 / 1 / 15:  75%|██████████████▎    | 15/20 [00:07<00:02,  1.92it/s]textattack: Saving checkpoint under \"checkpoints/1658337910165.ta.chkpt\" at 2022-07-20 10:25:10 after 15 attacks.\n"
     ]
    },
    {
     "name": "stdout",
     "output_type": "stream",
     "text": [
      "--------------------------------------------- Result 15 ---------------------------------------------\n",
      "[[Negative (100%)]] --> [[[FAILED]]]\n",
      "\n",
      "even horror fans will most [[likely]] not find what they 're seeking with [[trouble]] every day ; the movie [[lacks]] both thrills and [[humor]] . \n",
      "\n",
      "even horror fans will most [[perhaps]] not find what they 're seeking with [[difficulty]] every day ; the movie [[lacked]] both thrills and [[comedy]] . \n",
      "\n",
      "even horror fans will most likely not find what they 're seeking with trouble every day ; the movie lacks both thrills and humor . \n",
      "\n",
      "even horror fans will most perhaps not find what they 're seeking with difficulty every day ; the movie lacked both thrills and comedy . \n",
      "\n",
      "\n",
      "\n",
      "\n",
      "=============================================================================================================================\n",
      "=============================================================================================================================\n",
      "\n"
     ]
    },
    {
     "name": "stderr",
     "output_type": "stream",
     "text": [
      "\r",
      "[Succeeded / Failed / Skipped / Total] 1 / 14 / 1 / 16:  80%|███████████████▏   | 16/20 [00:08<00:02,  1.83it/s]"
     ]
    },
    {
     "name": "stdout",
     "output_type": "stream",
     "text": [
      "--------------------------------------------- Result 16 ---------------------------------------------\n",
      "[[Positive (100%)]] --> [[[FAILED]]]\n",
      "\n",
      "a [[gorgeous]] , high-spirited [[musical]] from india that [[exquisitely]] blends music , dance , song , and high [[drama]] . \n",
      "\n",
      "a [[magnifique]] , high-spirited [[music]] from india that [[finely]] blends music , dance , song , and high [[teatro]] . \n",
      "\n",
      "a gorgeous , high-spirited musical from india that exquisitely blends music , dance , song , and high drama . \n",
      "\n",
      "a magnifique , high-spirited music from india that finely blends music , dance , song , and high teatro . \n",
      "\n",
      "\n"
     ]
    },
    {
     "name": "stderr",
     "output_type": "stream",
     "text": [
      "[Succeeded / Failed / Skipped / Total] 1 / 15 / 1 / 17:  85%|████████████████▏  | 17/20 [00:09<00:01,  1.86it/s]"
     ]
    },
    {
     "name": "stdout",
     "output_type": "stream",
     "text": [
      "--------------------------------------------- Result 17 ---------------------------------------------\n",
      "[[Positive (100%)]] --> [[[FAILED]]]\n",
      "\n",
      "the emotions are [[raw]] and will strike a nerve with anyone who 's ever had family trauma . \n",
      "\n",
      "the emotions are [[untreated]] and will strike a nerve with anyone who 's ever had family trauma . \n",
      "\n",
      "the emotions are raw and will strike a nerve with anyone who 's ever had family trauma . \n",
      "\n",
      "the emotions are untreated and will strike a nerve with anyone who 's ever had family trauma . \n",
      "\n",
      "\n"
     ]
    },
    {
     "name": "stderr",
     "output_type": "stream",
     "text": [
      "\r",
      "[Succeeded / Failed / Skipped / Total] 1 / 16 / 1 / 18:  90%|█████████████████  | 18/20 [00:09<00:01,  1.82it/s]"
     ]
    },
    {
     "name": "stdout",
     "output_type": "stream",
     "text": [
      "--------------------------------------------- Result 18 ---------------------------------------------\n",
      "[[Positive (100%)]] --> [[[FAILED]]]\n",
      "\n",
      "audrey tatou has a knack for picking roles that magnify her [[outrageous]] charm , and in this [[literate]] french [[comedy]] , she 's as morning-glory [[exuberant]] as she was in amélie . \n",
      "\n",
      "audrey tatou has a knack for picking roles that magnify her [[repugnant]] charm , and in this [[schooled]] french [[parody]] , she 's as morning-glory [[luxuriant]] as she was in amélie . \n",
      "\n",
      "audrey tatou has a knack for picking roles that magnify her outrageous charm , and in this literate french comedy , she 's as morning-glory exuberant as she was in amélie . \n",
      "\n",
      "audrey tatou has a knack for picking roles that magnify her repugnant charm , and in this schooled french parody , she 's as morning-glory luxuriant as she was in amélie . \n",
      "\n",
      "\n"
     ]
    },
    {
     "name": "stderr",
     "output_type": "stream",
     "text": [
      "[Succeeded / Failed / Skipped / Total] 1 / 17 / 1 / 19:  95%|██████████████████ | 19/20 [00:10<00:00,  1.86it/s]"
     ]
    },
    {
     "name": "stdout",
     "output_type": "stream",
     "text": [
      "--------------------------------------------- Result 19 ---------------------------------------------\n",
      "[[Negative (100%)]] --> [[[FAILED]]]\n",
      "\n",
      "... the [[movie]] is just a plain old [[monster]] . \n",
      "\n",
      "... the [[films]] is just a plain old [[monsters]] . \n",
      "\n",
      "... the movie is just a plain old monster . \n",
      "\n",
      "... the films is just a plain old monsters . \n",
      "\n",
      "\n"
     ]
    },
    {
     "name": "stderr",
     "output_type": "stream",
     "text": [
      "[Succeeded / Failed / Skipped / Total] 2 / 17 / 1 / 20: 100%|███████████████████| 20/20 [00:11<00:00,  1.81it/s]textattack: Saving checkpoint under \"checkpoints/1658337913384.ta.chkpt\" at 2022-07-20 10:25:13 after 20 attacks.\n"
     ]
    },
    {
     "name": "stdout",
     "output_type": "stream",
     "text": [
      "--------------------------------------------- Result 20 ---------------------------------------------\n",
      "[[Negative (100%)]] --> [[Positive (51%)]]\n",
      "\n",
      "in its [[best]] moments , [[resembles]] a [[bad]] high school production of grease , without benefit of [[song]] . \n",
      "\n",
      "in its [[finest]] moments , [[reminds]] a [[wicked]] high school production of grease , without benefit of [[chanson]] . \n",
      "\n",
      "in its best moments , resembles a bad high school production of grease , without benefit of song . \n",
      "\n",
      "in its finest moments , reminds a wicked high school production of grease , without benefit of chanson . \n",
      "\n",
      "\n",
      "\n",
      "\n",
      "=============================================================================================================================\n",
      "=============================================================================================================================\n",
      "\n"
     ]
    },
    {
     "name": "stderr",
     "output_type": "stream",
     "text": [
      "\r",
      "[Succeeded / Failed / Skipped / Total] 2 / 17 / 1 / 20: 100%|███████████████████| 20/20 [00:11<00:00,  1.81it/s]"
     ]
    },
    {
     "name": "stdout",
     "output_type": "stream",
     "text": [
      "\n",
      "+-------------------------------+--------+\n",
      "| Attack Results                |        |\n",
      "+-------------------------------+--------+\n",
      "| Number of successful attacks: | 2      |\n",
      "| Number of failed attacks:     | 17     |\n",
      "| Number of skipped attacks:    | 1      |\n",
      "| Original accuracy:            | 95.0%  |\n",
      "| Accuracy under attack:        | 85.0%  |\n",
      "| Attack success rate:          | 10.53% |\n",
      "| Average perturbed word %:     | 18.75% |\n",
      "| Average num. words per input: | 15.8   |\n",
      "| Avg num queries:              | 14.26  |\n",
      "+-------------------------------+--------+\n"
     ]
    },
    {
     "name": "stderr",
     "output_type": "stream",
     "text": [
      "\n"
     ]
    }
   ],
   "source": [
    "attacker = textattack.Attacker(attack, dataset, attack_args)\n",
    "results = attacker.attack_dataset()\n",
    "#for result in results:"
   ]
  },
  {
   "cell_type": "code",
   "execution_count": 4,
   "metadata": {},
   "outputs": [],
   "source": [
    "idx=12\n",
    "perturbed_text = results[idx].perturbed_result.attacked_text\n",
    "trans_prov = perturbed_text.transformation_provenance.history.pop()"
   ]
  },
  {
   "cell_type": "code",
   "execution_count": 5,
   "metadata": {},
   "outputs": [],
   "source": [
    "from lineage.utils import dynamic_import\n",
    "import json"
   ]
  },
  {
   "cell_type": "code",
   "execution_count": 6,
   "metadata": {},
   "outputs": [
    {
     "data": {
      "text/plain": [
       "{'module_name': 'textattack.transformations.word_swaps.word_swap_embedding',\n",
       " 'class_name': 'WordSwapEmbedding',\n",
       " 'trans_fn_name': '_get_transformations',\n",
       " 'init_args': [],\n",
       " 'init_kwargs': {'max_candidates': 20},\n",
       " 'transform_args': ['<AttackedText \"... the film undergo from a lack of humor ( something needed to balance out the violence ) ... \">',\n",
       "  '{7}'],\n",
       " 'transform_kwargs': {}}"
      ]
     },
     "execution_count": 6,
     "metadata": {},
     "output_type": "execute_result"
    }
   ],
   "source": [
    "last_trans = json.loads(trans_prov[1])\n",
    "last_trans"
   ]
  },
  {
   "cell_type": "code",
   "execution_count": 7,
   "metadata": {},
   "outputs": [],
   "source": [
    "trans_obj = dynamic_import(last_trans['module_name'], last_trans['class_name'])(\n",
    "    *last_trans['init_args'], **last_trans['init_kwargs'])"
   ]
  },
  {
   "cell_type": "code",
   "execution_count": 8,
   "metadata": {},
   "outputs": [],
   "source": [
    "trans_fn = getattr(trans_obj, last_trans['trans_fn_name'])"
   ]
  },
  {
   "cell_type": "code",
   "execution_count": 9,
   "metadata": {},
   "outputs": [
    {
     "data": {
      "text/plain": [
       "<FeatureProvenance[edit_seq] {(2, (11, 12), 'replace: [11,12]-[11,12]'), (1, (7, 8), 'replace: [7,8]-[7,8]'), (3, (9, 10), 'replace: [9,10]-[9,10]'), (0, (2, 3), 'replace: [2,3]-[2,3]')}>"
      ]
     },
     "execution_count": 9,
     "metadata": {},
     "output_type": "execute_result"
    }
   ],
   "source": [
    "perturbed_text.feature_provenance"
   ]
  },
  {
   "cell_type": "markdown",
   "metadata": {},
   "source": [
    "## Visualize Attribution"
   ]
  },
  {
   "cell_type": "code",
   "execution_count": 5,
   "metadata": {},
   "outputs": [],
   "source": [
    "import numpy as np\n",
    "import lime\n",
    "import torch\n",
    "import torch.nn.functional as F\n",
    "from lime.lime_text import LimeTextExplainer\n",
    "\n",
    "\n",
    "device = torch.device(\"cuda\" if torch.cuda.is_available() else \"cpu\")\n",
    "def target_model_predictor(texts):\n",
    "    model.eval()\n",
    "    inputs = tokenizer(texts, return_tensors=\"pt\", padding=True).to(device)\n",
    "    outputs = model(**inputs)\n",
    "    probas = F.softmax(outputs.logits).detach().cpu().numpy()\n",
    "    return probas\n",
    "\n",
    "class_names = ['negative','positive']\n",
    "\n",
    "explainer = LimeTextExplainer(class_names=class_names)"
   ]
  },
  {
   "cell_type": "code",
   "execution_count": 6,
   "metadata": {},
   "outputs": [],
   "source": [
    "def get_texts_and_order(results, idx):\n",
    "    original_text = results[idx].original_result.attacked_text\n",
    "    perturbed_text = results[idx].perturbed_result.attacked_text\n",
    "    original_words = original_text.words\n",
    "    perturbed_words = perturbed_text.words\n",
    "    \n",
    "    transformation_history = perturbed_text.le_attrs['transformation_provenance']\n",
    "    feature_history = perturbed_text.le_attrs['feature_provenance']\n",
    "    print(\"transformation history:\")\n",
    "    print(transformation_history)\n",
    "    print(\"feature history:\")\n",
    "    print(feature_history)\n",
    "\n",
    "    order = {}\n",
    "    for trans in feature_history.history:\n",
    "        ind = trans[1][0]\n",
    "        order[ind]= trans[0]\n",
    "        \n",
    "    #modified_inds = []\n",
    "    #for i, token in enumerate(perturbed_text.tokens):\n",
    "    #    if token.le_attrs['ops']:\n",
    "    #        modified_inds.append(i)\n",
    "    \n",
    "    return original_words, perturbed_words, order"
   ]
  },
  {
   "cell_type": "code",
   "execution_count": 7,
   "metadata": {},
   "outputs": [],
   "source": [
    "def get_explanations(results, idx, explainer, target_model_predictor):\n",
    "    original_text = results[idx].original_result.attacked_text\n",
    "    perturbed_text = results[idx].perturbed_result.attacked_text\n",
    "    \n",
    "    exp1 = explainer.explain_instance(original_text.printable_text(), target_model_predictor, num_features=5, num_samples=100).as_map()[1]\n",
    "    exp2 = explainer.explain_instance(perturbed_text.printable_text(), target_model_predictor, num_features=5, num_samples=100).as_map()[1]\n",
    "    \n",
    "    return (exp1, exp2)"
   ]
  },
  {
   "cell_type": "code",
   "execution_count": 8,
   "metadata": {},
   "outputs": [],
   "source": [
    "import matplotlib.pyplot as plt\n",
    "\n",
    "def get_ax_size(ax, fig):\n",
    "    bbox = ax.get_window_extent().transformed(fig.dpi_scale_trans.inverted())\n",
    "    width, height = bbox.width, bbox.height\n",
    "    width *= fig.dpi\n",
    "    height *= fig.dpi\n",
    "    return width, height"
   ]
  },
  {
   "cell_type": "code",
   "execution_count": 9,
   "metadata": {},
   "outputs": [],
   "source": [
    "def draw_exp_and_order(exps, original_words, perturbed_words, lengths):\n",
    "    exp1, exp2 = exps\n",
    "    fig, ax = plt.subplots(2, len(original_words), figsize=(20,2), sharex=True, gridspec_kw={'width_ratios': lengths})\n",
    "\n",
    "    exp1_iter = iter(sorted(exp1))\n",
    "    exp2_iter = iter(sorted(exp2))\n",
    "\n",
    "    cur_exp1 = next(exp1_iter)\n",
    "    cur_exp2 = next(exp2_iter)\n",
    "\n",
    "\n",
    "    for i in range(len(original_words)):\n",
    "        cur_ax = ax[1, i]\n",
    "        above_ax = ax[0, i]\n",
    "        \n",
    "        width, height = get_ax_size(cur_ax, fig)\n",
    "        width = width / height\n",
    "        \n",
    "        above_ax.set_axis_off()\n",
    "        cur_ax.set_axis_off()\n",
    "\n",
    "        color1 = color2 = 'black'\n",
    "        if i in order:\n",
    "            color1 = 'green'\n",
    "            color2 = 'red'\n",
    "            cur_ax.annotate(str(order[i]), xy=(0.5, 0.2), xytext=(0.5, -0.5),\n",
    "                           fontsize=14, ha='center', va='bottom', xycoords='axes fraction', \n",
    "                           bbox=dict(boxstyle='circle', fc='0.95'),\n",
    "                           arrowprops=dict(arrowstyle=f'-[, widthB={width}, lengthB=.5', lw=1.5))\n",
    "        pos_color = 'orange'\n",
    "        neg_color = 'purple'\n",
    "\n",
    "        kwargs1 = dict()\n",
    "        if cur_exp1 and cur_exp1[0] == i:\n",
    "            box_color = neg_color\n",
    "            score = cur_exp1[1]\n",
    "            if score > 0:\n",
    "                box_color = pos_color\n",
    "            try:\n",
    "                cur_exp1 = next(exp1_iter)\n",
    "            except StopIteration:\n",
    "                cur_exp1 = None\n",
    "\n",
    "            kwargs1 = dict(bbox=dict(facecolor=box_color, alpha= abs(score), edgecolor=box_color))\n",
    "\n",
    "        kwargs2 = dict()\n",
    "        if cur_exp2 and cur_exp2[0] == i:\n",
    "            box_color = neg_color\n",
    "            score = cur_exp2[1]\n",
    "            if score > 0:\n",
    "                box_color = pos_color\n",
    "            try:\n",
    "                cur_exp2 = next(exp2_iter)\n",
    "            except StopIteration:\n",
    "                cur_exp2 = None\n",
    "            kwargs2 = dict(bbox=dict(facecolor=box_color, alpha= abs(score), edgecolor=box_color))\n",
    "\n",
    "        above_ax.text(.5, 0, original_words[i], fontsize=16, color=color1, **kwargs1, horizontalalignment='center', verticalalignment='center',)\n",
    "        cur_ax.text(.5, .6, perturbed_words[i], fontsize=16, color=color2, **kwargs2, horizontalalignment='center', verticalalignment='center',)\n"
   ]
  },
  {
   "cell_type": "code",
   "execution_count": 13,
   "metadata": {},
   "outputs": [
    {
     "name": "stdout",
     "output_type": "stream",
     "text": [
      "transformation history:\n",
      "{(1, '{\\'module_name\\': \\'textattack.transformations.word_swaps.word_swap_embedding\\', \\'class_name\\': \\'WordSwapEmbedding\\', \\'trans_fn_name\\': \\'_get_transformations\\', \\'init_args\\': \\'null\\', \\'init_kwargs\\': \\'{\"max_candidates\": 20}\\', \\'transform_args\\': \\'null\\', \\'transform_kwargs\\': \\'{}\\'}'), (2, '{\\'module_name\\': \\'textattack.transformations.word_swaps.word_swap_embedding\\', \\'class_name\\': \\'WordSwapEmbedding\\', \\'trans_fn_name\\': \\'_get_transformations\\', \\'init_args\\': \\'null\\', \\'init_kwargs\\': \\'{\"max_candidates\": 20}\\', \\'transform_args\\': \\'null\\', \\'transform_kwargs\\': \\'{}\\'}'), (0, '{\\'module_name\\': \\'textattack.transformations.word_swaps.word_swap_embedding\\', \\'class_name\\': \\'WordSwapEmbedding\\', \\'trans_fn_name\\': \\'_get_transformations\\', \\'init_args\\': \\'null\\', \\'init_kwargs\\': \\'{\"max_candidates\": 20}\\', \\'transform_args\\': \\'null\\', \\'transform_kwargs\\': \\'{}\\'}'), (3, '{\\'module_name\\': \\'textattack.transformations.word_swaps.word_swap_embedding\\', \\'class_name\\': \\'WordSwapEmbedding\\', \\'trans_fn_name\\': \\'_get_transformations\\', \\'init_args\\': \\'null\\', \\'init_kwargs\\': \\'{\"max_candidates\": 20}\\', \\'transform_args\\': \\'null\\', \\'transform_kwargs\\': \\'{}\\'}')}\n",
      "feature history:\n",
      "edit_seq={(2, (11, 12), 'replace: [11,12]-[11,12]'), (3, (9, 10), 'replace: [9,10]-[9,10]'), (0, (2, 3), 'replace: [2,3]-[2,3]'), (1, (7, 8), 'replace: [7,8]-[7,8]')}\n"
     ]
    },
    {
     "name": "stderr",
     "output_type": "stream",
     "text": [
      "/home/coraline/anaconda3/envs/dpml/lib/python3.7/site-packages/ipykernel_launcher.py:13: UserWarning: Implicit dimension choice for softmax has been deprecated. Change the call to include dim=X as an argument.\n",
      "  del sys.path[0]\n",
      "/home/coraline/anaconda3/envs/dpml/lib/python3.7/site-packages/ipykernel_launcher.py:13: UserWarning: Implicit dimension choice for softmax has been deprecated. Change the call to include dim=X as an argument.\n",
      "  del sys.path[0]\n"
     ]
    },
    {
     "data": {
      "image/png": "[encoded data removed]",
      "text/plain": [
       "<Figure size 1440x144 with 30 Axes>"
      ]
     },
     "metadata": {
      "needs_background": "light"
     },
     "output_type": "display_data"
    }
   ],
   "source": [
    "idx = 12\n",
    "original_words, perturbed_words, order = get_texts_and_order(results, idx)\n",
    "exps = get_explanations(results, idx, explainer, target_model_predictor)\n",
    "lengths = list(map(lambda x, y: max(len(x), len(y)), original_words, perturbed_words))\n",
    "draw_exp_and_order(exps, original_words, perturbed_words, lengths)"
   ]
  },
  {
   "cell_type": "markdown",
   "metadata": {},
   "source": [
    "## infer transformation history"
   ]
  },
  {
   "cell_type": "code",
   "execution_count": 4,
   "metadata": {},
   "outputs": [],
   "source": [
    "from lineage import InferQuery\n",
    "queryAPI = InferQuery()"
   ]
  },
  {
   "cell_type": "code",
   "execution_count": 5,
   "metadata": {
    "scrolled": false
   },
   "outputs": [
    {
     "name": "stdout",
     "output_type": "stream",
     "text": [
      "it 's a charming and often affecting journey . \n",
      "{'class': 'WordSwapEmbedding', 'max_candidates': 20, 'embedding': WordEmbedding}:\n",
      "\treplace [5]-->[5]\n",
      "it 's a charming and normally affecting journey . \n",
      "\n",
      "unflinchingly bleak and desperate \n",
      "{'class': 'WordSwapEmbedding', 'max_candidates': 20, 'embedding': WordEmbedding}:\n",
      "\treplace [1]-->[1]\n",
      "unflinchingly grim and desperate \n",
      "\n",
      "allows us to hope that nolan is poised to embark a major career as a commercial yet inventive filmmaker . \n",
      "{'class': 'WordSwapEmbedding', 'max_candidates': 20, 'embedding': WordEmbedding}:\n",
      "\treplace [7]-->[7]\n",
      "allows us to hope that nolan is prepped to embark a major career as a commercial yet inventive filmmaker . \n",
      "{'class': 'WordSwapEmbedding', 'max_candidates': 20, 'embedding': WordEmbedding}:\n",
      "\treplace [3]-->[3]\n",
      "allows us to hopes that nolan is prepped to embark a major career as a commercial yet inventive filmmaker . \n",
      "{'class': 'WordSwapEmbedding', 'max_candidates': 20, 'embedding': WordEmbedding}:\n",
      "\treplace [0]-->[0]\n",
      "authorizes us to hopes that nolan is prepped to embark a major career as a commercial yet inventive filmmaker . \n",
      "{'class': 'WordSwapEmbedding', 'max_candidates': 20, 'embedding': WordEmbedding}:\n",
      "\treplace [9]-->[9]\n",
      "authorizes us to hopes that nolan is prepped to engage a major career as a commercial yet inventive filmmaker . \n",
      "\n",
      "the acting , costumes , music , cinematography and sound are all astounding given the production 's austere locales . \n",
      "{'class': 'WordSwapEmbedding', 'max_candidates': 20, 'embedding': WordEmbedding}:\n",
      "\treplace [9]-->[9]\n",
      "the acting , costumes , music , cinematography and sound are all staggering given the production 's austere locales . \n",
      "{'class': 'WordSwapEmbedding', 'max_candidates': 20, 'embedding': WordEmbedding}:\n",
      "\treplace [12]-->[12]\n",
      "the acting , costumes , music , cinematography and sound are all staggering given the productivity 's austere locales . \n",
      "\n",
      "it 's slow -- very , very slow . \n",
      "{'class': 'WordSwapEmbedding', 'max_candidates': 20, 'embedding': WordEmbedding}:\n",
      "\treplace [5]-->[5]\n",
      "it 's slow -- very , very slower . \n",
      "\n",
      "although laced with humor and a few fanciful touches , the film is a refreshingly serious look at young women . \n",
      "{'class': 'WordSwapEmbedding', 'max_candidates': 20, 'embedding': WordEmbedding}:\n",
      "\treplace [13]-->[13]\n",
      "although laced with humor and a few fanciful touches , the film is a cheerfully serious look at young women . \n",
      "{'class': 'WordSwapEmbedding', 'max_candidates': 20, 'embedding': WordEmbedding}:\n",
      "\treplace [3]-->[3]\n",
      "although laced with mood and a few fanciful touches , the film is a cheerfully serious look at young women . \n",
      "{'class': 'WordSwapEmbedding', 'max_candidates': 20, 'embedding': WordEmbedding}:\n",
      "\treplace [10]-->[10]\n",
      "although laced with mood and a few fanciful touches , the films is a cheerfully serious look at young women . \n",
      "{'class': 'WordSwapEmbedding', 'max_candidates': 20, 'embedding': WordEmbedding}:\n",
      "\treplace [18]-->[18]\n",
      "although laced with mood and a few fanciful touches , the films is a cheerfully serious look at young female . \n",
      "\n",
      "a sometimes tedious film . \n",
      "{'class': 'WordSwapEmbedding', 'max_candidates': 20, 'embedding': WordEmbedding}:\n",
      "\treplace [1]-->[1]\n",
      "a occasionally tedious film . \n",
      "{'class': 'WordSwapEmbedding', 'max_candidates': 20, 'embedding': WordEmbedding}:\n",
      "\treplace [3]-->[3]\n",
      "a occasionally tedious movies . \n",
      "\n",
      "or doing last year 's taxes with your ex-wife . \n",
      "{'class': 'WordSwapEmbedding', 'max_candidates': 20, 'embedding': WordEmbedding}:\n",
      "\treplace [5]-->[5]\n",
      "or doing last year 's taxation with your ex-wife . \n",
      "\n",
      "you do n't have to know about music to appreciate the film 's easygoing blend of comedy and romance . \n",
      "{'class': 'WordSwapEmbedding', 'max_candidates': 20, 'embedding': WordEmbedding}:\n",
      "\treplace [9]-->[9]\n",
      "you do n't have to know about music to thankful the film 's easygoing blend of comedy and romance . \n",
      "{'class': 'WordSwapEmbedding', 'max_candidates': 20, 'embedding': WordEmbedding}:\n",
      "\treplace [14]-->[14]\n",
      "you do n't have to know about music to thankful the film 's easygoing amalgam of comedy and romance . \n",
      "{'class': 'WordSwapEmbedding', 'max_candidates': 20, 'embedding': WordEmbedding}:\n",
      "\treplace [18]-->[18]\n",
      "you do n't have to know about music to thankful the film 's easygoing amalgam of comedy and romanticism . \n",
      "{'class': 'WordSwapEmbedding', 'max_candidates': 20, 'embedding': WordEmbedding}:\n",
      "\treplace [11]-->[11]\n",
      "you do n't have to know about music to thankful the cinema 's easygoing amalgam of comedy and romanticism . \n",
      "\n",
      "in exactly 89 minutes , most of which passed as slowly as if i 'd been sitting naked on an igloo , formula 51 sank from quirky to jerky to utter turkey . \n",
      "{'class': 'WordSwapEmbedding', 'max_candidates': 20, 'embedding': WordEmbedding}:\n",
      "\treplace [29]-->[29]\n",
      "in exactly 89 minutes , most of which passed as slowly as if i 'd been sitting naked on an igloo , formula 51 sank from quirky to jerky to utter ankara . \n",
      "{'class': 'WordSwapEmbedding', 'max_candidates': 20, 'embedding': WordEmbedding}:\n",
      "\treplace [22]-->[22]\n",
      "in exactly 89 minutes , most of which passed as slowly as if i 'd been sitting naked on an igloo , formula 51 sunk from quirky to jerky to utter ankara . \n",
      "{'class': 'WordSwapEmbedding', 'max_candidates': 20, 'embedding': WordEmbedding}:\n",
      "\treplace [28]-->[28]\n",
      "in exactly 89 minutes , most of which passed as slowly as if i 'd been sitting naked on an igloo , formula 51 sunk from quirky to jerky to absolute ankara . \n",
      "{'class': 'WordSwapEmbedding', 'max_candidates': 20, 'embedding': WordEmbedding}:\n",
      "\treplace [24]-->[24]\n",
      "in exactly 89 minutes , most of which passed as slowly as if i 'd been sitting naked on an igloo , formula 51 sunk from moody to jerky to absolute ankara . \n",
      "\n",
      "the mesmerizing performances of the leads keep the film grounded and keep the audience riveted . \n",
      "{'class': 'WordSwapEmbedding', 'max_candidates': 20, 'embedding': WordEmbedding}:\n",
      "\treplace [9]-->[9]\n",
      "the mesmerizing performances of the leads keep the film anchored and keep the audience riveted . \n",
      "{'class': 'WordSwapEmbedding', 'max_candidates': 20, 'embedding': WordEmbedding}:\n",
      "\treplace [6]-->[6]\n",
      "the mesmerizing performances of the leads maintain the film anchored and keep the audience riveted . \n",
      "{'class': 'WordSwapEmbedding', 'max_candidates': 20, 'embedding': WordEmbedding}:\n",
      "\treplace [13]-->[13]\n",
      "the mesmerizing performances of the leads maintain the film anchored and keep the spectators riveted . \n",
      "{'class': 'WordSwapEmbedding', 'max_candidates': 20, 'embedding': WordEmbedding}:\n",
      "\treplace [8]-->[8]\n",
      "the mesmerizing performances of the leads maintain the movie anchored and keep the spectators riveted . \n",
      "\n",
      "it takes a strange kind of laziness to waste the talents of robert forster , anne meara , eugene levy , and reginald veljohnson all in the same movie . \n",
      "{'class': 'WordSwapEmbedding', 'max_candidates': 20, 'embedding': WordEmbedding}:\n",
      "\treplace [8]-->[8]\n",
      "it takes a strange kind of laziness to squandering the talents of robert forster , anne meara , eugene levy , and reginald veljohnson all in the same movie . \n",
      "{'class': 'WordSwapEmbedding', 'max_candidates': 20, 'embedding': WordEmbedding}:\n",
      "\treplace [3]-->[3]\n",
      "it takes a inquisitive kind of laziness to squandering the talents of robert forster , anne meara , eugene levy , and reginald veljohnson all in the same movie . \n",
      "{'class': 'WordSwapEmbedding', 'max_candidates': 20, 'embedding': WordEmbedding}:\n",
      "\treplace [25]-->[25]\n",
      "it takes a inquisitive kind of laziness to squandering the talents of robert forster , anne meara , eugene levy , and reginald veljohnson all in the same film . \n",
      "{'class': 'WordSwapEmbedding', 'max_candidates': 20, 'embedding': WordEmbedding}:\n",
      "\treplace [4]-->[4]\n",
      "it takes a inquisitive genus of laziness to squandering the talents of robert forster , anne meara , eugene levy , and reginald veljohnson all in the same film . \n",
      "\n",
      "... the film suffers from a lack of humor ( something needed to balance out the violence ) ... \n",
      "{'class': 'WordSwapEmbedding', 'max_candidates': 20, 'embedding': WordEmbedding}:\n",
      "\treplace [2]-->[2]\n",
      "... the film undergo from a lack of humor ( something needed to balance out the violence ) ... \n",
      "{'class': 'WordSwapEmbedding', 'max_candidates': 20, 'embedding': WordEmbedding}:\n",
      "\treplace [7]-->[7]\n",
      "... the film undergo from a lack of mood ( something needed to balance out the violence ) ... \n",
      "{'class': 'WordSwapEmbedding', 'max_candidates': 20, 'embedding': WordEmbedding}:\n",
      "\treplace [11]-->[11]\n",
      "... the film undergo from a lack of mood ( something needed to balancing out the violence ) ... \n",
      "{'class': 'WordSwapEmbedding', 'max_candidates': 20, 'embedding': WordEmbedding}:\n",
      "\treplace [9]-->[9]\n",
      "... the film undergo from a lack of mood ( something need to balancing out the violence ) ... \n",
      "\n",
      "we root for ( clara and paul ) , even like them , though perhaps it 's an emotion closer to pity . \n",
      "\n",
      "even horror fans will most likely not find what they 're seeking with trouble every day ; the movie lacks both thrills and humor . \n",
      "{'class': 'WordSwapEmbedding', 'max_candidates': 20, 'embedding': WordEmbedding}:\n",
      "\treplace [18]-->[18]\n",
      "even horror fans will most likely not find what they 're seeking with trouble every day ; the movie lacked both thrills and humor . \n",
      "{'class': 'WordSwapEmbedding', 'max_candidates': 20, 'embedding': WordEmbedding}:\n",
      "\treplace [22]-->[22]\n",
      "even horror fans will most likely not find what they 're seeking with trouble every day ; the movie lacked both thrills and comedy . \n",
      "{'class': 'WordSwapEmbedding', 'max_candidates': 20, 'embedding': WordEmbedding}:\n",
      "\treplace [13]-->[13]\n",
      "even horror fans will most likely not find what they 're seeking with difficulty every day ; the movie lacked both thrills and comedy . \n",
      "{'class': 'WordSwapEmbedding', 'max_candidates': 20, 'embedding': WordEmbedding}:\n",
      "\treplace [5]-->[5]\n",
      "even horror fans will most perhaps not find what they 're seeking with difficulty every day ; the movie lacked both thrills and comedy . \n",
      "\n",
      "a gorgeous , high-spirited musical from india that exquisitely blends music , dance , song , and high drama . \n",
      "{'class': 'WordSwapEmbedding', 'max_candidates': 20, 'embedding': WordEmbedding}:\n",
      "\treplace [1]-->[1]\n",
      "a magnifique , high-spirited musical from india that exquisitely blends music , dance , song , and high drama . \n",
      "{'class': 'WordSwapEmbedding', 'max_candidates': 20, 'embedding': WordEmbedding}:\n",
      "\treplace [7]-->[7]\n",
      "a magnifique , high-spirited musical from india that finely blends music , dance , song , and high drama . \n",
      "{'class': 'WordSwapEmbedding', 'max_candidates': 20, 'embedding': WordEmbedding}:\n",
      "\treplace [3]-->[3]\n",
      "a magnifique , high-spirited music from india that finely blends music , dance , song , and high drama . \n",
      "{'class': 'WordSwapEmbedding', 'max_candidates': 20, 'embedding': WordEmbedding}:\n",
      "\treplace [14]-->[14]\n",
      "a magnifique , high-spirited music from india that finely blends music , dance , song , and high teatro . \n",
      "\n",
      "the emotions are raw and will strike a nerve with anyone who 's ever had family trauma . \n",
      "{'class': 'WordSwapEmbedding', 'max_candidates': 20, 'embedding': WordEmbedding}:\n",
      "\treplace [3]-->[3]\n",
      "the emotions are untreated and will strike a nerve with anyone who 's ever had family trauma . \n",
      "\n",
      "audrey tatou has a knack for picking roles that magnify her outrageous charm , and in this literate french comedy , she 's as morning-glory exuberant as she was in amélie . \n",
      "{'class': 'WordSwapEmbedding', 'max_candidates': 20, 'embedding': WordEmbedding}:\n",
      "\treplace [23]-->[23]\n",
      "audrey tatou has a knack for picking roles that magnify her outrageous charm , and in this literate french comedy , she 's as morning-glory luxuriant as she was in amélie . \n",
      "{'class': 'WordSwapEmbedding', 'max_candidates': 20, 'embedding': WordEmbedding}:\n",
      "\treplace [16]-->[16]\n",
      "audrey tatou has a knack for picking roles that magnify her outrageous charm , and in this schooled french comedy , she 's as morning-glory luxuriant as she was in amélie . \n",
      "{'class': 'WordSwapEmbedding', 'max_candidates': 20, 'embedding': WordEmbedding}:\n",
      "\treplace [11]-->[11]\n",
      "audrey tatou has a knack for picking roles that magnify her repugnant charm , and in this schooled french comedy , she 's as morning-glory luxuriant as she was in amélie . \n",
      "{'class': 'WordSwapEmbedding', 'max_candidates': 20, 'embedding': WordEmbedding}:\n",
      "\treplace [18]-->[18]\n",
      "audrey tatou has a knack for picking roles that magnify her repugnant charm , and in this schooled french parody , she 's as morning-glory luxuriant as she was in amélie . \n",
      "\n",
      "... the movie is just a plain old monster . \n",
      "{'class': 'WordSwapEmbedding', 'max_candidates': 20, 'embedding': WordEmbedding}:\n",
      "\treplace [7]-->[7]\n",
      "... the movie is just a plain old monsters . \n",
      "{'class': 'WordSwapEmbedding', 'max_candidates': 20, 'embedding': WordEmbedding}:\n",
      "\treplace [1]-->[1]\n",
      "... the films is just a plain old monsters . \n",
      "\n",
      "in its best moments , resembles a bad high school production of grease , without benefit of song . \n",
      "{'class': 'WordSwapEmbedding', 'max_candidates': 20, 'embedding': WordEmbedding}:\n",
      "\treplace [6]-->[6]\n",
      "in its best moments , resembles a wicked high school production of grease , without benefit of song . \n",
      "{'class': 'WordSwapEmbedding', 'max_candidates': 20, 'embedding': WordEmbedding}:\n",
      "\treplace [4]-->[4]\n",
      "in its best moments , reminds a wicked high school production of grease , without benefit of song . \n",
      "{'class': 'WordSwapEmbedding', 'max_candidates': 20, 'embedding': WordEmbedding}:\n",
      "\treplace [2]-->[2]\n",
      "in its finest moments , reminds a wicked high school production of grease , without benefit of song . \n",
      "{'class': 'WordSwapEmbedding', 'max_candidates': 20, 'embedding': WordEmbedding}:\n",
      "\treplace [15]-->[15]\n",
      "in its finest moments , reminds a wicked high school production of grease , without benefit of chanson . \n",
      "\n"
     ]
    }
   ],
   "source": [
    "for result in results:\n",
    "    original_text = result.original_result.attacked_text\n",
    "    perturbed_text = result.perturbed_result.attacked_text\n",
    "    \n",
    "    trans_trace = queryAPI.get_transfromation_history(perturbed_text)\n",
    "    \n",
    "    for trans in trans_trace:\n",
    "        print(trans)\n",
    "    print()"
   ]
  },
  {
   "cell_type": "code",
   "execution_count": null,
   "metadata": {},
   "outputs": [],
   "source": []
  }
 ],
 "metadata": {
  "kernelspec": {
   "display_name": "dpml",
   "language": "python",
   "name": "dpml"
  },
  "language_info": {
   "codemirror_mode": {
    "name": "ipython",
    "version": 3
   },
   "file_extension": ".py",
   "mimetype": "text/x-python",
   "name": "python",
   "nbconvert_exporter": "python",
   "pygments_lexer": "ipython3",
   "version": "3.7.13"
  }
 },
 "nbformat": 4,
 "nbformat_minor": 4
}
