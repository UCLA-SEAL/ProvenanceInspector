{
 "cells": [
  {
   "cell_type": "code",
   "execution_count": 25,
   "id": "60a55452",
   "metadata": {},
   "outputs": [],
   "source": [
    "import pandas as pd\n",
    "import numpy as np"
   ]
  },
  {
   "cell_type": "code",
   "execution_count": 3,
   "id": "f173ad4c",
   "metadata": {},
   "outputs": [
    {
     "name": "stdout",
     "output_type": "stream",
     "text": [
      "out_human.csv\r\n"
     ]
    }
   ],
   "source": [
    "ls results_sibyl"
   ]
  },
  {
   "cell_type": "code",
   "execution_count": 39,
   "id": "291bed3a",
   "metadata": {},
   "outputs": [],
   "source": [
    "df = pd.read_csv('results_sibyl/log.csv', index_col=0)\n",
    "df.rename(columns = {'oringal_label':'ground_truth_output', \n",
    "                     'transformed_text':'perturbed_text',\n",
    "                    'transformed_label':'perturbed_output'}, inplace = True)"
   ]
  },
  {
   "cell_type": "code",
   "execution_count": 40,
   "id": "25c5fd9c",
   "metadata": {},
   "outputs": [],
   "source": [
    "out_human_df = df[['original_text', 'perturbed_text', 'ground_truth_output', 'human']]"
   ]
  },
  {
   "cell_type": "code",
   "execution_count": 41,
   "id": "b3f8c5b8",
   "metadata": {},
   "outputs": [
    {
     "name": "stderr",
     "output_type": "stream",
     "text": [
      "/home/coraline/anaconda3/envs/dpml/lib/python3.7/site-packages/ipykernel_launcher.py:10: SettingWithCopyWarning: \n",
      "A value is trying to be set on a copy of a slice from a DataFrame.\n",
      "Try using .loc[row_indexer,col_indexer] = value instead\n",
      "\n",
      "See the caveats in the documentation: https://pandas.pydata.org/pandas-docs/stable/user_guide/indexing.html#returning-a-view-versus-a-copy\n",
      "  # Remove the CWD from sys.path while we load stuff.\n"
     ]
    }
   ],
   "source": [
    "val_mapping = {\n",
    "    \"Fully Mismatched\" : \"Negative\",\n",
    "    \"Mostly Mismatched\" : \"Negative\",\n",
    "    \"Could Go Either Way\" : \"Negative\",\n",
    "    \"Mostly Aligned\" : \"Positive\",\n",
    "    \"Fully Aligned\" : \"Positive\",\n",
    "    np.nan: None\n",
    "}\n",
    "out_human_df['human'] = pd.Series(map(lambda x: val_mapping[x],\n",
    "                                      out_human_df.human.values.tolist()), out_human_df.index)"
   ]
  },
  {
   "cell_type": "code",
   "execution_count": 43,
   "id": "97148769",
   "metadata": {},
   "outputs": [],
   "source": [
    "out_human_df.to_csv('results_sibyl/out_human.csv', mode='w', index=False)"
   ]
  },
  {
   "cell_type": "code",
   "execution_count": 44,
   "id": "a51c9391",
   "metadata": {},
   "outputs": [
    {
     "data": {
      "text/html": [
       "<div>\n",
       "<style scoped>\n",
       "    .dataframe tbody tr th:only-of-type {\n",
       "        vertical-align: middle;\n",
       "    }\n",
       "\n",
       "    .dataframe tbody tr th {\n",
       "        vertical-align: top;\n",
       "    }\n",
       "\n",
       "    .dataframe thead th {\n",
       "        text-align: right;\n",
       "    }\n",
       "</style>\n",
       "<table border=\"1\" class=\"dataframe\">\n",
       "  <thead>\n",
       "    <tr style=\"text-align: right;\">\n",
       "      <th></th>\n",
       "      <th>original_text</th>\n",
       "      <th>perturbed_text</th>\n",
       "      <th>ground_truth_output</th>\n",
       "      <th>human</th>\n",
       "    </tr>\n",
       "  </thead>\n",
       "  <tbody>\n",
       "    <tr>\n",
       "      <th>0</th>\n",
       "      <td>hide new secretions from the parental units</td>\n",
       "      <td>b'hide new process from the parental organizat...</td>\n",
       "      <td>0</td>\n",
       "      <td>Positive</td>\n",
       "    </tr>\n",
       "    <tr>\n",
       "      <th>1</th>\n",
       "      <td>contains no wit , only labored gags</td>\n",
       "      <td>b\"contains no somebody , only assay witticism ...</td>\n",
       "      <td>0</td>\n",
       "      <td>Positive</td>\n",
       "    </tr>\n",
       "    <tr>\n",
       "      <th>2</th>\n",
       "      <td>that loves its characters and communicates som...</td>\n",
       "      <td>b'that like its grownup and displace something...</td>\n",
       "      <td>1</td>\n",
       "      <td>Positive</td>\n",
       "    </tr>\n",
       "    <tr>\n",
       "      <th>3</th>\n",
       "      <td>remains utterly satisfied to remain the same t...</td>\n",
       "      <td>b'remains utterly satisfied to be the same thr...</td>\n",
       "      <td>0</td>\n",
       "      <td>Positive</td>\n",
       "    </tr>\n",
       "    <tr>\n",
       "      <th>4</th>\n",
       "      <td>on the worst revenge-of-the-nerds clichés the ...</td>\n",
       "      <td>b'on the worst revenge-of-the-nerds clich\\xc3\\...</td>\n",
       "      <td>0</td>\n",
       "      <td>Positive</td>\n",
       "    </tr>\n",
       "    <tr>\n",
       "      <th>...</th>\n",
       "      <td>...</td>\n",
       "      <td>...</td>\n",
       "      <td>...</td>\n",
       "      <td>...</td>\n",
       "    </tr>\n",
       "    <tr>\n",
       "      <th>495</th>\n",
       "      <td>worth a</td>\n",
       "      <td>worth a</td>\n",
       "      <td>1</td>\n",
       "      <td>Positive</td>\n",
       "    </tr>\n",
       "    <tr>\n",
       "      <th>496</th>\n",
       "      <td>, reality shows -- reality shows for god 's sa...</td>\n",
       "      <td>, reality shows -- reality shows for god 's sa...</td>\n",
       "      <td>0</td>\n",
       "      <td>Positive</td>\n",
       "    </tr>\n",
       "    <tr>\n",
       "      <th>497</th>\n",
       "      <td>whatever the movie 's sentimental , hypocritic...</td>\n",
       "      <td>whatever the movie 's sentimental , hypocritic...</td>\n",
       "      <td>0</td>\n",
       "      <td>Positive</td>\n",
       "    </tr>\n",
       "    <tr>\n",
       "      <th>498</th>\n",
       "      <td>ll cry for your money back</td>\n",
       "      <td>ll cry for your money back</td>\n",
       "      <td>0</td>\n",
       "      <td>Positive</td>\n",
       "    </tr>\n",
       "    <tr>\n",
       "      <th>499</th>\n",
       "      <td>enthralling</td>\n",
       "      <td>enthralling</td>\n",
       "      <td>1</td>\n",
       "      <td>Positive</td>\n",
       "    </tr>\n",
       "  </tbody>\n",
       "</table>\n",
       "<p>500 rows × 4 columns</p>\n",
       "</div>"
      ],
      "text/plain": [
       "                                         original_text  \\\n",
       "0          hide new secretions from the parental units   \n",
       "1                  contains no wit , only labored gags   \n",
       "2    that loves its characters and communicates som...   \n",
       "3    remains utterly satisfied to remain the same t...   \n",
       "4    on the worst revenge-of-the-nerds clichés the ...   \n",
       "..                                                 ...   \n",
       "495                                            worth a   \n",
       "496  , reality shows -- reality shows for god 's sa...   \n",
       "497  whatever the movie 's sentimental , hypocritic...   \n",
       "498                         ll cry for your money back   \n",
       "499                                        enthralling   \n",
       "\n",
       "                                        perturbed_text  ground_truth_output  \\\n",
       "0    b'hide new process from the parental organizat...                    0   \n",
       "1    b\"contains no somebody , only assay witticism ...                    0   \n",
       "2    b'that like its grownup and displace something...                    1   \n",
       "3    b'remains utterly satisfied to be the same thr...                    0   \n",
       "4    b'on the worst revenge-of-the-nerds clich\\xc3\\...                    0   \n",
       "..                                                 ...                  ...   \n",
       "495                                            worth a                    1   \n",
       "496  , reality shows -- reality shows for god 's sa...                    0   \n",
       "497  whatever the movie 's sentimental , hypocritic...                    0   \n",
       "498                         ll cry for your money back                    0   \n",
       "499                                        enthralling                    1   \n",
       "\n",
       "        human  \n",
       "0    Positive  \n",
       "1    Positive  \n",
       "2    Positive  \n",
       "3    Positive  \n",
       "4    Positive  \n",
       "..        ...  \n",
       "495  Positive  \n",
       "496  Positive  \n",
       "497  Positive  \n",
       "498  Positive  \n",
       "499  Positive  \n",
       "\n",
       "[500 rows x 4 columns]"
      ]
     },
     "execution_count": 44,
     "metadata": {},
     "output_type": "execute_result"
    }
   ],
   "source": [
    "pd.read_csv('results_sibyl/out_human.csv')"
   ]
  },
  {
   "cell_type": "code",
   "execution_count": null,
   "id": "e8086694",
   "metadata": {},
   "outputs": [],
   "source": []
  }
 ],
 "metadata": {
  "kernelspec": {
   "display_name": "dpml",
   "language": "python",
   "name": "dpml"
  },
  "language_info": {
   "codemirror_mode": {
    "name": "ipython",
    "version": 3
   },
   "file_extension": ".py",
   "mimetype": "text/x-python",
   "name": "python",
   "nbconvert_exporter": "python",
   "pygments_lexer": "ipython3",
   "version": "3.7.13"
  }
 },
 "nbformat": 4,
 "nbformat_minor": 5
}
