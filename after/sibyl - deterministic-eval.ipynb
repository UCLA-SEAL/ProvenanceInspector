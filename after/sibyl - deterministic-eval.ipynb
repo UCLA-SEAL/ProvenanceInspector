{
 "cells": [
  {
   "cell_type": "code",
   "execution_count": null,
   "id": "b5609047",
   "metadata": {},
   "outputs": [],
   "source": [
    "from sibyl import init_transforms\n",
    "from datasets import load_dataset\n",
    "import numpy as np\n",
    "from tqdm.notebook import tqdm"
   ]
  },
  {
   "cell_type": "code",
   "execution_count": null,
   "id": "aad8287d",
   "metadata": {},
   "outputs": [],
   "source": [
    "num_samples = 1000\n",
    "dataset = load_dataset(\"glue\", \"sst2\", split=f\"train[:{num_samples}]\")\n",
    "dataset = dataset.rename_column('sentence', 'text')"
   ]
  },
  {
   "cell_type": "code",
   "execution_count": null,
   "id": "a94eca5a",
   "metadata": {},
   "outputs": [],
   "source": [
    "def all_equal(iterator):\n",
    "    if isinstance(iterator[0], np.ndarray):\n",
    "        first = iterator[0]\n",
    "        for item in iterator:\n",
    "            if not np.array_equal(first, item):\n",
    "                # print(first)\n",
    "                # print(item)\n",
    "                return False\n",
    "        return True\n",
    "    elif isinstance(iterator[0], list):\n",
    "        first = iterator[0]\n",
    "        for item in iterator:\n",
    "            if first != item:\n",
    "                # print(first)\n",
    "                # print(item)\n",
    "                return False\n",
    "        return True\n",
    "    else:\n",
    "        if len(set(iterator)) > 1:\n",
    "            # print(set(iterator))\n",
    "            return False\n",
    "        return True\n",
    "    \n",
    "def batched_equal(iterator):\n",
    "    \"\"\"\n",
    "    Intakes a list of lists where each sublist is a batch\n",
    "    and each batch[i] are checked for equivalence\n",
    "    \"\"\"\n",
    "    num_samples = len(iterator[0])\n",
    "    return all([all_equal([l[i] for l in iterator]) for i in range(num_samples)])"
   ]
  },
  {
   "cell_type": "markdown",
   "id": "0ec6fec7",
   "metadata": {},
   "source": [
    "# Individual Study"
   ]
  },
  {
   "cell_type": "code",
   "execution_count": null,
   "id": "4395da0c",
   "metadata": {},
   "outputs": [],
   "source": [
    "df = init_transforms(task_name=\"sentiment\", dataset=\"sst2\")"
   ]
  },
  {
   "cell_type": "code",
   "execution_count": null,
   "id": "3a5c3300",
   "metadata": {},
   "outputs": [],
   "source": [
    "num_trials = 100\n",
    "batch_size = 1\n",
    "texts, targets = dataset['text'], dataset['label'] \n",
    "\n",
    "stochastic_transforms = set()\n",
    "for i, row in tqdm(df.iterrows(), total=len(df)):\n",
    "    t = row['tran_fn']\n",
    "    for text, target in zip(texts, targets):\n",
    "        candidate_texts, candidate_targets = [], []\n",
    "        for trial in range(num_trials):\n",
    "            try:\n",
    "                batch = t.transform_batch(([text], [target]))\n",
    "            except Exception as e: \n",
    "                print(row['transformation'])\n",
    "                print(e)\n",
    "                pass\n",
    "            candidate_texts.extend(batch[0])\n",
    "            candidate_targets.extend(batch[1])\n",
    "        text_results = all_equal(candidate_texts)\n",
    "        target_results = all_equal(candidate_targets)\n",
    "        if not text_results or not target_results:\n",
    "            stochastic_transforms.add(row['transformation'])\n",
    "            break\n",
    "          "
   ]
  },
  {
   "cell_type": "code",
   "execution_count": null,
   "id": "89b0896c",
   "metadata": {},
   "outputs": [],
   "source": [
    "deterministic_transforms = set(df['transformation'].tolist()) - stochastic_transforms"
   ]
  },
  {
   "cell_type": "markdown",
   "id": "255ef120",
   "metadata": {},
   "source": [
    "# Batched Study"
   ]
  },
  {
   "cell_type": "code",
   "execution_count": null,
   "id": "fb632772",
   "metadata": {},
   "outputs": [],
   "source": [
    "batched_df = df[df['transformation'].isin(deterministic_transforms)]"
   ]
  },
  {
   "cell_type": "code",
   "execution_count": null,
   "id": "6ad9aa10",
   "metadata": {},
   "outputs": [],
   "source": [
    "text, label = dataset['text'], dataset['label'] \n",
    "\n",
    "num_trials = 100\n",
    "batch_size= 10\n",
    "\n",
    "stochastic_transforms = set()\n",
    "for i, row in tqdm(batched_df.iterrows(), total=len(df)):\n",
    "    transform = row['tran_fn']\n",
    "    \n",
    "    trial_texts, trial_targets = [], []\n",
    "    for trial in range(num_trials):\n",
    "        \n",
    "        new_texts, new_targets = [], []\n",
    "        for i in range(0, len(label), batch_size):\n",
    "            text_batch = text[i:i+batch_size]\n",
    "            label_batch = label[i:i+batch_size]\n",
    "            batch = (text_batch, label_batch)\n",
    "            batch = transform.transform_batch(batch)\n",
    "            new_texts.extend(batch[0])\n",
    "            new_targets.extend(batch[1])\n",
    "    \n",
    "        trial_texts.append(new_texts)\n",
    "        trial_targets.append(new_targets)\n",
    "        \n",
    "    is_text_equal = batched_equal(trial_texts)\n",
    "    is_target_equal = batched_equal(trial_targets)\n",
    "\n",
    "    if not is_text_equal or not is_target_equal:\n",
    "        stochastic_transforms.add(row['transformation'])\n",
    "        continue"
   ]
  },
  {
   "cell_type": "code",
   "execution_count": null,
   "id": "bbe17b2a",
   "metadata": {},
   "outputs": [],
   "source": [
    "set(df['transformation'].tolist()) - stochastic_transforms"
   ]
  },
  {
   "cell_type": "code",
   "execution_count": null,
   "id": "bfd484fb",
   "metadata": {},
   "outputs": [],
   "source": [
    "{'AddNegation',\n",
    " 'RemoveNegation',\n",
    " 'ChangeNumber',\n",
    " 'ContractContractions',\n",
    " 'ExpandContractions'}\n",
    " # 'Demojify',\n",
    " # 'RemoveNegativeEmoji',\n",
    " # 'RemoveNeutralEmoji',\n",
    " # 'RemovePositiveEmoji'\n",
    " # 'ImportLinkText',\n",
    "}"
   ]
  },
  {
   "cell_type": "code",
   "execution_count": null,
   "id": "bc334e98",
   "metadata": {},
   "outputs": [],
   "source": []
  }
 ],
 "metadata": {
  "kernelspec": {
   "display_name": "Python 3 (ipykernel)",
   "language": "python",
   "name": "python3"
  },
  "language_info": {
   "codemirror_mode": {
    "name": "ipython",
    "version": 3
   },
   "file_extension": ".py",
   "mimetype": "text/x-python",
   "name": "python",
   "nbconvert_exporter": "python",
   "pygments_lexer": "ipython3",
   "version": "3.9.0"
  }
 },
 "nbformat": 4,
 "nbformat_minor": 5
}
