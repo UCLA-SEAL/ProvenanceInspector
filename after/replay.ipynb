{
 "cells": [
  {
   "cell_type": "code",
   "execution_count": 1,
   "id": "8c07c3a4",
   "metadata": {},
   "outputs": [],
   "source": [
    "from abc import ABC, abstractmethod\n",
    "from lineage.transformation import *"
   ]
  },
  {
   "cell_type": "markdown",
   "id": "78606191",
   "metadata": {},
   "source": [
    "## Transformation Decorator"
   ]
  },
  {
   "cell_type": "markdown",
   "id": "f3b3bc96",
   "metadata": {},
   "source": [
    "### Toy Example"
   ]
  },
  {
   "cell_type": "code",
   "execution_count": 2,
   "id": "eea850c1",
   "metadata": {},
   "outputs": [],
   "source": [
    "@mark_abstract_transformation_class(transform='trans_func')\n",
    "class mock_transform_class(ABC):\n",
    "    \n",
    "    @abstractmethod\n",
    "    def trans_func(self, mode=1):\n",
    "        raise NotImplementedError()\n",
    "        \n",
    "class middle_class(mock_transform_class):\n",
    "        pass\n",
    "        \n",
    "@mark_transformation_class\n",
    "class sub_class(middle_class):\n",
    "    def __init__(self, a, model='bert', stopwords='en', embedding='glove'):\n",
    "        self.a = a\n",
    "        self.model = model\n",
    "        self.stopwords=stopwords\n",
    "        self.embedding = embedding\n",
    "    \n",
    "    @mark_transformation_method\n",
    "    def trans_func(self, mode=1):\n",
    "        if mode == 1:\n",
    "            print(1)\n",
    "        else:\n",
    "            print(2)"
   ]
  },
  {
   "cell_type": "code",
   "execution_count": 3,
   "id": "c0f69697",
   "metadata": {},
   "outputs": [],
   "source": [
    "trans = sub_class('test1', model='distillbert')"
   ]
  },
  {
   "cell_type": "code",
   "execution_count": 4,
   "id": "cbbe1717",
   "metadata": {},
   "outputs": [
    {
     "data": {
      "text/plain": [
       "('test1',)"
      ]
     },
     "execution_count": 4,
     "metadata": {},
     "output_type": "execute_result"
    }
   ],
   "source": [
    "trans._init_args"
   ]
  },
  {
   "cell_type": "code",
   "execution_count": 5,
   "id": "75ba7ea7",
   "metadata": {},
   "outputs": [
    {
     "data": {
      "text/plain": [
       "{'model': 'distillbert'}"
      ]
     },
     "execution_count": 5,
     "metadata": {},
     "output_type": "execute_result"
    }
   ],
   "source": [
    "trans._init_kwargs"
   ]
  },
  {
   "cell_type": "code",
   "execution_count": 6,
   "id": "f607cfb6",
   "metadata": {},
   "outputs": [
    {
     "name": "stdout",
     "output_type": "stream",
     "text": [
      "2\n"
     ]
    }
   ],
   "source": [
    "trans.trans_func(mode=2)"
   ]
  },
  {
   "cell_type": "code",
   "execution_count": 7,
   "id": "ec31be23",
   "metadata": {},
   "outputs": [
    {
     "data": {
      "text/plain": [
       "'trans_func'"
      ]
     },
     "execution_count": 7,
     "metadata": {},
     "output_type": "execute_result"
    }
   ],
   "source": [
    "trans._transform_func"
   ]
  },
  {
   "cell_type": "code",
   "execution_count": 8,
   "id": "ef729e84",
   "metadata": {},
   "outputs": [
    {
     "data": {
      "text/plain": [
       "()"
      ]
     },
     "execution_count": 8,
     "metadata": {},
     "output_type": "execute_result"
    }
   ],
   "source": [
    "trans._transform_args"
   ]
  },
  {
   "cell_type": "code",
   "execution_count": 9,
   "id": "b4900167",
   "metadata": {},
   "outputs": [
    {
     "data": {
      "text/plain": [
       "{'mode': 2}"
      ]
     },
     "execution_count": 9,
     "metadata": {},
     "output_type": "execute_result"
    }
   ],
   "source": [
    "trans._transform_kwargs"
   ]
  },
  {
   "cell_type": "markdown",
   "id": "37217abd",
   "metadata": {},
   "source": [
    "### TextAttack Case"
   ]
  },
  {
   "cell_type": "code",
   "execution_count": 10,
   "id": "fa553ff5",
   "metadata": {},
   "outputs": [
    {
     "name": "stderr",
     "output_type": "stream",
     "text": [
      "2022-07-20 10:35:36.240224: I tensorflow/stream_executor/platform/default/dso_loader.cc:53] Successfully opened dynamic library libcudart.so.11.0\n"
     ]
    }
   ],
   "source": [
    "from textattack.transformations import WordSwapEmbedding"
   ]
  },
  {
   "cell_type": "code",
   "execution_count": 11,
   "id": "38caadbf",
   "metadata": {},
   "outputs": [],
   "source": [
    "transformation = WordSwapEmbedding(max_candidates=20, letters_to_insert='a')"
   ]
  },
  {
   "cell_type": "code",
   "execution_count": 12,
   "id": "e22281df",
   "metadata": {},
   "outputs": [
    {
     "data": {
      "text/plain": [
       "{'max_candidates': 20, 'letters_to_insert': 'a'}"
      ]
     },
     "execution_count": 12,
     "metadata": {},
     "output_type": "execute_result"
    }
   ],
   "source": [
    "transformation._init_kwargs"
   ]
  },
  {
   "cell_type": "code",
   "execution_count": null,
   "id": "fb654041",
   "metadata": {},
   "outputs": [],
   "source": []
  }
 ],
 "metadata": {
  "kernelspec": {
   "display_name": "dpml",
   "language": "python",
   "name": "dpml"
  },
  "language_info": {
   "codemirror_mode": {
    "name": "ipython",
    "version": 3
   },
   "file_extension": ".py",
   "mimetype": "text/x-python",
   "name": "python",
   "nbconvert_exporter": "python",
   "pygments_lexer": "ipython3",
   "version": "3.7.13"
  }
 },
 "nbformat": 4,
 "nbformat_minor": 5
}
