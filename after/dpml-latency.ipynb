{
 "cells": [
  {
   "cell_type": "markdown",
   "metadata": {
    "id": "WuWi1REPD_Ux"
   },
   "source": [
    "# DPML | Latency Comparisons\n",
    "\n",
    "In this notebook, we investigate the latency costs of tracking lineage with `dpml`."
   ]
  },
  {
   "cell_type": "markdown",
   "metadata": {
    "id": "M9Zs0hYFFIYf"
   },
   "source": [
    "## Load Dependencies"
   ]
  },
  {
   "cell_type": "code",
   "execution_count": 1,
   "metadata": {
    "colab": {
     "base_uri": "https://localhost:8080/"
    },
    "id": "t8_koamxFHfR",
    "outputId": "e892403a-70b8-4728-ec18-c31ee7e81580"
   },
   "outputs": [
    {
     "name": "stderr",
     "output_type": "stream",
     "text": [
      "2022-07-05 11:58:37.842464: I tensorflow/stream_executor/platform/default/dso_loader.cc:53] Successfully opened dynamic library libcudart.so.11.0\n"
     ]
    }
   ],
   "source": [
    "from lineage import LeBatch\n",
    "\n",
    "from sibyl import TextMix, ChangeSynonym, ExpandContractions, ChangeAntonym, InsertNegativePhrase\n",
    "from datasets import load_dataset\n",
    "\n",
    "import time\n",
    "from tqdm.notebook import tqdm"
   ]
  },
  {
   "cell_type": "markdown",
   "metadata": {
    "id": "ktCv--paFOqG"
   },
   "source": [
    "## Create Datasets"
   ]
  },
  {
   "cell_type": "code",
   "execution_count": 2,
   "metadata": {},
   "outputs": [
    {
     "name": "stderr",
     "output_type": "stream",
     "text": [
      "Reusing dataset glue (/home/coraline/.cache/huggingface/datasets/glue/sst2/1.0.0/dacbe3125aa31d7f70367a07a8a9e72a5a0bfeb5fc42e75c9db75b96da6053ad)\n"
     ]
    }
   ],
   "source": [
    "dataset = load_dataset(\"glue\", \"sst2\", split=\"train\")\n",
    "dataset = dataset.rename_column('sentence', 'text')"
   ]
  },
  {
   "cell_type": "markdown",
   "metadata": {},
   "source": [
    "## Latency Test"
   ]
  },
  {
   "cell_type": "markdown",
   "metadata": {},
   "source": [
    "### No Lineage"
   ]
  },
  {
   "cell_type": "code",
   "execution_count": 3,
   "metadata": {},
   "outputs": [
    {
     "data": {
      "application/vnd.jupyter.widget-view+json": {
       "model_id": "7253f93355af4a21971ef10561b1f50d",
       "version_major": 2,
       "version_minor": 0
      },
      "text/plain": [
       "  0%|          | 0/6735 [00:00<?, ?it/s]"
      ]
     },
     "metadata": {},
     "output_type": "display_data"
    },
    {
     "name": "stdout",
     "output_type": "stream",
     "text": [
      "Elapsed time:  1.071 seconds\n"
     ]
    }
   ],
   "source": [
    "transform = TextMix()\n",
    "\n",
    "text, label = dataset['text'], dataset['label'] \n",
    "new_text, new_label = [], []\n",
    "\n",
    "batch_size= 10\n",
    "\n",
    "\n",
    "startTime = time.perf_counter()\n",
    "for i in tqdm(range(0, len(label), batch_size)):\n",
    "    text_batch = text[i:i+batch_size]\n",
    "    label_batch = label[i:i+batch_size]\n",
    "    batch = (text_batch, label_batch)\n",
    "    new_records = transform(batch, num_classes=2)\n",
    "print('Elapsed time: {:6.3f} seconds'.format(time.perf_counter() - startTime))"
   ]
  },
  {
   "cell_type": "markdown",
   "metadata": {},
   "source": [
    "### Lineage w/o Logging"
   ]
  },
  {
   "cell_type": "code",
   "execution_count": 3,
   "metadata": {},
   "outputs": [
    {
     "data": {
      "application/vnd.jupyter.widget-view+json": {
       "model_id": "bf871a96d61f4f21a8420bbe31dd4b71",
       "version_major": 2,
       "version_minor": 0
      },
      "text/plain": [
       "  0%|          | 0/6735 [00:00<?, ?it/s]"
      ]
     },
     "metadata": {},
     "output_type": "display_data"
    },
    {
     "name": "stdout",
     "output_type": "stream",
     "text": [
      "Elapsed time:  6.350 seconds\n"
     ]
    }
   ],
   "source": [
    "transform = TextMix()\n",
    "\n",
    "text, label = dataset['text'], dataset['label'] \n",
    "new_text, new_label = [], []\n",
    "\n",
    "batch_size= 10\n",
    "\n",
    "startTime = time.perf_counter()\n",
    "for i in tqdm(range(0, len(label), batch_size)):\n",
    "    text_batch = text[i:i+batch_size]\n",
    "    label_batch = label[i:i+batch_size]\n",
    "    batch = (text_batch, label_batch)\n",
    "    new_records = LeBatch(batch).apply(transform, num_classes=2)\n",
    "print('Elapsed time: {:6.3f} seconds'.format(time.perf_counter() - startTime))"
   ]
  },
  {
   "cell_type": "markdown",
   "metadata": {},
   "source": [
    "### Lineage w/ Logging"
   ]
  },
  {
   "cell_type": "code",
   "execution_count": 3,
   "metadata": {
    "scrolled": false
   },
   "outputs": [
    {
     "data": {
      "application/vnd.jupyter.widget-view+json": {
       "model_id": "7476b5675a7f4a4e9bdb8fa5eb405588",
       "version_major": 2,
       "version_minor": 0
      },
      "text/plain": [
       "  0%|          | 0/6735 [00:00<?, ?it/s]"
      ]
     },
     "metadata": {},
     "output_type": "display_data"
    },
    {
     "name": "stdout",
     "output_type": "stream",
     "text": [
      "Elapsed time: 19.974 seconds\n"
     ]
    }
   ],
   "source": [
    "transform = TextMix()\n",
    "\n",
    "text, label = dataset['text'], dataset['label'] \n",
    "new_text, new_label = [], []\n",
    "\n",
    "batch_size= 10\n",
    "\n",
    "startTime = time.perf_counter()\n",
    "for i in tqdm(range(0, len(label), batch_size)):\n",
    "    text_batch = text[i:i+batch_size]\n",
    "    label_batch = label[i:i+batch_size]\n",
    "    batch = (text_batch, label_batch)\n",
    "    new_records = LeBatch(batch).apply(transform, num_classes=2)\n",
    "print('Elapsed time: {:6.3f} seconds'.format(time.perf_counter() - startTime))"
   ]
  },
  {
   "cell_type": "code",
   "execution_count": null,
   "metadata": {},
   "outputs": [],
   "source": []
  },
  {
   "cell_type": "code",
   "execution_count": 5,
   "metadata": {
    "id": "5o19TakXhtOD"
   },
   "outputs": [],
   "source": [
    "transform = TextMix()\n",
    "\n",
    "in_text = [\n",
    "    \"The characters are unlikeable and the script is awful. It's a waste of the talents of Deneuve and Auteuil.\", \n",
    "    \"Unwatchable. You can't even make it past the first three minutes. And this is coming from a huge Adam Sandler fan!!1\",\n",
    "    \"An unfunny, unworthy picture which is an undeserving end to Peter Sellers' career. It is a pity this movie was ever made.\",\n",
    "    \"I think it's one of the greatest movies which are ever made, and I've seen many... The book is better, but it's still a very good movie!\",\n",
    "    \"The only thing serious about this movie is the humor. Well worth the rental price. I'll bet you watch it twice. It's obvious that Sutherland enjoyed his role.\",\n",
    "    \"Touching; Well directed autobiography of a talented young director/producer. A love story with Rabin's assassination in the background. Worth seeing\"\n",
    "]\n",
    "\n",
    "in_target = [0, 0, 0, 1, 1, 1] # (imdb dataset 0=negative, 1=positive)\n",
    "\n",
    "batch = (in_text, in_target)"
   ]
  },
  {
   "cell_type": "code",
   "execution_count": 6,
   "metadata": {
    "scrolled": false
   },
   "outputs": [
    {
     "ename": "NameError",
     "evalue": "name 'LeContext' is not defined",
     "output_type": "error",
     "traceback": [
      "\u001b[0;31m---------------------------------------------------------------------------\u001b[0m",
      "\u001b[0;31mNameError\u001b[0m                                 Traceback (most recent call last)",
      "\u001b[0;32m/tmp/ipykernel_3157957/3194245229.py\u001b[0m in \u001b[0;36m<module>\u001b[0;34m\u001b[0m\n\u001b[0;32m----> 1\u001b[0;31m \u001b[0;32mwith\u001b[0m \u001b[0mLeContext\u001b[0m\u001b[0;34m(\u001b[0m\u001b[0mbatch\u001b[0m\u001b[0;34m)\u001b[0m \u001b[0;32mas\u001b[0m \u001b[0mle\u001b[0m\u001b[0;34m:\u001b[0m\u001b[0;34m\u001b[0m\u001b[0;34m\u001b[0m\u001b[0m\n\u001b[0m\u001b[1;32m      2\u001b[0m     \u001b[0mnew_records\u001b[0m \u001b[0;34m=\u001b[0m \u001b[0mle\u001b[0m\u001b[0;34m.\u001b[0m\u001b[0mapply\u001b[0m\u001b[0;34m(\u001b[0m\u001b[0mtransform\u001b[0m\u001b[0;34m,\u001b[0m \u001b[0mnum_classes\u001b[0m\u001b[0;34m=\u001b[0m\u001b[0;36m2\u001b[0m\u001b[0;34m)\u001b[0m\u001b[0;34m\u001b[0m\u001b[0;34m\u001b[0m\u001b[0m\n",
      "\u001b[0;31mNameError\u001b[0m: name 'LeContext' is not defined"
     ]
    }
   ],
   "source": [
    "with LeContext(batch) as le:\n",
    "    new_records = le.apply(transform, num_classes=2)"
   ]
  },
  {
   "cell_type": "code",
   "execution_count": 4,
   "metadata": {},
   "outputs": [],
   "source": [
    "new_batch = new_records\n",
    "\n",
    "with LeContext(new_batch) as le:\n",
    "    new_records2 = le.apply(transform, num_classes=2)"
   ]
  },
  {
   "cell_type": "code",
   "execution_count": 5,
   "metadata": {
    "id": "gQ_6LWFPkOJI"
   },
   "outputs": [
    {
     "data": {
      "text/plain": [
       "'b\"Unwatchable. You can\\'t even make it past the first three minutes. And this is coming from a huge Adam Sandler fan!!1 Unwatchable. You can\\'t even make it past the first three minutes. And this is coming from a huge Adam Sandler fan!!1\"'"
      ]
     },
     "execution_count": 5,
     "metadata": {},
     "output_type": "execute_result"
    }
   ],
   "source": [
    "new_records[1].text"
   ]
  },
  {
   "cell_type": "code",
   "execution_count": 6,
   "metadata": {
    "id": "Y9o3XQOhoilo",
    "scrolled": true
   },
   "outputs": [
    {
     "data": {
      "text/plain": [
       "<LeRecord:\n",
       "\t text=\"b'b\"Unwatchable. You can\\'t even make it past the first three minutes. And this is coming from a huge Adam Sandler fan!!1 Unwatchable. You can\\'t even make it past the first three minutes. And this is coming from a huge Adam Sandler fan!!1\" b\"An unfunny, unworthy picture which is an undeserving end to Peter Sellers\\' career. It is a pity this movie was ever made. The only thing serious about this movie is the humor. Well worth the rental price. I\\'ll bet you watch it twice. It\\'s obvious that Sutherland enjoyed his role.\"'\",\n",
       "\t target=\"[0.8884123728427289, 0.11158762715727105]\",\n",
       "\t le_attrs={'transformation_provenance': <TransformationProvenance: {(0, \"{'class': 'TextMix', 'return_metadata': False}\"), (1, \"{'class': 'TextMix', 'return_metadata': False}\")}>, 'feature_provenance': <FeatureProvenance[edit_seq] {(0, (41, 42), 'replace: [20,21]-[41,42]'), (1, (42, 92), 'insert: [42,42]-[42,92]')}>, 'granularity': 'word'}>"
      ]
     },
     "execution_count": 6,
     "metadata": {},
     "output_type": "execute_result"
    }
   ],
   "source": [
    "new_records2[1]"
   ]
  }
 ],
 "metadata": {
  "colab": {
   "collapsed_sections": [],
   "name": "dpml",
   "provenance": []
  },
  "kernelspec": {
   "display_name": "Python 3 (ipykernel)",
   "language": "python",
   "name": "python3"
  },
  "language_info": {
   "codemirror_mode": {
    "name": "ipython",
    "version": 3
   },
   "file_extension": ".py",
   "mimetype": "text/x-python",
   "name": "python",
   "nbconvert_exporter": "python",
   "pygments_lexer": "ipython3",
   "version": "3.9.0"
  }
 },
 "nbformat": 4,
 "nbformat_minor": 1
}
