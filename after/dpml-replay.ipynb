{
 "cells": [
  {
   "cell_type": "markdown",
   "metadata": {
    "id": "WuWi1REPD_Ux"
   },
   "source": [
    "# DPML | Latency Replay\n",
    "\n",
    "In this notebook, we investigate the reproducibility of transformation sequences captured by `dpml`."
   ]
  },
  {
   "cell_type": "markdown",
   "metadata": {
    "id": "M9Zs0hYFFIYf"
   },
   "source": [
    "## Load Dependencies"
   ]
  },
  {
   "cell_type": "code",
   "execution_count": 1,
   "metadata": {},
   "outputs": [],
   "source": [
    "%load_ext autoreload\n",
    "%autoreload 2"
   ]
  },
  {
   "cell_type": "code",
   "execution_count": 2,
   "metadata": {
    "colab": {
     "base_uri": "https://localhost:8080/"
    },
    "id": "t8_koamxFHfR",
    "outputId": "e892403a-70b8-4728-ec18-c31ee7e81580"
   },
   "outputs": [
    {
     "name": "stderr",
     "output_type": "stream",
     "text": [
      "2022-08-02 06:38:08.827526: I tensorflow/stream_executor/platform/default/dso_loader.cc:53] Successfully opened dynamic library libcudart.so.11.0\n"
     ]
    }
   ],
   "source": [
    "from lineage import LeBatch\n",
    "from lineage.transformation import DPMLClassWrapper, DPMLCallableWrapper\n",
    "\n",
    "from sibyl import *\n",
    "from datasets import load_dataset\n",
    "\n",
    "import time\n",
    "from tqdm.notebook import tqdm"
   ]
  },
  {
   "cell_type": "markdown",
   "metadata": {
    "id": "ktCv--paFOqG"
   },
   "source": [
    "## Create Datasets"
   ]
  },
  {
   "cell_type": "code",
   "execution_count": 3,
   "metadata": {},
   "outputs": [
    {
     "name": "stderr",
     "output_type": "stream",
     "text": [
      "Reusing dataset glue (/home/coraline/.cache/huggingface/datasets/glue/sst2/1.0.0/dacbe3125aa31d7f70367a07a8a9e72a5a0bfeb5fc42e75c9db75b96da6053ad)\n"
     ]
    }
   ],
   "source": [
    "dataset = load_dataset(\"glue\", \"sst2\", split=\"train[:4]\")\n",
    "dataset = dataset.rename_column('sentence', 'text')"
   ]
  },
  {
   "cell_type": "markdown",
   "metadata": {},
   "source": [
    "## Replay Test"
   ]
  },
  {
   "cell_type": "markdown",
   "metadata": {},
   "source": [
    "### Routine to be Tracked"
   ]
  },
  {
   "cell_type": "code",
   "execution_count": 4,
   "metadata": {},
   "outputs": [],
   "source": [
    "from sibyl.transformations.text.mixture.concept_mix import *\n",
    "from sibyl.transformations.text.word_swap.change_synse import *"
   ]
  },
  {
   "cell_type": "code",
   "execution_count": 5,
   "metadata": {},
   "outputs": [],
   "source": [
    "scheduler = SibylTransformScheduler(\"sentiment\", class_wrapper=DPMLClassWrapper)"
   ]
  },
  {
   "cell_type": "code",
   "execution_count": 6,
   "metadata": {
    "scrolled": false
   },
   "outputs": [
    {
     "data": {
      "application/vnd.jupyter.widget-view+json": {
       "model_id": "a6553cfae83c4d54a4b6b37b831b7cf7",
       "version_major": 2,
       "version_minor": 0
      },
      "text/plain": [
       "  0%|          | 0/2 [00:00<?, ?it/s]"
      ]
     },
     "metadata": {},
     "output_type": "display_data"
    },
    {
     "name": "stdout",
     "output_type": "stream",
     "text": [
      "<class 'sibyl.transformations.text.mixture.text_mix.SentMix'>\n",
      "<class 'sibyl.transformations.text.insertion.sentiment_phrase.InsertPositivePhrase'>\n",
      "<class 'sibyl.transformations.text.word_swap.word_deletion.WordDeletion'>\n",
      "\n",
      "<class 'sibyl.transformations.text.mixture.text_mix.SentMix'>\n",
      "<class 'sibyl.transformations.text.typos.char_substitute.RandomCharSubst'>\n",
      "\n",
      "Elapsed time:  0.030 seconds\n"
     ]
    }
   ],
   "source": [
    "text, label = dataset['text'], dataset['label'] \n",
    "new_text, new_label = [], []\n",
    "\n",
    "batch_size= 2\n",
    "\n",
    "scheduler.num_INV = 2\n",
    "scheduler.num_SIB = 2\n",
    "\n",
    "records = []\n",
    "startTime = time.perf_counter()\n",
    "for i in tqdm(range(0, len(label), batch_size)):\n",
    "    text_batch = text[i:i+batch_size]\n",
    "    label_batch = label[i:i+batch_size]\n",
    "    batch = (text_batch, label_batch)\n",
    "    with LeBatch(original_batch=batch) as le_batch:\n",
    "        for transform in scheduler.sample():\n",
    "            if transform.wrapped_class in [ConceptMix, ChangeSynonym, ChangeAntonym, ChangeHyponym]:\n",
    "                continue\n",
    "            print(transform.wrapped_class)\n",
    "            # batch = transform.transform_batch(batch)\n",
    "            batch = le_batch.apply(batch, transform.transform_batch)\n",
    "        records.extend(batch)\n",
    "    print()\n",
    "print('Elapsed time: {:6.3f} seconds'.format(time.perf_counter() - startTime))"
   ]
  },
  {
   "cell_type": "code",
   "execution_count": 7,
   "metadata": {},
   "outputs": [
    {
     "data": {
      "text/plain": [
       "[(\"b'hide new from the parental units contains no wit , only labored gags ' That being I it.\",\n",
       "  array([[0.75, 0.25]])),\n",
       " (\"b'contains no , only labored gags wit only labored ' That being said, I'm pleased.\",\n",
       "  array([[0.75, 0.25]])),\n",
       " (\"b'that loves its characters and communicates something rather beautiful about human nature  remain\\t utterly satisfied to remain the same throughout '\",\n",
       "  [0.38620689655172413, 0.6137931034482759]),\n",
       " (\"b'remains utterly satisfied to remain the same throughout  remains utterly satisfied to remain t/e same throughout '\",\n",
       "  [1.0, 0.0])]"
      ]
     },
     "execution_count": 7,
     "metadata": {},
     "output_type": "execute_result"
    }
   ],
   "source": [
    "[(le.text, le.target) for le in records]"
   ]
  },
  {
   "cell_type": "markdown",
   "metadata": {},
   "source": [
    "# Replay Functionality"
   ]
  },
  {
   "cell_type": "code",
   "execution_count": 8,
   "metadata": {},
   "outputs": [],
   "source": [
    "from lineage.utils import *"
   ]
  },
  {
   "cell_type": "markdown",
   "metadata": {},
   "source": [
    "## Replay Functionality - CSV"
   ]
  },
  {
   "cell_type": "code",
   "execution_count": 9,
   "metadata": {},
   "outputs": [
    {
     "data": {
      "text/html": [
       "<div>\n",
       "<style scoped>\n",
       "    .dataframe tbody tr th:only-of-type {\n",
       "        vertical-align: middle;\n",
       "    }\n",
       "\n",
       "    .dataframe tbody tr th {\n",
       "        vertical-align: top;\n",
       "    }\n",
       "\n",
       "    .dataframe thead th {\n",
       "        text-align: right;\n",
       "    }\n",
       "</style>\n",
       "<table border=\"1\" class=\"dataframe\">\n",
       "  <thead>\n",
       "    <tr style=\"text-align: right;\">\n",
       "      <th></th>\n",
       "      <th>batch_id</th>\n",
       "      <th>text</th>\n",
       "      <th>target</th>\n",
       "      <th>transform_prov</th>\n",
       "    </tr>\n",
       "  </thead>\n",
       "  <tbody>\n",
       "    <tr>\n",
       "      <th>0</th>\n",
       "      <td>0</td>\n",
       "      <td>hide new secretions from the parental units</td>\n",
       "      <td>0</td>\n",
       "      <td>['{\"module_name\": \"sibyl.transformations.text....</td>\n",
       "    </tr>\n",
       "    <tr>\n",
       "      <th>1</th>\n",
       "      <td>0</td>\n",
       "      <td>contains no wit , only labored gags</td>\n",
       "      <td>0</td>\n",
       "      <td>['{\"module_name\": \"sibyl.transformations.text....</td>\n",
       "    </tr>\n",
       "    <tr>\n",
       "      <th>2</th>\n",
       "      <td>1</td>\n",
       "      <td>that loves its characters and communicates som...</td>\n",
       "      <td>1</td>\n",
       "      <td>['{\"module_name\": \"sibyl.transformations.text....</td>\n",
       "    </tr>\n",
       "    <tr>\n",
       "      <th>3</th>\n",
       "      <td>1</td>\n",
       "      <td>remains utterly satisfied to remain the same t...</td>\n",
       "      <td>0</td>\n",
       "      <td>['{\"module_name\": \"sibyl.transformations.text....</td>\n",
       "    </tr>\n",
       "  </tbody>\n",
       "</table>\n",
       "</div>"
      ],
      "text/plain": [
       "   batch_id                                               text  target  \\\n",
       "0         0       hide new secretions from the parental units        0   \n",
       "1         0               contains no wit , only labored gags        0   \n",
       "2         1  that loves its characters and communicates som...       1   \n",
       "3         1  remains utterly satisfied to remain the same t...       0   \n",
       "\n",
       "                                      transform_prov  \n",
       "0  ['{\"module_name\": \"sibyl.transformations.text....  \n",
       "1  ['{\"module_name\": \"sibyl.transformations.text....  \n",
       "2  ['{\"module_name\": \"sibyl.transformations.text....  \n",
       "3  ['{\"module_name\": \"sibyl.transformations.text....  "
      ]
     },
     "execution_count": 9,
     "metadata": {},
     "output_type": "execute_result"
    }
   ],
   "source": [
    "from lineage.storage.csv.transform_logger import TransformLogger as CSVTransformLogger\n",
    "    \n",
    "# fetch data\n",
    "logger = CSVTransformLogger()\n",
    "df = pd.read_csv(logger.path, header=None, names=['batch_id', 'text', 'target', 'transform_prov'])\n",
    "\n",
    "df"
   ]
  },
  {
   "cell_type": "code",
   "execution_count": 10,
   "metadata": {},
   "outputs": [
    {
     "data": {
      "text/plain": [
       "[(\"b'hide new from the parental units contains no wit , only labored gags ' That being I it.\",\n",
       "  array([[0.75, 0.25]])),\n",
       " (\"b'contains no , only labored gags wit only labored ' That being said, I'm pleased.\",\n",
       "  array([[0.75, 0.25]])),\n",
       " (\"b'that loves its characters and communicates something rather beautiful about human nature  remain\\t utterly satisfied to remain the same throughout '\",\n",
       "  [0.38620689655172413, 0.6137931034482759]),\n",
       " (\"b'remains utterly satisfied to remain the same throughout  remains utterly satisfied to remain t/e same throughout '\",\n",
       "  [1.0, 0.0])]"
      ]
     },
     "execution_count": 10,
     "metadata": {},
     "output_type": "execute_result"
    }
   ],
   "source": [
    "new_records = replay_all_from_csv()\n",
    "new_records"
   ]
  },
  {
   "cell_type": "code",
   "execution_count": 11,
   "metadata": {},
   "outputs": [
    {
     "data": {
      "text/plain": [
       "True"
      ]
     },
     "execution_count": 11,
     "metadata": {},
     "output_type": "execute_result"
    }
   ],
   "source": [
    "original_records = [(le.text, le.target) for le in records]\n",
    "equiv_result = True\n",
    "for old_r, new_r in zip(original_records, new_records[-4:]):\n",
    "    if old_r[0] != new_r[0] or np.any(old_r[1] != new_r[1]):\n",
    "        print(old_r, new_r)\n",
    "        equiv_result = False\n",
    "equiv_result"
   ]
  },
  {
   "cell_type": "markdown",
   "metadata": {},
   "source": [
    "## Replay Functionality - SQL"
   ]
  },
  {
   "cell_type": "code",
   "execution_count": 10,
   "metadata": {},
   "outputs": [
    {
     "data": {
      "text/plain": [
       "[([\"b'hide raw from the parental unit pelt raw secretion from the parental unit ' That being I it.\"],\n",
       "  [array([[0.75, 0.25]])]),\n",
       " ([\"b'contains no , only laboured laugh arrest no mentality , only laboured laugh ' That being I it.\"],\n",
       "  [array([[0.75, 0.25]])]),\n",
       " ([\"a fictional type is nonpareil of the main characters. b'that know its type and transmit something kinda beautiful about human nature  that know its type an\\t transmit something kinda beautiful about human nature '\"],\n",
       "  [[[0.0, 1.0]]]),\n",
       " ([\"fisher rest satisfied with the effect of the experiment. b'remains perfectly satisfied to rest the same end-to-end  rest perfectly sa\\tisfied to rest the same end-to-end '\"],\n",
       "  [[[1.0, 0.0]]])]"
      ]
     },
     "execution_count": 10,
     "metadata": {},
     "output_type": "execute_result"
    }
   ],
   "source": [
    "new_records = replay_all_from_db()\n",
    "new_records"
   ]
  },
  {
   "cell_type": "code",
   "execution_count": 14,
   "metadata": {},
   "outputs": [
    {
     "data": {
      "text/plain": [
       "[(\"b'hide unexampled from the parental whole check no wit , only moil joke ' That being I it.\",\n",
       "  array([[0.75, 0.25]])),\n",
       " (\"b'contains no , only labored muzzle humour only labored ' That being said, I'm pleased.\",\n",
       "  array([[0.75, 0.25]])),\n",
       " (\"symbiotic kinship between organism and their nature. b'remains dead slaked to persist the same throughout  persist dead slaked to persist t/e same throughout '\",\n",
       "  [[0.5396552085876465, 0.4603447914123535]]),\n",
       " (\"the cadaver of an being that has not been slaked b'remains dead slaked to remain the same throughout  cadaver dead slaked to remain t/e same throughout '\",\n",
       "  [[1.0, 0.0]])]"
      ]
     },
     "execution_count": 14,
     "metadata": {},
     "output_type": "execute_result"
    }
   ],
   "source": [
    "[(le.text, le.target) for le in records]"
   ]
  },
  {
   "cell_type": "markdown",
   "metadata": {},
   "source": [
    "## Transformation Wrappers"
   ]
  },
  {
   "cell_type": "code",
   "execution_count": 54,
   "metadata": {},
   "outputs": [],
   "source": [
    "text = [\"This is a test.\", \"This isn't a test!\"]\n",
    "target = [0, 1]\n",
    "batch = (text, target)\n",
    "\n",
    "t_orig = TRANSFORMATIONS[0]"
   ]
  },
  {
   "cell_type": "code",
   "execution_count": 74,
   "metadata": {},
   "outputs": [
    {
     "name": "stdout",
     "output_type": "stream",
     "text": [
      "DPMLClassWrapper\n",
      "DPMLClassWrapper | transform_batch\n",
      "(['hide new secretions from the parental units ', 'contains no wit , only labored gags '], [0, 0])\n",
      "_class_name: ExpandContractions\n",
      "_class_args: []\n",
      "_class_kwargs: {'task_name': 'sentiment', 'return_metadata': True}\n",
      "_callable_name: ('transform_batch',)\n",
      "_callable_args: []\n",
      "_callable_kwargs: []\n",
      "DPMLClassWrapper | transform_Xy\n",
      "contains no wit , only labored gags  1\n",
      "_class_name: ExpandContractions\n",
      "_class_args: []\n",
      "_class_kwargs: {'task_name': 'sentiment', 'return_metadata': True}\n",
      "_callable_name: ('transform_Xy',)\n",
      "_callable_args: []\n",
      "_callable_kwargs: []\n"
     ]
    }
   ],
   "source": [
    "print(\"DPMLClassWrapper\")\n",
    "\n",
    "t_class_wrapped = DPMLClassWrapper(t_orig)\n",
    "t_class_wrapped = t_class_wrapped(task_name=\"sentiment\", return_metadata=True)\n",
    "\n",
    "batch = t_class_wrapped.transform_batch(batch)\n",
    "\n",
    "print(\"DPMLClassWrapper | transform_batch\")\n",
    "print(batch)\n",
    "print(\"_class_name:\", t_class_wrapped._class_name)\n",
    "print(\"_class_args:\", t_class_wrapped._class_args)\n",
    "print(\"_class_kwargs:\", t_class_wrapped._class_kwargs)\n",
    "print(\"_callable_name:\", t_class_wrapped._callable_name)\n",
    "print(\"_callable_args:\", t_class_wrapped._callable_args)\n",
    "print(\"_callable_kwargs:\", t_class_wrapped._callable_kwargs)\n",
    "\n",
    "X, y, meta = t_class_wrapped.transform_Xy(text[1], target[1])\n",
    "\n",
    "print(\"DPMLClassWrapper | transform_Xy\")\n",
    "print(X, y)\n",
    "print(\"_class_name:\", t_class_wrapped._class_name)\n",
    "print(\"_class_args:\", t_class_wrapped._class_args)\n",
    "print(\"_class_kwargs:\", t_class_wrapped._class_kwargs)\n",
    "print(\"_callable_name:\", t_class_wrapped._callable_name)\n",
    "print(\"_callable_args:\", t_class_wrapped._callable_args)\n",
    "print(\"_callable_kwargs:\", t_class_wrapped._callable_kwargs)"
   ]
  },
  {
   "cell_type": "code",
   "execution_count": 75,
   "metadata": {},
   "outputs": [
    {
     "name": "stdout",
     "output_type": "stream",
     "text": [
      "DPMLCallableWrapper | transform_batch\n",
      "(['hide new secretions from the parental units ', 'contains no wit , only labored gags '], [0, 0])\n",
      "_callable_name ('transform_batch',)\n",
      "_callable_args []\n",
      "_callable_kwargs []\n",
      "DPMLCallableWrapper | transform_Xy\n",
      "contains no wit , only labored gags  1\n",
      "_callable_name ('transform_Xy',)\n",
      "_callable_args []\n",
      "_callable_kwargs []\n"
     ]
    }
   ],
   "source": [
    "t_init = t_orig(task_name=\"sentiment\", return_metadata=True)\n",
    "\n",
    "t_callable_wrapped = DPMLCallableWrapper(t_init.transform_batch)\n",
    "batch = t_callable_wrapped(batch)\n",
    "\n",
    "print(\"DPMLCallableWrapper | transform_batch\")\n",
    "print(batch)\n",
    "print(\"_callable_name\", t_callable_wrapped._callable_name)\n",
    "print(\"_callable_args\", t_callable_wrapped._callable_args)\n",
    "print(\"_callable_kwargs\", t_callable_wrapped._callable_kwargs)\n",
    "\n",
    "t_callable_wrapped = DPMLCallableWrapper(t_init.transform_Xy)\n",
    "X, y, meta = t_callable_wrapped(text[1], target[1])\n",
    "\n",
    "print(\"DPMLCallableWrapper | transform_Xy\")\n",
    "print(X, y)\n",
    "print(\"_callable_name\", t_callable_wrapped._callable_name)\n",
    "print(\"_callable_args\", t_callable_wrapped._callable_args)\n",
    "print(\"_callable_kwargs\", t_callable_wrapped._callable_kwargs)"
   ]
  },
  {
   "cell_type": "code",
   "execution_count": null,
   "metadata": {},
   "outputs": [],
   "source": []
  }
 ],
 "metadata": {
  "colab": {
   "collapsed_sections": [],
   "name": "dpml",
   "provenance": []
  },
  "kernelspec": {
   "display_name": "dpml",
   "language": "python",
   "name": "dpml"
  },
  "language_info": {
   "codemirror_mode": {
    "name": "ipython",
    "version": 3
   },
   "file_extension": ".py",
   "mimetype": "text/x-python",
   "name": "python",
   "nbconvert_exporter": "python",
   "pygments_lexer": "ipython3",
   "version": "3.7.13"
  }
 },
 "nbformat": 4,
 "nbformat_minor": 1
}
