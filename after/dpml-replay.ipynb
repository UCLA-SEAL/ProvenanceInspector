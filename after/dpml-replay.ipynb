{
 "cells": [
  {
   "cell_type": "markdown",
   "metadata": {
    "id": "WuWi1REPD_Ux"
   },
   "source": [
    "# DPML | Latency Replay\n",
    "\n",
    "In this notebook, we investigate the reproducibility of transformation sequences captured by `dpml`."
   ]
  },
  {
   "cell_type": "markdown",
   "metadata": {
    "id": "M9Zs0hYFFIYf"
   },
   "source": [
    "## Load Dependencies"
   ]
  },
  {
   "cell_type": "code",
   "execution_count": 1,
   "metadata": {},
   "outputs": [],
   "source": [
    "%load_ext autoreload\n",
    "%autoreload 2"
   ]
  },
  {
   "cell_type": "code",
   "execution_count": 2,
   "metadata": {
    "colab": {
     "base_uri": "https://localhost:8080/"
    },
    "id": "t8_koamxFHfR",
    "outputId": "e892403a-70b8-4728-ec18-c31ee7e81580"
   },
   "outputs": [],
   "source": [
    "from lineage import LeBatch\n",
    "from lineage.transformation import DPMLClassWrapper, DPMLCallableWrapper\n",
    "\n",
    "from sibyl import *\n",
    "from datasets import load_dataset\n",
    "\n",
    "import time\n",
    "from tqdm.notebook import tqdm"
   ]
  },
  {
   "cell_type": "markdown",
   "metadata": {
    "id": "ktCv--paFOqG"
   },
   "source": [
    "## Create Datasets"
   ]
  },
  {
   "cell_type": "code",
   "execution_count": 3,
   "metadata": {},
   "outputs": [
    {
     "name": "stderr",
     "output_type": "stream",
     "text": [
      "Reusing dataset glue (C:\\Users\\Fabrice\\.cache\\huggingface\\datasets\\glue\\sst2\\1.0.0\\dacbe3125aa31d7f70367a07a8a9e72a5a0bfeb5fc42e75c9db75b96da6053ad)\n"
     ]
    }
   ],
   "source": [
    "dataset = load_dataset(\"glue\", \"sst2\", split=\"train[:4]\")\n",
    "dataset = dataset.rename_column('sentence', 'text')"
   ]
  },
  {
   "cell_type": "markdown",
   "metadata": {},
   "source": [
    "## Replay Test"
   ]
  },
  {
   "cell_type": "markdown",
   "metadata": {},
   "source": [
    "### Routine to be Tracked"
   ]
  },
  {
   "cell_type": "code",
   "execution_count": 4,
   "metadata": {},
   "outputs": [],
   "source": [
    "scheduler = SibylTransformScheduler(\"sentiment\", class_wrapper=DPMLClassWrapper)"
   ]
  },
  {
   "cell_type": "code",
   "execution_count": 5,
   "metadata": {},
   "outputs": [
    {
     "data": {
      "application/vnd.jupyter.widget-view+json": {
       "model_id": "b8ef247eacb64990a7f93390626f49d8",
       "version_major": 2,
       "version_minor": 0
      },
      "text/plain": [
       "  0%|          | 0/2 [00:00<?, ?it/s]"
      ]
     },
     "metadata": {},
     "output_type": "display_data"
    },
    {
     "name": "stdout",
     "output_type": "stream",
     "text": [
      "<class 'sibyl.transformations.text.mixture.text_mix.SentMix'>\n",
      "<class 'sibyl.transformations.text.word_swap.change_synse.ChangeSynonym'>\n",
      "<class 'sibyl.transformations.text.insertion.sentiment_phrase.InsertPositivePhrase'>\n",
      "<class 'sibyl.transformations.text.word_swap.word_deletion.WordDeletion'>\n",
      "<class 'sibyl.transformations.text.mixture.text_mix.SentMix'>\n",
      "<class 'sibyl.transformations.text.typos.char_substitute.RandomCharSubst'>\n",
      "<class 'sibyl.transformations.text.mixture.concept_mix.ConceptMix'>\n",
      "<class 'sibyl.transformations.text.word_swap.change_synse.ChangeSynonym'>\n",
      "Elapsed time:  3.339 seconds\n"
     ]
    }
   ],
   "source": [
    "text, label = dataset['text'], dataset['label'] \n",
    "new_text, new_label = [], []\n",
    "\n",
    "batch_size= 2\n",
    "\n",
    "scheduler.num_INV = 2\n",
    "scheduler.num_SIB = 2\n",
    "\n",
    "records = []\n",
    "startTime = time.perf_counter()\n",
    "for i in tqdm(range(0, len(label), batch_size)):\n",
    "    text_batch = text[i:i+batch_size]\n",
    "    label_batch = label[i:i+batch_size]\n",
    "    batch = (text_batch, label_batch)\n",
    "    with LeBatch(original_batch=batch) as le_batch:\n",
    "        for transform in scheduler.sample():\n",
    "            print(transform.wrapped_class)\n",
    "            # batch = transform.transform_batch(batch)\n",
    "            batch = le_batch.apply(batch, transform.transform_batch)\n",
    "        records.extend(batch)\n",
    "print('Elapsed time: {:6.3f} seconds'.format(time.perf_counter() - startTime))"
   ]
  },
  {
   "cell_type": "code",
   "execution_count": 7,
   "metadata": {},
   "outputs": [
    {
     "data": {
      "text/plain": [
       "[(\"b'hide new from the parental unit carry no wittiness , only tug joke ' That being I it.\",\n",
       "  array([[0.75, 0.25]])),\n",
       " (\"b'contains no , only strained laugh wag only strained ' That being said, I'm pleased.\",\n",
       "  array([[0.75, 0.25]])),\n",
       " (\"portrayal of beautiful new woman smile and satisfied by the quality b'remains dead satisfied to persist the same passim  persist dead satisfied to persist t/e same passim '\",\n",
       "  [[0.5396552085876465, 0.4603447914123535]]),\n",
       " (\"the cadaver of an organism that has not been slaked b'remains dead slaked to remain the same end-to-end  cadaver dead slaked to remain t/e same end-to-end '\",\n",
       "  [[1.0, 0.0]])]"
      ]
     },
     "execution_count": 7,
     "metadata": {},
     "output_type": "execute_result"
    }
   ],
   "source": [
    "[(le.text, le.target) for le in records]"
   ]
  },
  {
   "cell_type": "markdown",
   "metadata": {},
   "source": [
    "# Replay Functionality"
   ]
  },
  {
   "cell_type": "code",
   "execution_count": 8,
   "metadata": {},
   "outputs": [],
   "source": [
    "from lineage.utils import *"
   ]
  },
  {
   "cell_type": "markdown",
   "metadata": {},
   "source": [
    "## Replay Functionality - CSV"
   ]
  },
  {
   "cell_type": "code",
   "execution_count": 9,
   "metadata": {},
   "outputs": [
    {
     "data": {
      "text/plain": [
       "[([\"b'hide unexampled from the parental whole fell unexampled secretion from the parental whole ' That being I it.\"],\n",
       "  [array([[0.75, 0.25]])]),\n",
       " ([\"b'contains no , only labored joke comprise no brainpower , only labored joke ' That being I it.\"],\n",
       "  [array([[0.75, 0.25]])]),\n",
       " ([\"a fictitious case is unity of the master characters. b'that jazz its type and communicate something sooner beautiful about human nature  that jazz its type an\\t communicate something sooner beautiful about human nature '\"],\n",
       "  [[[0.0, 1.0]]]),\n",
       " ([\"quenched with the clay of the isfied piece b'remains perfectly quenched to remain the same passim  clay perfectly sa\\tisfied to remain the same passim '\"],\n",
       "  [[[1.0, 0.0]]])]"
      ]
     },
     "execution_count": 9,
     "metadata": {},
     "output_type": "execute_result"
    }
   ],
   "source": [
    "new_records = replay_all_from_csv()\n",
    "new_records"
   ]
  },
  {
   "cell_type": "markdown",
   "metadata": {},
   "source": [
    "## Replay Functionality - SQL"
   ]
  },
  {
   "cell_type": "code",
   "execution_count": 10,
   "metadata": {},
   "outputs": [
    {
     "data": {
      "text/plain": [
       "[([\"b'hide raw from the parental unit pelt raw secretion from the parental unit ' That being I it.\"],\n",
       "  [array([[0.75, 0.25]])]),\n",
       " ([\"b'contains no , only laboured laugh arrest no mentality , only laboured laugh ' That being I it.\"],\n",
       "  [array([[0.75, 0.25]])]),\n",
       " ([\"a fictional type is nonpareil of the main characters. b'that know its type and transmit something kinda beautiful about human nature  that know its type an\\t transmit something kinda beautiful about human nature '\"],\n",
       "  [[[0.0, 1.0]]]),\n",
       " ([\"fisher rest satisfied with the effect of the experiment. b'remains perfectly satisfied to rest the same end-to-end  rest perfectly sa\\tisfied to rest the same end-to-end '\"],\n",
       "  [[[1.0, 0.0]]])]"
      ]
     },
     "execution_count": 10,
     "metadata": {},
     "output_type": "execute_result"
    }
   ],
   "source": [
    "new_records = replay_all_from_db()\n",
    "new_records"
   ]
  },
  {
   "cell_type": "code",
   "execution_count": 14,
   "metadata": {},
   "outputs": [
    {
     "data": {
      "text/plain": [
       "[(\"b'hide unexampled from the parental whole check no wit , only moil joke ' That being I it.\",\n",
       "  array([[0.75, 0.25]])),\n",
       " (\"b'contains no , only labored muzzle humour only labored ' That being said, I'm pleased.\",\n",
       "  array([[0.75, 0.25]])),\n",
       " (\"symbiotic kinship between organism and their nature. b'remains dead slaked to persist the same throughout  persist dead slaked to persist t/e same throughout '\",\n",
       "  [[0.5396552085876465, 0.4603447914123535]]),\n",
       " (\"the cadaver of an being that has not been slaked b'remains dead slaked to remain the same throughout  cadaver dead slaked to remain t/e same throughout '\",\n",
       "  [[1.0, 0.0]])]"
      ]
     },
     "execution_count": 14,
     "metadata": {},
     "output_type": "execute_result"
    }
   ],
   "source": [
    "[(le.text, le.target) for le in records]"
   ]
  },
  {
   "cell_type": "markdown",
   "metadata": {},
   "source": [
    "## Transformation Wrappers"
   ]
  },
  {
   "cell_type": "code",
   "execution_count": 54,
   "metadata": {},
   "outputs": [],
   "source": [
    "text = [\"This is a test.\", \"This isn't a test!\"]\n",
    "target = [0, 1]\n",
    "batch = (text, target)\n",
    "\n",
    "t_orig = TRANSFORMATIONS[0]"
   ]
  },
  {
   "cell_type": "code",
   "execution_count": 74,
   "metadata": {},
   "outputs": [
    {
     "name": "stdout",
     "output_type": "stream",
     "text": [
      "DPMLClassWrapper\n",
      "DPMLClassWrapper | transform_batch\n",
      "(['hide new secretions from the parental units ', 'contains no wit , only labored gags '], [0, 0])\n",
      "_class_name: ExpandContractions\n",
      "_class_args: []\n",
      "_class_kwargs: {'task_name': 'sentiment', 'return_metadata': True}\n",
      "_callable_name: ('transform_batch',)\n",
      "_callable_args: []\n",
      "_callable_kwargs: []\n",
      "DPMLClassWrapper | transform_Xy\n",
      "contains no wit , only labored gags  1\n",
      "_class_name: ExpandContractions\n",
      "_class_args: []\n",
      "_class_kwargs: {'task_name': 'sentiment', 'return_metadata': True}\n",
      "_callable_name: ('transform_Xy',)\n",
      "_callable_args: []\n",
      "_callable_kwargs: []\n"
     ]
    }
   ],
   "source": [
    "print(\"DPMLClassWrapper\")\n",
    "\n",
    "t_class_wrapped = DPMLClassWrapper(t_orig)\n",
    "t_class_wrapped = t_class_wrapped(task_name=\"sentiment\", return_metadata=True)\n",
    "\n",
    "batch = t_class_wrapped.transform_batch(batch)\n",
    "\n",
    "print(\"DPMLClassWrapper | transform_batch\")\n",
    "print(batch)\n",
    "print(\"_class_name:\", t_class_wrapped._class_name)\n",
    "print(\"_class_args:\", t_class_wrapped._class_args)\n",
    "print(\"_class_kwargs:\", t_class_wrapped._class_kwargs)\n",
    "print(\"_callable_name:\", t_class_wrapped._callable_name)\n",
    "print(\"_callable_args:\", t_class_wrapped._callable_args)\n",
    "print(\"_callable_kwargs:\", t_class_wrapped._callable_kwargs)\n",
    "\n",
    "X, y, meta = t_class_wrapped.transform_Xy(text[1], target[1])\n",
    "\n",
    "print(\"DPMLClassWrapper | transform_Xy\")\n",
    "print(X, y)\n",
    "print(\"_class_name:\", t_class_wrapped._class_name)\n",
    "print(\"_class_args:\", t_class_wrapped._class_args)\n",
    "print(\"_class_kwargs:\", t_class_wrapped._class_kwargs)\n",
    "print(\"_callable_name:\", t_class_wrapped._callable_name)\n",
    "print(\"_callable_args:\", t_class_wrapped._callable_args)\n",
    "print(\"_callable_kwargs:\", t_class_wrapped._callable_kwargs)"
   ]
  },
  {
   "cell_type": "code",
   "execution_count": 75,
   "metadata": {},
   "outputs": [
    {
     "name": "stdout",
     "output_type": "stream",
     "text": [
      "DPMLCallableWrapper | transform_batch\n",
      "(['hide new secretions from the parental units ', 'contains no wit , only labored gags '], [0, 0])\n",
      "_callable_name ('transform_batch',)\n",
      "_callable_args []\n",
      "_callable_kwargs []\n",
      "DPMLCallableWrapper | transform_Xy\n",
      "contains no wit , only labored gags  1\n",
      "_callable_name ('transform_Xy',)\n",
      "_callable_args []\n",
      "_callable_kwargs []\n"
     ]
    }
   ],
   "source": [
    "t_init = t_orig(task_name=\"sentiment\", return_metadata=True)\n",
    "\n",
    "t_callable_wrapped = DPMLCallableWrapper(t_init.transform_batch)\n",
    "batch = t_callable_wrapped(batch)\n",
    "\n",
    "print(\"DPMLCallableWrapper | transform_batch\")\n",
    "print(batch)\n",
    "print(\"_callable_name\", t_callable_wrapped._callable_name)\n",
    "print(\"_callable_args\", t_callable_wrapped._callable_args)\n",
    "print(\"_callable_kwargs\", t_callable_wrapped._callable_kwargs)\n",
    "\n",
    "t_callable_wrapped = DPMLCallableWrapper(t_init.transform_Xy)\n",
    "X, y, meta = t_callable_wrapped(text[1], target[1])\n",
    "\n",
    "print(\"DPMLCallableWrapper | transform_Xy\")\n",
    "print(X, y)\n",
    "print(\"_callable_name\", t_callable_wrapped._callable_name)\n",
    "print(\"_callable_args\", t_callable_wrapped._callable_args)\n",
    "print(\"_callable_kwargs\", t_callable_wrapped._callable_kwargs)"
   ]
  },
  {
   "cell_type": "code",
   "execution_count": null,
   "metadata": {},
   "outputs": [],
   "source": []
  }
 ],
 "metadata": {
  "colab": {
   "collapsed_sections": [],
   "name": "dpml",
   "provenance": []
  },
  "kernelspec": {
   "display_name": "Python 3 (ipykernel)",
   "language": "python",
   "name": "python3"
  },
  "language_info": {
   "codemirror_mode": {
    "name": "ipython",
    "version": 3
   },
   "file_extension": ".py",
   "mimetype": "text/x-python",
   "name": "python",
   "nbconvert_exporter": "python",
   "pygments_lexer": "ipython3",
   "version": "3.9.0"
  }
 },
 "nbformat": 4,
 "nbformat_minor": 1
}
