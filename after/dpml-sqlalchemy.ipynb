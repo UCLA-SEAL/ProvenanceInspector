{
 "cells": [
  {
   "cell_type": "markdown",
   "id": "7d64f60d",
   "metadata": {},
   "source": [
    "# SQLAlchemy\n",
    "> SQLAlchemy is the Python SQL toolkit and Object Relational Mapper that gives application developers the full power and flexibility of SQL.\n",
    "\n",
    "We're going to show how to create a database, add some data and do basic queries.\n",
    "more complex queriex, doing migrations and database admin, are outside the scope of this lesson"
   ]
  },
  {
   "cell_type": "markdown",
   "id": "f724c25c",
   "metadata": {},
   "source": [
    "## Design Questions & Concerns\n",
    "\n",
    "1. Does it make sense to store Text and Target separately? \n",
    "    - Propose Record construct on the DB side to simplify (target is nullable).\n",
    "        - A single text column for however many text inputs (separated by a split token like \\<SPLIT\\>, \\<SEP\\>, etc).\n",
    "        - A single target column of type string (use type(eval(target)) to determine type, most likely int or list))\n",
    "    - If accepted, we must combine label logger and text logger into a single record logger. \n",
    "2. Transformation provenance\n",
    "    - Create transformation wrapper that only tracks arguments that differ from defaults\n",
    "    - Do we store the transform name only or the full module heirarchy?\n",
    "        - Full heirarchy (e.g. sibyl.transformations.text.contraction.expand_contractions.ExpandContractions)\n",
    "    - How to determine transform_id at runtime? \n",
    "        - Query DB to see if it exists (likely to be speed inefficient)\n",
    "    - Need to find a better way to serialize arguments because we cannot load via ast or json."
   ]
  },
  {
   "cell_type": "markdown",
   "id": "cac150b0",
   "metadata": {},
   "source": [
    "## Create a new database from scratch\n",
    "Lets create a new database from scratch. we will\n",
    "1. Create classes to define a schema\n",
    "2. Map the scheme to a database\n",
    "3. add objects to the database\n",
    "4. run queries\n",
    "\n",
    "> NOTE: we will use an in-memory database, but running with a file based one or a remote database would be just as easy"
   ]
  },
  {
   "cell_type": "markdown",
   "id": "23636aea",
   "metadata": {},
   "source": [
    "## Declare Models"
   ]
  },
  {
   "cell_type": "code",
   "execution_count": 2,
   "id": "80cff504",
   "metadata": {},
   "outputs": [],
   "source": [
    "from sqlalchemy import create_engine, select\n",
    "\n",
    "import enum\n",
    "\n",
    "from sqlalchemy import Table, Column, ForeignKey\n",
    "from sqlalchemy import Integer, String, DateTime, TEXT, Enum, JSON\n",
    "from sqlalchemy.orm import declarative_base, relationship, Session\n",
    "from sqlalchemy.sql import func\n",
    "\n",
    "from sqlalchemy_utils import database_exists"
   ]
  },
  {
   "cell_type": "code",
   "execution_count": 3,
   "id": "f78f4d8f",
   "metadata": {},
   "outputs": [],
   "source": [
    "# enums\n",
    "\n",
    "class RefGranularity(enum.Enum):\n",
    "    character = 1\n",
    "    word = 2\n",
    "    sentence = 3\n",
    "    paragraph = 4"
   ]
  },
  {
   "cell_type": "code",
   "execution_count": 4,
   "id": "5ecfbfcf",
   "metadata": {},
   "outputs": [],
   "source": [
    "Base = declarative_base()\n",
    "\n",
    "# data tables\n",
    "class Dataset(Base):\n",
    "\n",
    "    __tablename__ = \"Dataset\"\n",
    "\n",
    "    # columns\n",
    "    id = Column(Integer, primary_key=True)\n",
    "    name = Column(String)\n",
    "    version = Column(String)\n",
    "    # derived_from_dataset_id = Column(Integer, ForeignKey(\"Dataset.id\"))\n",
    "    # derived_from_dataset = relationship(\"Dataset\", backref=\"derived_from_dataset_id\")\n",
    "    created_at = Column(DateTime(timezone=True), server_default=func.now())\n",
    "\n",
    "class Record(Base):\n",
    "\n",
    "    __tablename__ = \"Record\"\n",
    "\n",
    "    # columns\n",
    "    id = Column(Integer, primary_key=True)\n",
    "    text = Column(TEXT, nullable=False)\n",
    "    target = Column(String)\n",
    "    dataset_id = Column(Integer, ForeignKey(\"Dataset.id\"))\n",
    "    created_at = Column(DateTime(timezone=True), server_default=func.now())\n",
    "\n",
    "# transform tables\n",
    "class Transform(Base):\n",
    "\n",
    "    __tablename__ = \"Transform\"\n",
    "\n",
    "    # columns\n",
    "    id = Column(Integer, primary_key=True)\n",
    "    module_name = Column(String)\n",
    "    class_name = Column(String)\n",
    "    trans_fn_name = Column(String)\n",
    "    created_at = Column(DateTime(timezone=True), server_default=func.now())\n",
    "\n",
    "class TransformApplied(Base):\n",
    "\n",
    "    __tablename__ = \"TransformApplied\"\n",
    "\n",
    "    # columns\n",
    "    id = Column(Integer, primary_key=True)\n",
    "    transformation_id = Column(Integer, ForeignKey(\"Transform.id\"))\n",
    "    transformation_class_args = Column(String)\n",
    "    transformation_class_kwargs = Column(JSON)\n",
    "    transformation_transform_args = Column(String)\n",
    "    transformation_transform_kwargs = Column(JSON)\n",
    "    input_record_id = Column(Integer, ForeignKey(\"Record.id\"))\n",
    "    output_record_id = Column(Integer, ForeignKey(\"Record.id\"))\n",
    "    diff = Column(JSON)\n",
    "    diff_granularity = Column(Enum(RefGranularity))\n",
    "    created_at = Column(DateTime(timezone=True), server_default=func.now())\n",
    "\n",
    "# model tables\n",
    "class ModelFramework(Base):\n",
    "\n",
    "    __tablename__ = \"ModelFramework\"\n",
    "\n",
    "    # columns\n",
    "    id = Column(Integer, primary_key=True)\n",
    "    name = Column(String)\n",
    "    version = Column(String)\n",
    "    created_at = Column(DateTime(timezone=True), server_default=func.now())\n",
    "\n",
    "class Model(Base):\n",
    "\n",
    "    __tablename__ = \"Model\"\n",
    "\n",
    "    # columns\n",
    "    id = Column(Integer, primary_key=True)\n",
    "    name = Column(String)\n",
    "    framework_id = Column(Integer, ForeignKey(\"ModelFramework.id\"))\n",
    "    version = Column(String)\n",
    "    input_signature = Column(String)\n",
    "    output_signature = Column(String)\n",
    "    created_at = Column(DateTime(timezone=True), server_default=func.now())\n",
    "\n",
    "class ModelInference(Base):\n",
    "\n",
    "    __tablename__ = \"ModelInference\"\n",
    "\n",
    "    # columns\n",
    "    id = Column(Integer, primary_key=True)\n",
    "    model_id = Column(Integer, ForeignKey(\"Model.id\"))\n",
    "    input_record_id = Column(Integer, ForeignKey(\"Record.id\"))\n",
    "    output = Column(String)\n",
    "    created_at = Column(DateTime(timezone=True), server_default=func.now())"
   ]
  },
  {
   "cell_type": "markdown",
   "id": "2041b472",
   "metadata": {},
   "source": [
    "### Create an Engine"
   ]
  },
  {
   "cell_type": "code",
   "execution_count": 29,
   "id": "6892ba49",
   "metadata": {},
   "outputs": [],
   "source": [
    "engine = create_engine(\"sqlite://\", echo=True, future=True)"
   ]
  },
  {
   "cell_type": "markdown",
   "id": "d7b111b0",
   "metadata": {},
   "source": [
    "### Emit CREATE TABLE DDL"
   ]
  },
  {
   "cell_type": "code",
   "execution_count": 30,
   "id": "b5c42ed0",
   "metadata": {},
   "outputs": [
    {
     "name": "stdout",
     "output_type": "stream",
     "text": [
      "2022-07-19 15:22:21,624 INFO sqlalchemy.engine.Engine BEGIN (implicit)\n",
      "2022-07-19 15:22:21,626 INFO sqlalchemy.engine.Engine PRAGMA main.table_info(\"Dataset\")\n",
      "2022-07-19 15:22:21,627 INFO sqlalchemy.engine.Engine [raw sql] ()\n",
      "2022-07-19 15:22:21,629 INFO sqlalchemy.engine.Engine PRAGMA temp.table_info(\"Dataset\")\n",
      "2022-07-19 15:22:21,630 INFO sqlalchemy.engine.Engine [raw sql] ()\n",
      "2022-07-19 15:22:21,633 INFO sqlalchemy.engine.Engine PRAGMA main.table_info(\"Record\")\n",
      "2022-07-19 15:22:21,634 INFO sqlalchemy.engine.Engine [raw sql] ()\n",
      "2022-07-19 15:22:21,635 INFO sqlalchemy.engine.Engine PRAGMA temp.table_info(\"Record\")\n",
      "2022-07-19 15:22:21,637 INFO sqlalchemy.engine.Engine [raw sql] ()\n",
      "2022-07-19 15:22:21,638 INFO sqlalchemy.engine.Engine PRAGMA main.table_info(\"Transform\")\n",
      "2022-07-19 15:22:21,639 INFO sqlalchemy.engine.Engine [raw sql] ()\n",
      "2022-07-19 15:22:21,641 INFO sqlalchemy.engine.Engine PRAGMA temp.table_info(\"Transform\")\n",
      "2022-07-19 15:22:21,642 INFO sqlalchemy.engine.Engine [raw sql] ()\n",
      "2022-07-19 15:22:21,645 INFO sqlalchemy.engine.Engine PRAGMA main.table_info(\"TransformApplied\")\n",
      "2022-07-19 15:22:21,647 INFO sqlalchemy.engine.Engine [raw sql] ()\n",
      "2022-07-19 15:22:21,649 INFO sqlalchemy.engine.Engine PRAGMA temp.table_info(\"TransformApplied\")\n",
      "2022-07-19 15:22:21,650 INFO sqlalchemy.engine.Engine [raw sql] ()\n",
      "2022-07-19 15:22:21,652 INFO sqlalchemy.engine.Engine PRAGMA main.table_info(\"ModelFramework\")\n",
      "2022-07-19 15:22:21,654 INFO sqlalchemy.engine.Engine [raw sql] ()\n",
      "2022-07-19 15:22:21,656 INFO sqlalchemy.engine.Engine PRAGMA temp.table_info(\"ModelFramework\")\n",
      "2022-07-19 15:22:21,659 INFO sqlalchemy.engine.Engine [raw sql] ()\n",
      "2022-07-19 15:22:21,662 INFO sqlalchemy.engine.Engine PRAGMA main.table_info(\"Model\")\n",
      "2022-07-19 15:22:21,665 INFO sqlalchemy.engine.Engine [raw sql] ()\n",
      "2022-07-19 15:22:21,667 INFO sqlalchemy.engine.Engine PRAGMA temp.table_info(\"Model\")\n",
      "2022-07-19 15:22:21,671 INFO sqlalchemy.engine.Engine [raw sql] ()\n",
      "2022-07-19 15:22:21,673 INFO sqlalchemy.engine.Engine PRAGMA main.table_info(\"ModelInference\")\n",
      "2022-07-19 15:22:21,674 INFO sqlalchemy.engine.Engine [raw sql] ()\n",
      "2022-07-19 15:22:21,676 INFO sqlalchemy.engine.Engine PRAGMA temp.table_info(\"ModelInference\")\n",
      "2022-07-19 15:22:21,679 INFO sqlalchemy.engine.Engine [raw sql] ()\n",
      "2022-07-19 15:22:21,683 INFO sqlalchemy.engine.Engine \n",
      "CREATE TABLE \"Dataset\" (\n",
      "\tid INTEGER NOT NULL, \n",
      "\tname VARCHAR, \n",
      "\tversion VARCHAR, \n",
      "\tcreated_at DATETIME DEFAULT (CURRENT_TIMESTAMP), \n",
      "\tPRIMARY KEY (id)\n",
      ")\n",
      "\n",
      "\n",
      "2022-07-19 15:22:21,684 INFO sqlalchemy.engine.Engine [no key 0.00156s] ()\n",
      "2022-07-19 15:22:21,686 INFO sqlalchemy.engine.Engine \n",
      "CREATE TABLE \"Transform\" (\n",
      "\tid INTEGER NOT NULL, \n",
      "\tname VARCHAR, \n",
      "\tcreated_at DATETIME DEFAULT (CURRENT_TIMESTAMP), \n",
      "\tPRIMARY KEY (id)\n",
      ")\n",
      "\n",
      "\n",
      "2022-07-19 15:22:21,687 INFO sqlalchemy.engine.Engine [no key 0.00096s] ()\n",
      "2022-07-19 15:22:21,689 INFO sqlalchemy.engine.Engine \n",
      "CREATE TABLE \"ModelFramework\" (\n",
      "\tid INTEGER NOT NULL, \n",
      "\tname VARCHAR, \n",
      "\tversion VARCHAR, \n",
      "\tcreated_at DATETIME DEFAULT (CURRENT_TIMESTAMP), \n",
      "\tPRIMARY KEY (id)\n",
      ")\n",
      "\n",
      "\n",
      "2022-07-19 15:22:21,692 INFO sqlalchemy.engine.Engine [no key 0.00219s] ()\n",
      "2022-07-19 15:22:21,694 INFO sqlalchemy.engine.Engine \n",
      "CREATE TABLE \"Record\" (\n",
      "\tid INTEGER NOT NULL, \n",
      "\ttext TEXT NOT NULL, \n",
      "\ttarget VARCHAR, \n",
      "\tdataset_id INTEGER, \n",
      "\tcreated_at DATETIME DEFAULT (CURRENT_TIMESTAMP), \n",
      "\tPRIMARY KEY (id), \n",
      "\tFOREIGN KEY(dataset_id) REFERENCES \"Dataset\" (id)\n",
      ")\n",
      "\n",
      "\n",
      "2022-07-19 15:22:21,695 INFO sqlalchemy.engine.Engine [no key 0.00120s] ()\n",
      "2022-07-19 15:22:21,697 INFO sqlalchemy.engine.Engine \n",
      "CREATE TABLE \"Model\" (\n",
      "\tid INTEGER NOT NULL, \n",
      "\tname VARCHAR, \n",
      "\tframework_id INTEGER, \n",
      "\tversion VARCHAR, \n",
      "\tinput_signature VARCHAR, \n",
      "\toutput_signature VARCHAR, \n",
      "\tcreated_at DATETIME DEFAULT (CURRENT_TIMESTAMP), \n",
      "\tPRIMARY KEY (id), \n",
      "\tFOREIGN KEY(framework_id) REFERENCES \"ModelFramework\" (id)\n",
      ")\n",
      "\n",
      "\n",
      "2022-07-19 15:22:21,698 INFO sqlalchemy.engine.Engine [no key 0.00107s] ()\n",
      "2022-07-19 15:22:21,700 INFO sqlalchemy.engine.Engine \n",
      "CREATE TABLE \"TransformApplied\" (\n",
      "\tid INTEGER NOT NULL, \n",
      "\ttransformation_id INTEGER, \n",
      "\ttransformation_info JSON, \n",
      "\tinput_record_id INTEGER, \n",
      "\toutput_record_id INTEGER, \n",
      "\tdiff JSON, \n",
      "\tdiff_granularity VARCHAR(9), \n",
      "\tcreated_at DATETIME DEFAULT (CURRENT_TIMESTAMP), \n",
      "\tPRIMARY KEY (id), \n",
      "\tFOREIGN KEY(transformation_id) REFERENCES \"Transform\" (id), \n",
      "\tFOREIGN KEY(input_record_id) REFERENCES \"Record\" (id), \n",
      "\tFOREIGN KEY(output_record_id) REFERENCES \"Record\" (id)\n",
      ")\n",
      "\n",
      "\n",
      "2022-07-19 15:22:21,701 INFO sqlalchemy.engine.Engine [no key 0.00081s] ()\n",
      "2022-07-19 15:22:21,704 INFO sqlalchemy.engine.Engine \n",
      "CREATE TABLE \"ModelInference\" (\n",
      "\tid INTEGER NOT NULL, \n",
      "\tmodel_id INTEGER, \n",
      "\tinput_record_id INTEGER, \n",
      "\toutput VARCHAR, \n",
      "\tcreated_at DATETIME DEFAULT (CURRENT_TIMESTAMP), \n",
      "\tPRIMARY KEY (id), \n",
      "\tFOREIGN KEY(model_id) REFERENCES \"Model\" (id), \n",
      "\tFOREIGN KEY(input_record_id) REFERENCES \"Record\" (id)\n",
      ")\n",
      "\n",
      "\n",
      "2022-07-19 15:22:21,705 INFO sqlalchemy.engine.Engine [no key 0.00105s] ()\n",
      "2022-07-19 15:22:21,707 INFO sqlalchemy.engine.Engine COMMIT\n"
     ]
    }
   ],
   "source": [
    "Base.metadata.create_all(engine)"
   ]
  },
  {
   "cell_type": "markdown",
   "id": "876e079e",
   "metadata": {},
   "source": [
    "### Create Objects and Persist"
   ]
  },
  {
   "cell_type": "markdown",
   "id": "102f82d7",
   "metadata": {},
   "source": [
    "#### Transformations"
   ]
  },
  {
   "cell_type": "code",
   "execution_count": 31,
   "id": "a2e22bb5",
   "metadata": {},
   "outputs": [],
   "source": [
    "from sibyl import TRANSFORMATIONS"
   ]
  },
  {
   "cell_type": "code",
   "execution_count": 135,
   "id": "ccd1e06b",
   "metadata": {},
   "outputs": [],
   "source": [
    "def create_and_return(session, model, defaults=None, **kwargs):\n",
    "    kwargs |= defaults or {}\n",
    "    instance = model(**kwargs)\n",
    "    try:\n",
    "        session.add(instance)\n",
    "        session.commit()\n",
    "    except Exception:  \n",
    "        session.rollback()\n",
    "        instance = session.query(model).filter_by(**kwargs).one()\n",
    "        return instance, False\n",
    "    else:\n",
    "        return instance, True\n",
    "\n",
    "def create_and_return(session, model, defaults=None, **kwargs):\n",
    "    kwargs |= defaults or {}\n",
    "    instance = model(**kwargs)\n",
    "    try:\n",
    "        session.add(instance)\n",
    "        session.commit()\n",
    "    except Exception:  \n",
    "        session.rollback()\n",
    "        return instance, False\n",
    "    else:\n",
    "        return instance, True\n",
    "        \n",
    "def get_or_create(session, model, defaults=None, **kwargs):\n",
    "    instance = session.query(model).filter_by(**kwargs).one_or_none()\n",
    "    if instance:\n",
    "        return instance, False\n",
    "    else:\n",
    "        kwargs |= defaults or {}\n",
    "        instance = model(**kwargs)\n",
    "        try:\n",
    "            session.add(instance)\n",
    "            session.commit()\n",
    "        except Exception:  \n",
    "            session.rollback()\n",
    "            instance = session.query(model).filter_by(**kwargs).one()\n",
    "            return instance, False\n",
    "        else:\n",
    "            return instance, True\n",
    "        \n",
    "def get_root_module(obj, sep=\".\"):\n",
    "    return obj.__module__.split(sep)[0]"
   ]
  },
  {
   "cell_type": "code",
   "execution_count": 136,
   "id": "24e7f065",
   "metadata": {},
   "outputs": [
    {
     "ename": "NameError",
     "evalue": "name 'Session' is not defined",
     "output_type": "error",
     "traceback": [
      "\u001b[1;31m---------------------------------------------------------------------------\u001b[0m",
      "\u001b[1;31mNameError\u001b[0m                                 Traceback (most recent call last)",
      "Input \u001b[1;32mIn [136]\u001b[0m, in \u001b[0;36m<cell line: 1>\u001b[1;34m()\u001b[0m\n\u001b[1;32m----> 1\u001b[0m \u001b[38;5;28;01mwith\u001b[39;00m \u001b[43mSession\u001b[49m(engine) \u001b[38;5;28;01mas\u001b[39;00m session:\n\u001b[0;32m      2\u001b[0m     \u001b[38;5;28;01mfor\u001b[39;00m t \u001b[38;5;129;01min\u001b[39;00m TRANSFORMATIONS:       \n\u001b[0;32m      3\u001b[0m         t_instance, t_exists \u001b[38;5;241m=\u001b[39m get_or_create(\n\u001b[0;32m      4\u001b[0m             session, \n\u001b[0;32m      5\u001b[0m             Transform,                        \n\u001b[0;32m      6\u001b[0m             name\u001b[38;5;241m=\u001b[39mt\u001b[38;5;241m.\u001b[39m\u001b[38;5;18m__name__\u001b[39m)\n",
      "\u001b[1;31mNameError\u001b[0m: name 'Session' is not defined"
     ]
    }
   ],
   "source": [
    "with Session(engine) as session:\n",
    "    for t in TRANSFORMATIONS:       \n",
    "        t_instance, t_exists = get_or_create(\n",
    "            session, \n",
    "            Transform,                        \n",
    "            name=t.__name__)"
   ]
  },
  {
   "cell_type": "code",
   "execution_count": 34,
   "id": "c39d426f",
   "metadata": {},
   "outputs": [
    {
     "name": "stdout",
     "output_type": "stream",
     "text": [
      "2022-07-19 15:22:24,362 INFO sqlalchemy.engine.Engine BEGIN (implicit)\n",
      "2022-07-19 15:22:24,365 INFO sqlalchemy.engine.Engine SELECT \"Transform\".id, \"Transform\".name, \"Transform\".created_at \n",
      "FROM \"Transform\"\n",
      "2022-07-19 15:22:24,367 INFO sqlalchemy.engine.Engine [generated in 0.00448s] ()\n",
      "(1, 'ExpandContractions', datetime.datetime(2022, 7, 19, 22, 22, 23))\n",
      "(2, 'ContractContractions', datetime.datetime(2022, 7, 19, 22, 22, 23))\n",
      "(3, 'Emojify', datetime.datetime(2022, 7, 19, 22, 22, 23))\n",
      "(4, 'AddPositiveEmoji', datetime.datetime(2022, 7, 19, 22, 22, 23))\n",
      "(5, 'AddNegativeEmoji', datetime.datetime(2022, 7, 19, 22, 22, 23))\n",
      "(6, 'AddNeutralEmoji', datetime.datetime(2022, 7, 19, 22, 22, 23))\n",
      "(7, 'Demojify', datetime.datetime(2022, 7, 19, 22, 22, 23))\n",
      "(8, 'RemovePositiveEmoji', datetime.datetime(2022, 7, 19, 22, 22, 23))\n",
      "(9, 'RemoveNegativeEmoji', datetime.datetime(2022, 7, 19, 22, 22, 23))\n",
      "(10, 'RemoveNeutralEmoji', datetime.datetime(2022, 7, 19, 22, 22, 23))\n",
      "(11, 'ChangeLocation', datetime.datetime(2022, 7, 19, 22, 22, 23))\n",
      "(12, 'ChangeName', datetime.datetime(2022, 7, 19, 22, 22, 23))\n",
      "(13, 'InsertPositivePhrase', datetime.datetime(2022, 7, 19, 22, 22, 23))\n",
      "(14, 'InsertNegativePhrase', datetime.datetime(2022, 7, 19, 22, 22, 23))\n",
      "(15, 'RandomInsertion', datetime.datetime(2022, 7, 19, 22, 22, 23))\n",
      "(16, 'InsertPunctuationMarks', datetime.datetime(2022, 7, 19, 22, 22, 23))\n",
      "(17, 'AddPositiveLink', datetime.datetime(2022, 7, 19, 22, 22, 23))\n",
      "(18, 'AddNegativeLink', datetime.datetime(2022, 7, 19, 22, 22, 23))\n",
      "(19, 'ImportLinkText', datetime.datetime(2022, 7, 19, 22, 22, 23))\n",
      "(20, 'AddNegation', datetime.datetime(2022, 7, 19, 22, 22, 23))\n",
      "(21, 'RemoveNegation', datetime.datetime(2022, 7, 19, 22, 22, 23))\n",
      "(22, 'RandomCharDel', datetime.datetime(2022, 7, 19, 22, 22, 23))\n",
      "(23, 'RandomCharInsert', datetime.datetime(2022, 7, 19, 22, 22, 23))\n",
      "(24, 'RandomCharSubst', datetime.datetime(2022, 7, 19, 22, 22, 24))\n",
      "(25, 'RandomCharSwap', datetime.datetime(2022, 7, 19, 22, 22, 24))\n",
      "(26, 'RandomSwapQwerty', datetime.datetime(2022, 7, 19, 22, 22, 24))\n",
      "(27, 'ChangeNumber', datetime.datetime(2022, 7, 19, 22, 22, 24))\n",
      "(28, 'ChangeSynonym', datetime.datetime(2022, 7, 19, 22, 22, 24))\n",
      "(29, 'ChangeAntonym', datetime.datetime(2022, 7, 19, 22, 22, 24))\n",
      "(30, 'ChangeHyponym', datetime.datetime(2022, 7, 19, 22, 22, 24))\n",
      "(31, 'ChangeHypernym', datetime.datetime(2022, 7, 19, 22, 22, 24))\n",
      "(32, 'WordDeletion', datetime.datetime(2022, 7, 19, 22, 22, 24))\n",
      "(33, 'HomoglyphSwap', datetime.datetime(2022, 7, 19, 22, 22, 24))\n",
      "(34, 'RandomSwap', datetime.datetime(2022, 7, 19, 22, 22, 24))\n",
      "(35, 'TextMix', datetime.datetime(2022, 7, 19, 22, 22, 24))\n",
      "(36, 'SentMix', datetime.datetime(2022, 7, 19, 22, 22, 24))\n",
      "(37, 'WordMix', datetime.datetime(2022, 7, 19, 22, 22, 24))\n",
      "(38, 'Concept2Sentence', datetime.datetime(2022, 7, 19, 22, 22, 24))\n",
      "(39, 'ConceptMix', datetime.datetime(2022, 7, 19, 22, 22, 24))\n",
      "2022-07-19 15:22:24,370 INFO sqlalchemy.engine.Engine ROLLBACK\n"
     ]
    }
   ],
   "source": [
    "stmt = select(Transform)\n",
    "\n",
    "with engine.connect() as conn:\n",
    "    for row in conn.execute(stmt):\n",
    "        print(row)"
   ]
  },
  {
   "cell_type": "markdown",
   "id": "db3e978d",
   "metadata": {},
   "source": [
    "#### Text and Targets"
   ]
  },
  {
   "cell_type": "code",
   "execution_count": 11,
   "id": "2e982d75",
   "metadata": {},
   "outputs": [],
   "source": [
    "in_text = [\n",
    "    \"The characters are unlikeable and the script is awful. It's a waste of the talents of Deneuve and Auteuil.\", \n",
    "    \"Unwatchable. You can't even make it past the first three minutes. And this is coming from a huge Adam Sandler fan!!1\",\n",
    "    \"An unfunny, unworthy picture which is an undeserving end to Peter Sellers' career. It is a pity this movie was ever made.\",\n",
    "    \"I think it's one of the greatest movies which are ever made, and I've seen many... The book is better, but it's still a very good movie!\",\n",
    "    \"The only thing serious about this movie is the humor. Well worth the rental price. I'll bet you watch it twice. It's obvious that Sutherland enjoyed his role.\",\n",
    "    \"Touching; Well directed autobiography of a talented young director/producer. A love story with Rabin's assassination in the background. Worth seeing\"\n",
    "]\n",
    "\n",
    "in_target = [0, 0, 0, 1, 1, 1] # (imdb dataset 0=negative, 1=positive)\n",
    "\n",
    "batch = (in_text, in_target)"
   ]
  },
  {
   "cell_type": "code",
   "execution_count": 12,
   "id": "ada9bbb3",
   "metadata": {},
   "outputs": [
    {
     "name": "stdout",
     "output_type": "stream",
     "text": [
      "2022-07-19 14:00:23,428 INFO sqlalchemy.engine.Engine BEGIN (implicit)\n",
      "2022-07-19 14:00:23,430 INFO sqlalchemy.engine.Engine INSERT INTO \"Record\" (text, target, dataset_id) VALUES (?, ?, ?)\n",
      "2022-07-19 14:00:23,431 INFO sqlalchemy.engine.Engine [generated in 0.00108s] (\"The characters are unlikeable and the script is awful. It's a waste of the talents of Deneuve and Auteuil.\", 0, None)\n",
      "2022-07-19 14:00:23,433 INFO sqlalchemy.engine.Engine INSERT INTO \"Record\" (text, target, dataset_id) VALUES (?, ?, ?)\n",
      "2022-07-19 14:00:23,434 INFO sqlalchemy.engine.Engine [cached since 0.003994s ago] (\"Unwatchable. You can't even make it past the first three minutes. And this is coming from a huge Adam Sandler fan!!1\", 0, None)\n",
      "2022-07-19 14:00:23,435 INFO sqlalchemy.engine.Engine INSERT INTO \"Record\" (text, target, dataset_id) VALUES (?, ?, ?)\n",
      "2022-07-19 14:00:23,436 INFO sqlalchemy.engine.Engine [cached since 0.006554s ago] (\"An unfunny, unworthy picture which is an undeserving end to Peter Sellers' career. It is a pity this movie was ever made.\", 0, None)\n",
      "2022-07-19 14:00:23,437 INFO sqlalchemy.engine.Engine INSERT INTO \"Record\" (text, target, dataset_id) VALUES (?, ?, ?)\n",
      "2022-07-19 14:00:23,438 INFO sqlalchemy.engine.Engine [cached since 0.00801s ago] (\"I think it's one of the greatest movies which are ever made, and I've seen many... The book is better, but it's still a very good movie!\", 1, None)\n",
      "2022-07-19 14:00:23,439 INFO sqlalchemy.engine.Engine INSERT INTO \"Record\" (text, target, dataset_id) VALUES (?, ?, ?)\n",
      "2022-07-19 14:00:23,440 INFO sqlalchemy.engine.Engine [cached since 0.009962s ago] (\"The only thing serious about this movie is the humor. Well worth the rental price. I'll bet you watch it twice. It's obvious that Sutherland enjoyed his role.\", 1, None)\n",
      "2022-07-19 14:00:23,441 INFO sqlalchemy.engine.Engine INSERT INTO \"Record\" (text, target, dataset_id) VALUES (?, ?, ?)\n",
      "2022-07-19 14:00:23,442 INFO sqlalchemy.engine.Engine [cached since 0.01161s ago] (\"Touching; Well directed autobiography of a talented young director/producer. A love story with Rabin's assassination in the background. Worth seeing\", 1, None)\n",
      "2022-07-19 14:00:23,443 INFO sqlalchemy.engine.Engine COMMIT\n"
     ]
    }
   ],
   "source": [
    "with Session(engine) as session:\n",
    "    \n",
    "    records = [Record(text=text, target=target) for text, target in zip(*batch)]\n",
    "    session.add_all(records)\n",
    "    session.commit()"
   ]
  },
  {
   "cell_type": "code",
   "execution_count": 13,
   "id": "4d424176",
   "metadata": {
    "scrolled": true
   },
   "outputs": [
    {
     "name": "stdout",
     "output_type": "stream",
     "text": [
      "2022-07-19 14:00:23,459 INFO sqlalchemy.engine.Engine BEGIN (implicit)\n",
      "2022-07-19 14:00:23,461 INFO sqlalchemy.engine.Engine SELECT \"Record\".id, \"Record\".text, \"Record\".target, \"Record\".dataset_id, \"Record\".created_at \n",
      "FROM \"Record\"\n",
      "2022-07-19 14:00:23,462 INFO sqlalchemy.engine.Engine [generated in 0.00312s] ()\n",
      "(1, \"The characters are unlikeable and the script is awful. It's a waste of the talents of Deneuve and Auteuil.\", '0', None, datetime.datetime(2022, 7, 19, 21, 0, 23))\n",
      "(2, \"Unwatchable. You can't even make it past the first three minutes. And this is coming from a huge Adam Sandler fan!!1\", '0', None, datetime.datetime(2022, 7, 19, 21, 0, 23))\n",
      "(3, \"An unfunny, unworthy picture which is an undeserving end to Peter Sellers' career. It is a pity this movie was ever made.\", '0', None, datetime.datetime(2022, 7, 19, 21, 0, 23))\n",
      "(4, \"I think it's one of the greatest movies which are ever made, and I've seen many... The book is better, but it's still a very good movie!\", '1', None, datetime.datetime(2022, 7, 19, 21, 0, 23))\n",
      "(5, \"The only thing serious about this movie is the humor. Well worth the rental price. I'll bet you watch it twice. It's obvious that Sutherland enjoyed his role.\", '1', None, datetime.datetime(2022, 7, 19, 21, 0, 23))\n",
      "(6, \"Touching; Well directed autobiography of a talented young director/producer. A love story with Rabin's assassination in the background. Worth seeing\", '1', None, datetime.datetime(2022, 7, 19, 21, 0, 23))\n",
      "2022-07-19 14:00:23,464 INFO sqlalchemy.engine.Engine ROLLBACK\n"
     ]
    }
   ],
   "source": [
    "stmt = select(Record)\n",
    "\n",
    "with engine.connect() as conn:\n",
    "    for row in conn.execute(stmt):\n",
    "        print(row)"
   ]
  },
  {
   "cell_type": "markdown",
   "id": "18bab7ba",
   "metadata": {},
   "source": [
    "#### TransformApplied"
   ]
  },
  {
   "cell_type": "code",
   "execution_count": 5,
   "id": "56c60b1d",
   "metadata": {},
   "outputs": [],
   "source": [
    "%load_ext autoreload\n",
    "%autoreload 2"
   ]
  },
  {
   "cell_type": "code",
   "execution_count": 7,
   "id": "83646d45",
   "metadata": {},
   "outputs": [],
   "source": [
    "from sibyl import *\n",
    "from datasets import load_dataset\n",
    "\n",
    "from lineage import LeBatch\n",
    "\n",
    "from sqlalchemy import create_engine, select\n",
    "from sqlalchemy_utils import database_exists"
   ]
  },
  {
   "cell_type": "code",
   "execution_count": 8,
   "id": "9655a11c",
   "metadata": {},
   "outputs": [
    {
     "name": "stderr",
     "output_type": "stream",
     "text": [
      "Reusing dataset glue (C:\\Users\\Fabrice\\.cache\\huggingface\\datasets\\glue\\sst2\\1.0.0\\dacbe3125aa31d7f70367a07a8a9e72a5a0bfeb5fc42e75c9db75b96da6053ad)\n"
     ]
    }
   ],
   "source": [
    "dataset = load_dataset(\"glue\", \"sst2\", split=\"train[:1]\")\n",
    "dataset = dataset.rename_column('sentence', 'text')"
   ]
  },
  {
   "cell_type": "code",
   "execution_count": 9,
   "id": "d78e5207",
   "metadata": {},
   "outputs": [],
   "source": [
    "scheduler = SibylTransformScheduler(\"sentiment\")"
   ]
  },
  {
   "cell_type": "code",
   "execution_count": 18,
   "id": "894cb572",
   "metadata": {},
   "outputs": [
    {
     "name": "stdout",
     "output_type": "stream",
     "text": [
      "<sibyl.transformations.text.mixture.concept_mix.ConceptMix object at 0x0000024DDD492100>\n",
      "<sibyl.transformations.text.word_swap.change_synse.ChangeSynonym object at 0x0000024DC5BE5910>\n"
     ]
    }
   ],
   "source": [
    "text, label = dataset['text'], dataset['label'] \n",
    "new_text, new_label = [], []\n",
    "\n",
    "batch_size = 1\n",
    "\n",
    "scheduler.num_INV = 1\n",
    "scheduler.num_SIB = 1\n",
    "\n",
    "records = []\n",
    "for i in range(0, len(label), batch_size):\n",
    "    text_batch = text[i:i+batch_size]\n",
    "    label_batch = label[i:i+batch_size]\n",
    "    batch = (text_batch, label_batch)\n",
    "    for transform in scheduler.sample():\n",
    "        print(transform)\n",
    "        # batch = transform.transform_batch(batch)\n",
    "        batch = LeBatch(batch).apply(transform.transform_batch)\n",
    "    records.append(batch)"
   ]
  },
  {
   "cell_type": "code",
   "execution_count": 11,
   "id": "2e834fb7",
   "metadata": {},
   "outputs": [
    {
     "data": {
      "text/plain": [
       "[<LeRecord:\n",
       " \t text=\"b'hide Modern secretion from the maternal unit  enshroud Modern secretion from the maternal unit '\",\n",
       " \t target=\"[1.0, 0.0]\",\n",
       " \t le_attrs={'transformation_provenance': <TransformationProvenance: {(1, '{\"module_name\": \"sibyl.transformations.text.word_swap.change_synse\", \"class_name\": \"ChangeSynonym\", \"trans_fn_name\": \"transform_batch\", \"class_args\": \"null\", \"class_kwargs\": \"{\\\\\"return_metadata\\\\\": true}\", \"transform_args\": \"null\", \"transform_kwargs\": \"null\", \"fn_is_stochastic\": false}'), (0, '{\"module_name\": \"sibyl.transformations.text.mixture.text_mix\", \"class_name\": \"SentMix\", \"trans_fn_name\": \"transform_batch\", \"class_args\": \"null\", \"class_kwargs\": \"{\\\\\"return_metadata\\\\\": true}\", \"transform_args\": \"null\", \"transform_kwargs\": \"null\", \"fn_is_stochastic\": false}')}>, 'prev': <LeRecord:\n",
       " \t text=\"b'hide new secretions from the parental units  hide new secretions from the parental units '\",\n",
       " \t target=\"[1.0, 0.0]\",\n",
       " \t le_attrs={'transformation_provenance': <TransformationProvenance: {(0, '{\"module_name\": \"sibyl.transformations.text.mixture.text_mix\", \"class_name\": \"SentMix\", \"trans_fn_name\": \"transform_batch\", \"class_args\": \"null\", \"class_kwargs\": \"{\\\\\"return_metadata\\\\\": true}\", \"transform_args\": \"null\", \"transform_kwargs\": \"null\", \"fn_is_stochastic\": false}')}>, 'prev': <LeRecord:\n",
       " \t text=\"hide new secretions from the parental units \",\n",
       " \t target=\"0\",\n",
       " \t le_attrs={'transformation_provenance': <TransformationProvenance: set()>, 'feature_provenance': <FeatureProvenance[edit_seq] set()>, 'prev': None}>, 'feature_provenance': <FeatureProvenance[edit_seq] {(0, (14, 15), 'insert: [7,7]-[14,15]')}>, 'granularity': 'word'}>, 'feature_provenance': <FeatureProvenance[edit_seq] {(0, (14, 15), 'insert: [7,7]-[14,15]'), (1, (12, 14), 'replace: [12,14]-[12,14]')}>, 'granularity': 'word'}>]"
      ]
     },
     "execution_count": 11,
     "metadata": {},
     "output_type": "execute_result"
    }
   ],
   "source": [
    "batch"
   ]
  },
  {
   "cell_type": "code",
   "execution_count": 12,
   "id": "9a7a8a7f",
   "metadata": {},
   "outputs": [
    {
     "data": {
      "text/plain": [
       "True"
      ]
     },
     "execution_count": 12,
     "metadata": {},
     "output_type": "execute_result"
    }
   ],
   "source": [
    "engine = create_engine(\"sqlite:///dpml.db\", echo=True, future=True)\n",
    "database_exists(engine.url)"
   ]
  },
  {
   "cell_type": "code",
   "execution_count": 19,
   "id": "82a3e8f1",
   "metadata": {},
   "outputs": [
    {
     "name": "stdout",
     "output_type": "stream",
     "text": [
      "2022-07-20 15:11:22,047 INFO sqlalchemy.engine.Engine BEGIN (implicit)\n",
      "2022-07-20 15:11:22,049 INFO sqlalchemy.engine.Engine SELECT \"TransformApplied\".id, \"TransformApplied\".transformation_id, \"TransformApplied\".transformation_class_args, \"TransformApplied\".transformation_class_kwargs, \"TransformApplied\".transformation_transform_args, \"TransformApplied\".transformation_transform_kwargs, \"TransformApplied\".input_record_id, \"TransformApplied\".output_record_id, \"TransformApplied\".diff, \"TransformApplied\".diff_granularity, \"TransformApplied\".created_at \n",
      "FROM \"TransformApplied\"\n",
      "2022-07-20 15:11:22,050 INFO sqlalchemy.engine.Engine [cached since 502s ago] ()\n",
      "(1, 1, 'null', '{\"return_metadata\": true}', 'null', 'null', 1, None, ['insert: [7,7]-[14,15]'], <RefGranularity.word: 2>, datetime.datetime(2022, 7, 20, 20, 23, 12))\n",
      "(2, 2, 'null', '{\"return_metadata\": true}', 'null', 'null', None, None, ['replace: [12,14]-[12,14]'], <RefGranularity.word: 2>, datetime.datetime(2022, 7, 20, 20, 23, 13))\n",
      "(3, 3, 'null', '{\"return_metadata\": true}', 'null', 'null', 2, 3, ['insert: [7,7]-[7,13]'], <RefGranularity.word: 2>, datetime.datetime(2022, 7, 20, 20, 25, 3))\n",
      "(4, 4, 'null', '{\"return_metadata\": true}', 'null', 'null', 4, 5, [], <RefGranularity.word: 2>, datetime.datetime(2022, 7, 20, 20, 25, 3))\n",
      "(5, 1, 'null', '{\"return_metadata\": true}', 'null', 'null', 6, None, ['insert: [7,7]-[14,15]'], <RefGranularity.word: 2>, datetime.datetime(2022, 7, 20, 20, 25, 17))\n",
      "(6, 5, 'null', '{\"return_metadata\": true}', 'null', 'null', None, None, [], <RefGranularity.word: 2>, datetime.datetime(2022, 7, 20, 20, 25, 18))\n",
      "(7, 6, 'null', '{\"return_metadata\": true, \"dataset\": null}', 'null', 'null', 7, None, ['insert: [0,0]-[0,8]'], <RefGranularity.word: 2>, datetime.datetime(2022, 7, 20, 21, 54, 50))\n",
      "(8, 2, 'null', '{\"return_metadata\": true}', 'null', 'null', None, None, ['replace: [13,15]-[13,15]'], <RefGranularity.word: 2>, datetime.datetime(2022, 7, 20, 21, 54, 50))\n",
      "(9, 1, 'null', '{\"return_metadata\": true}', 'null', 'null', 10, None, ['insert: [7,7]-[14,15]'], <RefGranularity.word: 2>, datetime.datetime(2022, 7, 20, 22, 2, 48))\n",
      "(10, 2, 'null', '{\"return_metadata\": true}', 'null', 'null', None, None, ['replace: [12,14]-[12,14]'], <RefGranularity.word: 2>, datetime.datetime(2022, 7, 20, 22, 2, 48))\n",
      "(11, 3, 'null', '{\"return_metadata\": true}', 'null', 'null', 11, 12, ['insert: [7,7]-[7,13]'], <RefGranularity.word: 2>, datetime.datetime(2022, 7, 20, 22, 3, 6))\n",
      "(12, 4, 'null', '{\"return_metadata\": true}', 'null', 'null', 13, 14, [], <RefGranularity.word: 2>, datetime.datetime(2022, 7, 20, 22, 3, 6))\n",
      "(13, 1, 'null', '{\"return_metadata\": true}', 'null', 'null', 15, None, ['insert: [7,7]-[14,15]'], <RefGranularity.word: 2>, datetime.datetime(2022, 7, 20, 22, 10, 2))\n",
      "(14, 5, 'null', '{\"return_metadata\": true}', 'null', 'null', None, None, [], <RefGranularity.word: 2>, datetime.datetime(2022, 7, 20, 22, 10, 2))\n",
      "(15, 6, 'null', '{\"return_metadata\": true, \"dataset\": null}', 'null', 'null', 16, None, ['insert: [0,0]-[0,8]'], <RefGranularity.word: 2>, datetime.datetime(2022, 7, 20, 22, 11, 17))\n",
      "(16, 2, 'null', '{\"return_metadata\": true}', 'null', 'null', None, None, ['replace: [14,15]-[14,15]'], <RefGranularity.word: 2>, datetime.datetime(2022, 7, 20, 22, 11, 17))\n",
      "2022-07-20 15:11:22,057 INFO sqlalchemy.engine.Engine ROLLBACK\n"
     ]
    }
   ],
   "source": [
    "stmt = select(TransformApplied)\n",
    "with engine.connect() as conn:\n",
    "    for row in conn.execute(stmt):\n",
    "        print(row)"
   ]
  },
  {
   "cell_type": "code",
   "execution_count": null,
   "id": "ad919d91",
   "metadata": {},
   "outputs": [],
   "source": []
  }
 ],
 "metadata": {
  "kernelspec": {
   "display_name": "Python 3 (ipykernel)",
   "language": "python",
   "name": "python3"
  },
  "language_info": {
   "codemirror_mode": {
    "name": "ipython",
    "version": 3
   },
   "file_extension": ".py",
   "mimetype": "text/x-python",
   "name": "python",
   "nbconvert_exporter": "python",
   "pygments_lexer": "ipython3",
   "version": "3.9.0"
  }
 },
 "nbformat": 4,
 "nbformat_minor": 5
}
