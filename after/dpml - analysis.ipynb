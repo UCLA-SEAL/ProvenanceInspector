{
 "cells": [
  {
   "cell_type": "code",
   "execution_count": 1,
   "id": "da2b8d84",
   "metadata": {},
   "outputs": [],
   "source": [
    "%load_ext autoreload\n",
    "%autoreload 2"
   ]
  },
  {
   "cell_type": "code",
   "execution_count": 98,
   "id": "9cf5f372",
   "metadata": {},
   "outputs": [],
   "source": [
    "from transformers import pipeline\n",
    "from datasets import load_dataset\n",
    "from sibyl import *\n",
    "import random"
   ]
  },
  {
   "cell_type": "markdown",
   "id": "5521f9c0",
   "metadata": {},
   "source": [
    "### Dataset"
   ]
  },
  {
   "cell_type": "code",
   "execution_count": 20,
   "id": "9ac802fe",
   "metadata": {},
   "outputs": [
    {
     "name": "stderr",
     "output_type": "stream",
     "text": [
      "Reusing dataset glue (C:\\Users\\fabri\\.cache\\huggingface\\datasets\\glue\\sst2\\1.0.0\\dacbe3125aa31d7f70367a07a8a9e72a5a0bfeb5fc42e75c9db75b96da6053ad)\n"
     ]
    }
   ],
   "source": [
    "dataset = load_dataset(\"glue\", \"sst2\", split=\"train\")\n",
    "dataset = dataset.rename_column(\"sentence\", \"text\")\n",
    "original_text, original_labels = dataset['text'], dataset['label']"
   ]
  },
  {
   "cell_type": "markdown",
   "id": "053e8eda",
   "metadata": {},
   "source": [
    "### Model"
   ]
  },
  {
   "cell_type": "code",
   "execution_count": 4,
   "id": "8e94b8c7",
   "metadata": {},
   "outputs": [
    {
     "name": "stderr",
     "output_type": "stream",
     "text": [
      "No model was supplied, defaulted to distilbert-base-uncased-finetuned-sst-2-english (https://huggingface.co/distilbert-base-uncased-finetuned-sst-2-english)\n"
     ]
    }
   ],
   "source": [
    "pipe = pipeline(task=\"sentiment-analysis\")"
   ]
  },
  {
   "cell_type": "markdown",
   "id": "3341e6e2",
   "metadata": {},
   "source": [
    "### Transform"
   ]
  },
  {
   "cell_type": "code",
   "execution_count": 5,
   "id": "5e3bb818",
   "metadata": {},
   "outputs": [],
   "source": [
    "transform = ChangeAntonym(task_name=\"sentiment\", return_metadata=True)"
   ]
  },
  {
   "cell_type": "markdown",
   "id": "3b2fc382",
   "metadata": {},
   "source": [
    "### Feature "
   ]
  },
  {
   "cell_type": "code",
   "execution_count": 6,
   "id": "7b1fbbe9",
   "metadata": {},
   "outputs": [],
   "source": [
    "def contains_question(s):\n",
    "    return \"?\" in s"
   ]
  },
  {
   "cell_type": "markdown",
   "id": "edffadf9",
   "metadata": {},
   "source": [
    "### Analysis"
   ]
  },
  {
   "cell_type": "code",
   "execution_count": 7,
   "id": "c73e3bc6",
   "metadata": {},
   "outputs": [],
   "source": [
    "from sibyl import acc_at_k\n",
    "from sklearn.metrics import accuracy_score"
   ]
  },
  {
   "cell_type": "code",
   "execution_count": 93,
   "id": "279762ea",
   "metadata": {},
   "outputs": [],
   "source": [
    "def extract_probs(results):\n",
    "    return np.array([[1-r['score'], r['score']] if r['label'] == \"POSITIVE\" else [r['score'], 1-r['score']] for r in results])\n",
    "\n",
    "def compute_accuracy(predictions, labels):\n",
    "    if len(labels.shape) > 1:\n",
    "        acc = acc_at_k(labels, predictions, k=2)       \n",
    "    else:\n",
    "        acc = accuracy_score(labels, np.argmax(predictions, -1))\n",
    "    return acc"
   ]
  },
  {
   "cell_type": "code",
   "execution_count": 109,
   "id": "13c22cb1",
   "metadata": {},
   "outputs": [
    {
     "name": "stdout",
     "output_type": "stream",
     "text": [
      "number of inputs with questions: 186\n",
      "number of inputs without questions: 186\n"
     ]
    }
   ],
   "source": [
    "qs, nqs = [], []\n",
    "\n",
    "for s, l in zip(original_text, original_labels):\n",
    "    if contains_question(s):\n",
    "        qs.append((s, l))\n",
    "    else:\n",
    "        nqs.append((s,l))\n",
    "        \n",
    "q_text, q_labels = zip(*qs)\n",
    "nq_text, nq_labels = zip(*random.sample(nqs, len(q_text)))\n",
    "\n",
    "q_text, q_labels = list(q_text), one_hot_encode(q_labels, 2)\n",
    "nq_text, nq_labels = list(nq_text), one_hot_encode(q_labels, 2)\n",
    "\n",
    "print(f\"number of inputs with questions: {len(q_text)}\")\n",
    "print(f\"number of inputs without questions: {len(nq_text)}\")"
   ]
  },
  {
   "cell_type": "code",
   "execution_count": 110,
   "id": "4a261699",
   "metadata": {},
   "outputs": [],
   "source": [
    "transformed_q_text, transformed_q_labels = transform.transform_batch(batch=(q_text, q_labels))\n",
    "transformed_nq_text, transformed_nq_labels = transform.transform_batch(batch=(nq_text, nq_labels))\n",
    "\n",
    "transformed_q_labels = np.array(transformed_q_labels).squeeze()\n",
    "transformed_nq_labels = np.array(transformed_nq_labels).squeeze()"
   ]
  },
  {
   "cell_type": "code",
   "execution_count": 111,
   "id": "98d0ac02",
   "metadata": {},
   "outputs": [],
   "source": [
    "original_q_preds = extract_probs(pipe(q_text))\n",
    "original_nq_preds = extract_probs(pipe(nq_text))\n",
    "\n",
    "transformed_q_preds = extract_probs(pipe(transformed_q_text))\n",
    "transformed_nq_preds = extract_probs(pipe(transformed_nq_text))"
   ]
  },
  {
   "cell_type": "code",
   "execution_count": 112,
   "id": "1c3ba9bb",
   "metadata": {},
   "outputs": [],
   "source": [
    "original_q_acc = compute_accuracy(original_q_preds, np.argmax(q_labels, -1))\n",
    "original_nq_acc = compute_accuracy(original_nq_preds, np.argmax(nq_labels, -1))\n",
    "\n",
    "transformed_q_acc = compute_accuracy(transformed_q_preds, transformed_q_labels)\n",
    "transformed_nq_acc = compute_accuracy(transformed_nq_preds, transformed_nq_labels)"
   ]
  },
  {
   "cell_type": "code",
   "execution_count": 114,
   "id": "d00f5255",
   "metadata": {},
   "outputs": [
    {
     "name": "stdout",
     "output_type": "stream",
     "text": [
      "original_q_acc: \t1.0\n",
      "original_nq_acc: \t0.46\n",
      "transformed_q_acc: \t0.87\n",
      "transformed_nq_acc: \t0.6\n"
     ]
    }
   ],
   "source": [
    "print(f\"original_q_acc: \\t{round(original_q_acc, 2)}\")\n",
    "print(f\"original_nq_acc: \\t{round(original_nq_acc, 2)}\")\n",
    "print(f\"transformed_q_acc: \\t{round(transformed_q_acc, 2)}\")\n",
    "print(f\"transformed_nq_acc: \\t{round(transformed_nq_acc, 2)}\")"
   ]
  },
  {
   "cell_type": "code",
   "execution_count": null,
   "id": "75d43b4a",
   "metadata": {},
   "outputs": [],
   "source": []
  }
 ],
 "metadata": {
  "kernelspec": {
   "display_name": "Python 3 (ipykernel)",
   "language": "python",
   "name": "python3"
  },
  "language_info": {
   "codemirror_mode": {
    "name": "ipython",
    "version": 3
   },
   "file_extension": ".py",
   "mimetype": "text/x-python",
   "name": "python",
   "nbconvert_exporter": "python",
   "pygments_lexer": "ipython3",
   "version": "3.10.4"
  }
 },
 "nbformat": 4,
 "nbformat_minor": 5
}
