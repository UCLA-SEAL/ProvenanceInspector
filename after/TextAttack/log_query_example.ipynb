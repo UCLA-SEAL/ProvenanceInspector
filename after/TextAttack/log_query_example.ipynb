{
 "cells": [
  {
   "cell_type": "markdown",
   "metadata": {
    "id": "xEqFN8mmaZG3"
   },
   "source": [
    "## Demo Transformation Logging Process"
   ]
  },
  {
   "cell_type": "code",
   "execution_count": 1,
   "metadata": {},
   "outputs": [
    {
     "name": "stderr",
     "output_type": "stream",
     "text": [
      "/home/coraline/anaconda3/envs/dpml/lib/python3.7/site-packages/tqdm/auto.py:22: TqdmWarning: IProgress not found. Please update jupyter and ipywidgets. See https://ipywidgets.readthedocs.io/en/stable/user_install.html\n",
      "  from .autonotebook import tqdm as notebook_tqdm\n",
      "2022-06-14 12:33:28.317481: I tensorflow/stream_executor/platform/default/dso_loader.cc:53] Successfully opened dynamic library libcudart.so.11.0\n"
     ]
    }
   ],
   "source": [
    "import textattack\n",
    "import transformers"
   ]
  },
  {
   "cell_type": "code",
   "execution_count": 2,
   "metadata": {
    "scrolled": true
   },
   "outputs": [
    {
     "name": "stderr",
     "output_type": "stream",
     "text": [
      "textattack: Unknown if model of class <class 'transformers.models.bert.modeling_bert.BertForSequenceClassification'> compatible with goal function <class 'textattack.goal_functions.classification.untargeted_classification.UntargetedClassification'>.\n",
      "Reusing dataset glue (/home/coraline/.cache/huggingface/datasets/glue/sst2/1.0.0/dacbe3125aa31d7f70367a07a8a9e72a5a0bfeb5fc42e75c9db75b96da6053ad)\n",
      "100%|███████████████████████████████████████████████████████████████████████████████████████| 3/3 [00:00<00:00, 1196.09it/s]\n",
      "textattack: Loading \u001b[94mdatasets\u001b[0m dataset \u001b[94mglue\u001b[0m, subset \u001b[94msst2\u001b[0m, split \u001b[94mvalidation\u001b[0m.\n"
     ]
    }
   ],
   "source": [
    "model = transformers.AutoModelForSequenceClassification.from_pretrained(\"textattack/bert-base-uncased-SST-2\")\n",
    "tokenizer = transformers.AutoTokenizer.from_pretrained(\"textattack/bert-base-uncased-SST-2\", use_fast=True)\n",
    "model_wrapper = textattack.models.wrappers.HuggingFaceModelWrapper(model, tokenizer)\n",
    "\n",
    "attack = textattack.attack_recipes.A2TYoo2021.build(model_wrapper)\n",
    "dataset = textattack.datasets.HuggingFaceDataset(\"glue\", \"sst2\", split=\"validation\")\n"
   ]
  },
  {
   "cell_type": "code",
   "execution_count": 3,
   "metadata": {
    "scrolled": true
   },
   "outputs": [
    {
     "name": "stderr",
     "output_type": "stream",
     "text": [
      "textattack: Logging to CSV at path ../results/log.csv\n"
     ]
    },
    {
     "name": "stdout",
     "output_type": "stream",
     "text": [
      "Attack(\n",
      "  (search_method): GreedyWordSwapWIR(\n",
      "    (wir_method):  gradient\n",
      "  )\n",
      "  (goal_function):  UntargetedClassification\n",
      "  (transformation):  WordSwapEmbedding(\n",
      "    (max_candidates):  20\n",
      "    (embedding):  WordEmbedding\n",
      "  )\n",
      "  (constraints): \n",
      "    (0): PartOfSpeech(\n",
      "        (tagger_type):  nltk\n",
      "        (tagset):  universal\n",
      "        (allow_verb_noun_swap):  False\n",
      "        (compare_against_original):  True\n",
      "      )\n",
      "    (1): BERT(\n",
      "        (metric):  cosine\n",
      "        (threshold):  0.9\n",
      "        (window_size):  inf\n",
      "        (skip_text_shorter_than_window):  False\n",
      "        (compare_against_original):  True\n",
      "      )\n",
      "    (2): WordEmbeddingDistance(\n",
      "        (embedding):  WordEmbedding\n",
      "        (min_cos_sim):  0.8\n",
      "        (cased):  False\n",
      "        (include_unknown_words):  True\n",
      "        (compare_against_original):  True\n",
      "      )\n",
      "    (3): RepeatModification\n",
      "    (4): StopwordModification\n",
      "    (5): InputColumnModification(\n",
      "        (matching_column_labels):  ['premise', 'hypothesis']\n",
      "        (columns_to_ignore):  {'premise'}\n",
      "      )\n",
      "    (6): MaxModificationRate(\n",
      "        (max_rate):  0.1\n",
      "        (min_threshold):  4\n",
      "      )\n",
      "  (is_black_box):  False\n",
      ") \n",
      "\n"
     ]
    },
    {
     "name": "stderr",
     "output_type": "stream",
     "text": [
      "  0%|                                                                                                | 0/20 [00:00<?, ?it/s]/home/coraline/anaconda3/envs/dpml/lib/python3.7/site-packages/torch/nn/modules/module.py:1033: UserWarning: Using a non-full backward hook when the forward contains multiple autograd Nodes is deprecated and will be removed in future versions. This hook will be missing some grad_input. Please use register_full_backward_hook to get the documented behavior.\n",
      "  warnings.warn(\"Using a non-full backward hook when the forward contains multiple autograd Nodes \"\n",
      "[Succeeded / Failed / Skipped / Total] 0 / 1 / 0 / 1:   5%|█▋                                | 1/20 [00:00<00:17,  1.10it/s]"
     ]
    },
    {
     "name": "stdout",
     "output_type": "stream",
     "text": [
      "--------------------------------------------- Result 1 ---------------------------------------------\n",
      "[[Positive (100%)]] --> [[[FAILED]]]\n",
      "\n",
      "it 's a charming and [[often]] affecting journey . \n",
      "\n",
      "it 's a charming and [[normally]] affecting journey . \n",
      "\n",
      "it 's a charming and often affecting journey . \n",
      "\n",
      "it 's a charming and normally affecting journey . \n",
      "\n",
      "it 's a charming and often affecting journey . \n",
      "\n",
      "it 's a charming and normally affecting journey . \n",
      "\n",
      "\n"
     ]
    },
    {
     "name": "stderr",
     "output_type": "stream",
     "text": [
      "[Succeeded / Failed / Skipped / Total] 0 / 2 / 0 / 2:  10%|███▍                              | 2/20 [00:01<00:11,  1.58it/s]"
     ]
    },
    {
     "name": "stdout",
     "output_type": "stream",
     "text": [
      "--------------------------------------------- Result 2 ---------------------------------------------\n",
      "[[Negative (99%)]] --> [[[FAILED]]]\n",
      "\n",
      "unflinchingly [[bleak]] and desperate \n",
      "\n",
      "unflinchingly [[grim]] and desperate \n",
      "\n",
      "unflinchingly bleak and desperate \n",
      "\n",
      "unflinchingly grim and desperate \n",
      "\n",
      "unflinchingly bleak and desperate \n",
      "\n",
      "unflinchingly grim and desperate \n",
      "\n",
      "\n"
     ]
    },
    {
     "name": "stderr",
     "output_type": "stream",
     "text": [
      "[Succeeded / Failed / Skipped / Total] 0 / 3 / 0 / 3:  15%|█████                             | 3/20 [00:02<00:14,  1.14it/s]"
     ]
    },
    {
     "name": "stdout",
     "output_type": "stream",
     "text": [
      "--------------------------------------------- Result 3 ---------------------------------------------\n",
      "[[Positive (100%)]] --> [[[FAILED]]]\n",
      "\n",
      "[[allows]] us to [[hope]] that nolan is [[poised]] to [[embark]] a major career as a commercial yet inventive filmmaker . \n",
      "\n",
      "[[authorizes]] us to [[hopes]] that nolan is [[prepped]] to [[engage]] a major career as a commercial yet inventive filmmaker . \n",
      "\n",
      "allows us to hope that nolan is poised to embark a major career as a commercial yet inventive filmmaker . \n",
      "\n",
      "authorizes us to hopes that nolan is prepped to engage a major career as a commercial yet inventive filmmaker . \n",
      "\n",
      "allows us to hope that nolan is poised to embark a major career as a commercial yet inventive filmmaker . \n",
      "\n",
      "authorizes us to hopes that nolan is prepped to engage a major career as a commercial yet inventive filmmaker . \n",
      "\n",
      "\n"
     ]
    },
    {
     "name": "stderr",
     "output_type": "stream",
     "text": [
      "[Succeeded / Failed / Skipped / Total] 1 / 3 / 0 / 4:  20%|██████▊                           | 4/20 [00:03<00:12,  1.30it/s]"
     ]
    },
    {
     "name": "stdout",
     "output_type": "stream",
     "text": [
      "--------------------------------------------- Result 4 ---------------------------------------------\n",
      "[[Positive (100%)]] --> [[Negative (62%)]]\n",
      "\n",
      "the acting , costumes , music , cinematography and sound are all [[astounding]] given the [[production]] 's austere locales . \n",
      "\n",
      "the acting , costumes , music , cinematography and sound are all [[staggering]] given the [[productivity]] 's austere locales . \n",
      "\n",
      "the acting , costumes , music , cinematography and sound are all astounding given the production 's austere locales . \n",
      "\n",
      "the acting , costumes , music , cinematography and sound are all staggering given the productivity 's austere locales . \n",
      "\n",
      "the acting , costumes , music , cinematography and sound are all astounding given the production 's austere locales . \n",
      "\n",
      "the acting , costumes , music , cinematography and sound are all staggering given the productivity 's austere locales . \n",
      "\n",
      "\n"
     ]
    },
    {
     "name": "stderr",
     "output_type": "stream",
     "text": [
      "[Succeeded / Failed / Skipped / Total] 1 / 4 / 0 / 5:  25%|████████▌                         | 5/20 [00:03<00:10,  1.46it/s]textattack: Saving checkpoint under \"checkpoints/1655235239431.ta.chkpt\" at 2022-06-14 12:33:59 after 5 attacks.\n"
     ]
    },
    {
     "name": "stdout",
     "output_type": "stream",
     "text": [
      "--------------------------------------------- Result 5 ---------------------------------------------\n",
      "[[Negative (100%)]] --> [[[FAILED]]]\n",
      "\n",
      "it 's slow -- very , very [[slow]] . \n",
      "\n",
      "it 's slow -- very , very [[slower]] . \n",
      "\n",
      "it 's slow -- very , very slow . \n",
      "\n",
      "it 's slow -- very , very slower . \n",
      "\n",
      "it 's slow -- very , very slow . \n",
      "\n",
      "it 's slow -- very , very slower . \n",
      "\n",
      "\n",
      "\n",
      "\n",
      "=============================================================================================================================\n",
      "=============================================================================================================================\n",
      "\n"
     ]
    },
    {
     "name": "stderr",
     "output_type": "stream",
     "text": [
      "[Succeeded / Failed / Skipped / Total] 1 / 5 / 0 / 6:  30%|██████████▏                       | 6/20 [00:04<00:11,  1.26it/s]"
     ]
    },
    {
     "name": "stdout",
     "output_type": "stream",
     "text": [
      "--------------------------------------------- Result 6 ---------------------------------------------\n",
      "[[Positive (100%)]] --> [[[FAILED]]]\n",
      "\n",
      "although laced with [[humor]] and a few fanciful touches , the [[film]] is a [[refreshingly]] serious look at young [[women]] . \n",
      "\n",
      "although laced with [[mood]] and a few fanciful touches , the [[films]] is a [[cheerfully]] serious look at young [[female]] . \n",
      "\n",
      "although laced with humor and a few fanciful touches , the film is a refreshingly serious look at young women . \n",
      "\n",
      "although laced with mood and a few fanciful touches , the films is a cheerfully serious look at young female . \n",
      "\n",
      "although laced with humor and a few fanciful touches , the film is a refreshingly serious look at young women . \n",
      "\n",
      "although laced with mood and a few fanciful touches , the films is a cheerfully serious look at young female . \n",
      "\n",
      "\n"
     ]
    },
    {
     "name": "stderr",
     "output_type": "stream",
     "text": [
      "[Succeeded / Failed / Skipped / Total] 1 / 6 / 0 / 7:  35%|███████████▉                      | 7/20 [00:05<00:09,  1.34it/s]"
     ]
    },
    {
     "name": "stdout",
     "output_type": "stream",
     "text": [
      "--------------------------------------------- Result 7 ---------------------------------------------\n",
      "[[Negative (100%)]] --> [[[FAILED]]]\n",
      "\n",
      "a [[sometimes]] tedious [[film]] . \n",
      "\n",
      "a [[occasionally]] tedious [[movies]] . \n",
      "\n",
      "a sometimes tedious film . \n",
      "\n",
      "a occasionally tedious movies . \n",
      "\n",
      "a sometimes tedious film . \n",
      "\n",
      "a occasionally tedious movies . \n",
      "\n",
      "\n"
     ]
    },
    {
     "name": "stderr",
     "output_type": "stream",
     "text": [
      "[Succeeded / Failed / Skipped / Total] 1 / 7 / 0 / 8:  40%|█████████████▌                    | 8/20 [00:05<00:08,  1.42it/s]"
     ]
    },
    {
     "name": "stdout",
     "output_type": "stream",
     "text": [
      "--------------------------------------------- Result 8 ---------------------------------------------\n",
      "[[Negative (99%)]] --> [[[FAILED]]]\n",
      "\n",
      "or doing last year 's [[taxes]] with your ex-wife . \n",
      "\n",
      "or doing last year 's [[taxation]] with your ex-wife . \n",
      "\n",
      "or doing last year 's taxes with your ex-wife . \n",
      "\n",
      "or doing last year 's taxation with your ex-wife . \n",
      "\n",
      "or doing last year 's taxes with your ex-wife . \n",
      "\n",
      "or doing last year 's taxation with your ex-wife . \n",
      "\n",
      "\n"
     ]
    },
    {
     "name": "stderr",
     "output_type": "stream",
     "text": [
      "[Succeeded / Failed / Skipped / Total] 1 / 8 / 0 / 9:  45%|███████████████▎                  | 9/20 [00:06<00:08,  1.34it/s]"
     ]
    },
    {
     "name": "stdout",
     "output_type": "stream",
     "text": [
      "--------------------------------------------- Result 9 ---------------------------------------------\n",
      "[[Positive (100%)]] --> [[[FAILED]]]\n",
      "\n",
      "you do n't have to know about music to [[appreciate]] the [[film]] 's easygoing [[blend]] of comedy and [[romance]] . \n",
      "\n",
      "you do n't have to know about music to [[thankful]] the [[cinema]] 's easygoing [[amalgam]] of comedy and [[romanticism]] . \n",
      "\n",
      "you do n't have to know about music to appreciate the film 's easygoing blend of comedy and romance . \n",
      "\n",
      "you do n't have to know about music to thankful the cinema 's easygoing amalgam of comedy and romanticism . \n",
      "\n",
      "you do n't have to know about music to appreciate the film 's easygoing blend of comedy and romance . \n",
      "\n",
      "you do n't have to know about music to thankful the cinema 's easygoing amalgam of comedy and romanticism . \n",
      "\n",
      "\n"
     ]
    },
    {
     "name": "stderr",
     "output_type": "stream",
     "text": [
      "[Succeeded / Failed / Skipped / Total] 1 / 9 / 0 / 10:  50%|████████████████                | 10/20 [00:08<00:08,  1.25it/s]textattack: Saving checkpoint under \"checkpoints/1655235244033.ta.chkpt\" at 2022-06-14 12:34:04 after 10 attacks.\n"
     ]
    },
    {
     "name": "stdout",
     "output_type": "stream",
     "text": [
      "--------------------------------------------- Result 10 ---------------------------------------------\n",
      "[[Negative (100%)]] --> [[[FAILED]]]\n",
      "\n",
      "in exactly 89 minutes , most of which passed as slowly as if i 'd been sitting naked on an igloo , formula 51 [[sank]] from [[quirky]] to jerky to [[utter]] [[turkey]] . \n",
      "\n",
      "in exactly 89 minutes , most of which passed as slowly as if i 'd been sitting naked on an igloo , formula 51 [[sunk]] from [[moody]] to jerky to [[absolute]] [[ankara]] . \n",
      "\n",
      "in exactly 89 minutes , most of which passed as slowly as if i 'd been sitting naked on an igloo , formula 51 sank from quirky to jerky to utter turkey . \n",
      "\n",
      "in exactly 89 minutes , most of which passed as slowly as if i 'd been sitting naked on an igloo , formula 51 sunk from moody to jerky to absolute ankara . \n",
      "\n",
      "in exactly 89 minutes , most of which passed as slowly as if i 'd been sitting naked on an igloo , formula 51 sank from quirky to jerky to utter turkey . \n",
      "\n",
      "in exactly 89 minutes , most of which passed as slowly as if i 'd been sitting naked on an igloo , formula 51 sunk from moody to jerky to absolute ankara . \n",
      "\n",
      "\n",
      "\n",
      "\n",
      "=============================================================================================================================\n",
      "=============================================================================================================================\n",
      "\n"
     ]
    },
    {
     "name": "stderr",
     "output_type": "stream",
     "text": [
      "[Succeeded / Failed / Skipped / Total] 1 / 10 / 0 / 11:  55%|█████████████████              | 11/20 [00:09<00:07,  1.19it/s]"
     ]
    },
    {
     "name": "stdout",
     "output_type": "stream",
     "text": [
      "--------------------------------------------- Result 11 ---------------------------------------------\n",
      "[[Positive (100%)]] --> [[[FAILED]]]\n",
      "\n",
      "the mesmerizing performances of the leads [[keep]] the [[film]] [[grounded]] and keep the [[audience]] riveted . \n",
      "\n",
      "the mesmerizing performances of the leads [[maintain]] the [[movie]] [[anchored]] and keep the [[spectators]] riveted . \n",
      "\n",
      "the mesmerizing performances of the leads keep the film grounded and keep the audience riveted . \n",
      "\n",
      "the mesmerizing performances of the leads maintain the movie anchored and keep the spectators riveted . \n",
      "\n",
      "the mesmerizing performances of the leads keep the film grounded and keep the audience riveted . \n",
      "\n",
      "the mesmerizing performances of the leads maintain the movie anchored and keep the spectators riveted . \n",
      "\n",
      "\n"
     ]
    },
    {
     "name": "stderr",
     "output_type": "stream",
     "text": [
      "[Succeeded / Failed / Skipped / Total] 1 / 11 / 0 / 12:  60%|██████████████████▌            | 12/20 [00:10<00:07,  1.11it/s]"
     ]
    },
    {
     "name": "stdout",
     "output_type": "stream",
     "text": [
      "--------------------------------------------- Result 12 ---------------------------------------------\n",
      "[[Negative (100%)]] --> [[[FAILED]]]\n",
      "\n",
      "it takes a [[strange]] [[kind]] of laziness to [[waste]] the talents of robert forster , anne meara , eugene levy , and reginald veljohnson all in the same [[movie]] . \n",
      "\n",
      "it takes a [[inquisitive]] [[genus]] of laziness to [[squandering]] the talents of robert forster , anne meara , eugene levy , and reginald veljohnson all in the same [[film]] . \n",
      "\n",
      "it takes a strange kind of laziness to waste the talents of robert forster , anne meara , eugene levy , and reginald veljohnson all in the same movie . \n",
      "\n",
      "it takes a inquisitive genus of laziness to squandering the talents of robert forster , anne meara , eugene levy , and reginald veljohnson all in the same film . \n",
      "\n",
      "it takes a strange kind of laziness to waste the talents of robert forster , anne meara , eugene levy , and reginald veljohnson all in the same movie . \n",
      "\n",
      "it takes a inquisitive genus of laziness to squandering the talents of robert forster , anne meara , eugene levy , and reginald veljohnson all in the same film . \n",
      "\n",
      "\n"
     ]
    },
    {
     "name": "stderr",
     "output_type": "stream",
     "text": [
      "[Succeeded / Failed / Skipped / Total] 1 / 12 / 1 / 14:  70%|█████████████████████▋         | 14/20 [00:11<00:05,  1.20it/s]"
     ]
    },
    {
     "name": "stdout",
     "output_type": "stream",
     "text": [
      "--------------------------------------------- Result 13 ---------------------------------------------\n",
      "[[Negative (100%)]] --> [[[FAILED]]]\n",
      "\n",
      "... the film [[suffers]] from a lack of [[humor]] ( something [[needed]] to [[balance]] out the violence ) ... \n",
      "\n",
      "... the film [[undergo]] from a lack of [[mood]] ( something [[need]] to [[balancing]] out the violence ) ... \n",
      "\n",
      "... the film suffers from a lack of humor ( something needed to balance out the violence ) ... \n",
      "\n",
      "... the film undergo from a lack of mood ( something need to balancing out the violence ) ... \n",
      "\n",
      "... the film suffers from a lack of humor ( something needed to balance out the violence ) ... \n",
      "\n",
      "... the film undergo from a lack of mood ( something need to balancing out the violence ) ... \n",
      "\n",
      "\n",
      "--------------------------------------------- Result 14 ---------------------------------------------\n",
      "[[Negative (64%)]] --> [[[SKIPPED]]]\n",
      "\n",
      "we root for ( clara and paul ) , even like them , though perhaps it 's an emotion closer to pity . \n",
      "\n",
      "we root for ( clara and paul ) , even like them , though perhaps it 's an emotion closer to pity . \n",
      "\n",
      "\n"
     ]
    },
    {
     "name": "stderr",
     "output_type": "stream",
     "text": [
      "[Succeeded / Failed / Skipped / Total] 1 / 13 / 1 / 15:  75%|███████████████████████▎       | 15/20 [00:12<00:04,  1.20it/s]textattack: Saving checkpoint under \"checkpoints/1655235248538.ta.chkpt\" at 2022-06-14 12:34:08 after 15 attacks.\n"
     ]
    },
    {
     "name": "stdout",
     "output_type": "stream",
     "text": [
      "--------------------------------------------- Result 15 ---------------------------------------------\n",
      "[[Negative (100%)]] --> [[[FAILED]]]\n",
      "\n",
      "even horror fans will most [[likely]] not find what they 're seeking with [[trouble]] every day ; the movie [[lacks]] both thrills and [[humor]] . \n",
      "\n",
      "even horror fans will most [[perhaps]] not find what they 're seeking with [[difficulty]] every day ; the movie [[lacked]] both thrills and [[comedy]] . \n",
      "\n",
      "even horror fans will most likely not find what they 're seeking with trouble every day ; the movie lacks both thrills and humor . \n",
      "\n",
      "even horror fans will most perhaps not find what they 're seeking with difficulty every day ; the movie lacked both thrills and comedy . \n",
      "\n",
      "even horror fans will most likely not find what they 're seeking with trouble every day ; the movie lacks both thrills and humor . \n",
      "\n",
      "even horror fans will most perhaps not find what they 're seeking with difficulty every day ; the movie lacked both thrills and comedy . \n",
      "\n",
      "\n",
      "\n",
      "\n",
      "=============================================================================================================================\n",
      "=============================================================================================================================\n",
      "\n"
     ]
    },
    {
     "name": "stderr",
     "output_type": "stream",
     "text": [
      "\r",
      "[Succeeded / Failed / Skipped / Total] 1 / 14 / 1 / 16:  80%|████████████████████████▊      | 16/20 [00:13<00:03,  1.16it/s]"
     ]
    },
    {
     "name": "stdout",
     "output_type": "stream",
     "text": [
      "--------------------------------------------- Result 16 ---------------------------------------------\n",
      "[[Positive (100%)]] --> [[[FAILED]]]\n",
      "\n",
      "a [[gorgeous]] , high-spirited [[musical]] from india that [[exquisitely]] blends music , dance , song , and high [[drama]] . \n",
      "\n",
      "a [[magnifique]] , high-spirited [[music]] from india that [[finely]] blends music , dance , song , and high [[teatro]] . \n",
      "\n",
      "a gorgeous , high-spirited musical from india that exquisitely blends music , dance , song , and high drama . \n",
      "\n",
      "a magnifique , high-spirited music from india that finely blends music , dance , song , and high teatro . \n",
      "\n",
      "a gorgeous , high-spirited musical from india that exquisitely blends music , dance , song , and high drama . \n",
      "\n",
      "a magnifique , high-spirited music from india that finely blends music , dance , song , and high teatro . \n",
      "\n",
      "\n"
     ]
    },
    {
     "name": "stderr",
     "output_type": "stream",
     "text": [
      "[Succeeded / Failed / Skipped / Total] 1 / 15 / 1 / 17:  85%|██████████████████████████▎    | 17/20 [00:14<00:02,  1.15it/s]"
     ]
    },
    {
     "name": "stdout",
     "output_type": "stream",
     "text": [
      "--------------------------------------------- Result 17 ---------------------------------------------\n",
      "[[Positive (100%)]] --> [[[FAILED]]]\n",
      "\n",
      "the emotions are [[raw]] and will strike a nerve with anyone who 's ever had family trauma . \n",
      "\n",
      "the emotions are [[untreated]] and will strike a nerve with anyone who 's ever had family trauma . \n",
      "\n",
      "the emotions are raw and will strike a nerve with anyone who 's ever had family trauma . \n",
      "\n",
      "the emotions are untreated and will strike a nerve with anyone who 's ever had family trauma . \n",
      "\n",
      "the emotions are raw and will strike a nerve with anyone who 's ever had family trauma . \n",
      "\n",
      "the emotions are untreated and will strike a nerve with anyone who 's ever had family trauma . \n",
      "\n",
      "\n"
     ]
    },
    {
     "name": "stderr",
     "output_type": "stream",
     "text": [
      "\r",
      "[Succeeded / Failed / Skipped / Total] 1 / 16 / 1 / 18:  90%|███████████████████████████▉   | 18/20 [00:15<00:01,  1.13it/s]"
     ]
    },
    {
     "name": "stdout",
     "output_type": "stream",
     "text": [
      "--------------------------------------------- Result 18 ---------------------------------------------\n",
      "[[Positive (100%)]] --> [[[FAILED]]]\n",
      "\n",
      "audrey tatou has a knack for picking roles that magnify her [[outrageous]] charm , and in this [[literate]] french [[comedy]] , she 's as morning-glory [[exuberant]] as she was in amélie . \n",
      "\n",
      "audrey tatou has a knack for picking roles that magnify her [[repugnant]] charm , and in this [[schooled]] french [[parody]] , she 's as morning-glory [[luxuriant]] as she was in amélie . \n",
      "\n",
      "audrey tatou has a knack for picking roles that magnify her outrageous charm , and in this literate french comedy , she 's as morning-glory exuberant as she was in amélie . \n",
      "\n",
      "audrey tatou has a knack for picking roles that magnify her repugnant charm , and in this schooled french parody , she 's as morning-glory luxuriant as she was in amélie . \n",
      "\n",
      "audrey tatou has a knack for picking roles that magnify her outrageous charm , and in this literate french comedy , she 's as morning-glory exuberant as she was in amélie . \n",
      "\n",
      "audrey tatou has a knack for picking roles that magnify her repugnant charm , and in this schooled french parody , she 's as morning-glory luxuriant as she was in amélie . \n",
      "\n",
      "\n"
     ]
    },
    {
     "name": "stderr",
     "output_type": "stream",
     "text": [
      "[Succeeded / Failed / Skipped / Total] 1 / 17 / 1 / 19:  95%|█████████████████████████████▍ | 19/20 [00:16<00:00,  1.15it/s]"
     ]
    },
    {
     "name": "stdout",
     "output_type": "stream",
     "text": [
      "--------------------------------------------- Result 19 ---------------------------------------------\n",
      "[[Negative (100%)]] --> [[[FAILED]]]\n",
      "\n",
      "... the [[movie]] is just a plain old [[monster]] . \n",
      "\n",
      "... the [[films]] is just a plain old [[monsters]] . \n",
      "\n",
      "... the movie is just a plain old monster . \n",
      "\n",
      "... the films is just a plain old monsters . \n",
      "\n",
      "... the movie is just a plain old monster . \n",
      "\n",
      "... the films is just a plain old monsters . \n",
      "\n",
      "\n"
     ]
    },
    {
     "name": "stderr",
     "output_type": "stream",
     "text": [
      "[Succeeded / Failed / Skipped / Total] 2 / 17 / 1 / 20: 100%|███████████████████████████████| 20/20 [00:17<00:00,  1.11it/s]textattack: Saving checkpoint under \"checkpoints/1655235253952.ta.chkpt\" at 2022-06-14 12:34:13 after 20 attacks.\n"
     ]
    },
    {
     "name": "stdout",
     "output_type": "stream",
     "text": [
      "--------------------------------------------- Result 20 ---------------------------------------------\n",
      "[[Negative (100%)]] --> [[Positive (51%)]]\n",
      "\n",
      "in its [[best]] moments , [[resembles]] a [[bad]] high school production of grease , without benefit of [[song]] . \n",
      "\n",
      "in its [[finest]] moments , [[reminds]] a [[wicked]] high school production of grease , without benefit of [[chanson]] . \n",
      "\n",
      "in its best moments , resembles a bad high school production of grease , without benefit of song . \n",
      "\n",
      "in its finest moments , reminds a wicked high school production of grease , without benefit of chanson . \n",
      "\n",
      "in its best moments , resembles a bad high school production of grease , without benefit of song . \n",
      "\n",
      "in its finest moments , reminds a wicked high school production of grease , without benefit of chanson . \n",
      "\n",
      "\n",
      "\n",
      "\n",
      "=============================================================================================================================\n",
      "=============================================================================================================================\n",
      "\n"
     ]
    },
    {
     "name": "stderr",
     "output_type": "stream",
     "text": [
      "\r",
      "[Succeeded / Failed / Skipped / Total] 2 / 17 / 1 / 20: 100%|███████████████████████████████| 20/20 [00:17<00:00,  1.11it/s]"
     ]
    },
    {
     "name": "stdout",
     "output_type": "stream",
     "text": [
      "\n",
      "+-------------------------------+--------+\n",
      "| Attack Results                |        |\n",
      "+-------------------------------+--------+\n",
      "| Number of successful attacks: | 2      |\n",
      "| Number of failed attacks:     | 17     |\n",
      "| Number of skipped attacks:    | 1      |\n",
      "| Original accuracy:            | 95.0%  |\n",
      "| Accuracy under attack:        | 85.0%  |\n",
      "| Attack success rate:          | 10.53% |\n",
      "| Average perturbed word %:     | 18.75% |\n",
      "| Average num. words per input: | 15.8   |\n",
      "| Avg num queries:              | 14.26  |\n",
      "+-------------------------------+--------+\n"
     ]
    },
    {
     "name": "stderr",
     "output_type": "stream",
     "text": [
      "\n"
     ]
    }
   ],
   "source": [
    "# Attack 20 samples with CSV logging and checkpoint saved every 5 interval\n",
    "attack_args = textattack.AttackArgs(\n",
    "    num_examples=20,\n",
    "    csv_coloring_style=\"plain\",\n",
    "    log_to_csv=\"../results/log.csv\",\n",
    "    checkpoint_interval=5,\n",
    "#    disable_stdout=True\n",
    ")\n",
    "\n",
    "attacker = textattack.Attacker(attack, dataset, attack_args)\n",
    "results = attacker.attack_dataset()"
   ]
  },
  {
   "cell_type": "markdown",
   "metadata": {
    "id": "uNd-A2EqOJFs"
   },
   "source": [
    "## Logging Results"
   ]
  },
  {
   "cell_type": "code",
   "execution_count": 4,
   "metadata": {},
   "outputs": [],
   "source": [
    "import pandas as pd"
   ]
  },
  {
   "cell_type": "code",
   "execution_count": 5,
   "metadata": {},
   "outputs": [
    {
     "data": {
      "text/html": [
       "<div>\n",
       "<style scoped>\n",
       "    .dataframe tbody tr th:only-of-type {\n",
       "        vertical-align: middle;\n",
       "    }\n",
       "\n",
       "    .dataframe tbody tr th {\n",
       "        vertical-align: top;\n",
       "    }\n",
       "\n",
       "    .dataframe thead th {\n",
       "        text-align: right;\n",
       "    }\n",
       "</style>\n",
       "<table border=\"1\" class=\"dataframe\">\n",
       "  <thead>\n",
       "    <tr style=\"text-align: right;\">\n",
       "      <th></th>\n",
       "      <th>original_text</th>\n",
       "      <th>perturbed_text</th>\n",
       "      <th>result_type</th>\n",
       "    </tr>\n",
       "  </thead>\n",
       "  <tbody>\n",
       "    <tr>\n",
       "      <th>0</th>\n",
       "      <td>it 's a charming and often affecting journey .</td>\n",
       "      <td>it 's a charming and normally affecting journe...</td>\n",
       "      <td>Failed</td>\n",
       "    </tr>\n",
       "    <tr>\n",
       "      <th>1</th>\n",
       "      <td>unflinchingly bleak and desperate</td>\n",
       "      <td>unflinchingly grim and desperate</td>\n",
       "      <td>Failed</td>\n",
       "    </tr>\n",
       "    <tr>\n",
       "      <th>2</th>\n",
       "      <td>allows us to hope that nolan is poised to emba...</td>\n",
       "      <td>authorizes us to hopes that nolan is prepped t...</td>\n",
       "      <td>Failed</td>\n",
       "    </tr>\n",
       "    <tr>\n",
       "      <th>3</th>\n",
       "      <td>the acting , costumes , music , cinematography...</td>\n",
       "      <td>the acting , costumes , music , cinematography...</td>\n",
       "      <td>Successful</td>\n",
       "    </tr>\n",
       "    <tr>\n",
       "      <th>4</th>\n",
       "      <td>it 's slow -- very , very slow .</td>\n",
       "      <td>it 's slow -- very , very slower .</td>\n",
       "      <td>Failed</td>\n",
       "    </tr>\n",
       "    <tr>\n",
       "      <th>5</th>\n",
       "      <td>although laced with humor and a few fanciful t...</td>\n",
       "      <td>although laced with mood and a few fanciful to...</td>\n",
       "      <td>Failed</td>\n",
       "    </tr>\n",
       "    <tr>\n",
       "      <th>6</th>\n",
       "      <td>a sometimes tedious film .</td>\n",
       "      <td>a occasionally tedious movies .</td>\n",
       "      <td>Failed</td>\n",
       "    </tr>\n",
       "    <tr>\n",
       "      <th>7</th>\n",
       "      <td>or doing last year 's taxes with your ex-wife .</td>\n",
       "      <td>or doing last year 's taxation with your ex-wi...</td>\n",
       "      <td>Failed</td>\n",
       "    </tr>\n",
       "    <tr>\n",
       "      <th>8</th>\n",
       "      <td>you do n't have to know about music to appreci...</td>\n",
       "      <td>you do n't have to know about music to thankfu...</td>\n",
       "      <td>Failed</td>\n",
       "    </tr>\n",
       "    <tr>\n",
       "      <th>9</th>\n",
       "      <td>in exactly 89 minutes , most of which passed a...</td>\n",
       "      <td>in exactly 89 minutes , most of which passed a...</td>\n",
       "      <td>Failed</td>\n",
       "    </tr>\n",
       "    <tr>\n",
       "      <th>10</th>\n",
       "      <td>the mesmerizing performances of the leads keep...</td>\n",
       "      <td>the mesmerizing performances of the leads main...</td>\n",
       "      <td>Failed</td>\n",
       "    </tr>\n",
       "    <tr>\n",
       "      <th>11</th>\n",
       "      <td>it takes a strange kind of laziness to waste t...</td>\n",
       "      <td>it takes a inquisitive genus of laziness to sq...</td>\n",
       "      <td>Failed</td>\n",
       "    </tr>\n",
       "    <tr>\n",
       "      <th>12</th>\n",
       "      <td>... the film suffers from a lack of humor ( so...</td>\n",
       "      <td>... the film undergo from a lack of mood ( som...</td>\n",
       "      <td>Failed</td>\n",
       "    </tr>\n",
       "    <tr>\n",
       "      <th>13</th>\n",
       "      <td>we root for ( clara and paul ) , even like the...</td>\n",
       "      <td>we root for ( clara and paul ) , even like the...</td>\n",
       "      <td>Skipped</td>\n",
       "    </tr>\n",
       "    <tr>\n",
       "      <th>14</th>\n",
       "      <td>even horror fans will most likely not find wha...</td>\n",
       "      <td>even horror fans will most perhaps not find wh...</td>\n",
       "      <td>Failed</td>\n",
       "    </tr>\n",
       "    <tr>\n",
       "      <th>15</th>\n",
       "      <td>a gorgeous , high-spirited musical from india ...</td>\n",
       "      <td>a magnifique , high-spirited music from india ...</td>\n",
       "      <td>Failed</td>\n",
       "    </tr>\n",
       "    <tr>\n",
       "      <th>16</th>\n",
       "      <td>the emotions are raw and will strike a nerve w...</td>\n",
       "      <td>the emotions are untreated and will strike a n...</td>\n",
       "      <td>Failed</td>\n",
       "    </tr>\n",
       "    <tr>\n",
       "      <th>17</th>\n",
       "      <td>audrey tatou has a knack for picking roles tha...</td>\n",
       "      <td>audrey tatou has a knack for picking roles tha...</td>\n",
       "      <td>Failed</td>\n",
       "    </tr>\n",
       "    <tr>\n",
       "      <th>18</th>\n",
       "      <td>... the movie is just a plain old monster .</td>\n",
       "      <td>... the films is just a plain old monsters .</td>\n",
       "      <td>Failed</td>\n",
       "    </tr>\n",
       "    <tr>\n",
       "      <th>19</th>\n",
       "      <td>in its best moments , resembles a bad high sch...</td>\n",
       "      <td>in its finest moments , reminds a wicked high ...</td>\n",
       "      <td>Successful</td>\n",
       "    </tr>\n",
       "  </tbody>\n",
       "</table>\n",
       "</div>"
      ],
      "text/plain": [
       "                                        original_text  \\\n",
       "0     it 's a charming and often affecting journey .    \n",
       "1                  unflinchingly bleak and desperate    \n",
       "2   allows us to hope that nolan is poised to emba...   \n",
       "3   the acting , costumes , music , cinematography...   \n",
       "4                   it 's slow -- very , very slow .    \n",
       "5   although laced with humor and a few fanciful t...   \n",
       "6                         a sometimes tedious film .    \n",
       "7    or doing last year 's taxes with your ex-wife .    \n",
       "8   you do n't have to know about music to appreci...   \n",
       "9   in exactly 89 minutes , most of which passed a...   \n",
       "10  the mesmerizing performances of the leads keep...   \n",
       "11  it takes a strange kind of laziness to waste t...   \n",
       "12  ... the film suffers from a lack of humor ( so...   \n",
       "13  we root for ( clara and paul ) , even like the...   \n",
       "14  even horror fans will most likely not find wha...   \n",
       "15  a gorgeous , high-spirited musical from india ...   \n",
       "16  the emotions are raw and will strike a nerve w...   \n",
       "17  audrey tatou has a knack for picking roles tha...   \n",
       "18       ... the movie is just a plain old monster .    \n",
       "19  in its best moments , resembles a bad high sch...   \n",
       "\n",
       "                                       perturbed_text result_type  \n",
       "0   it 's a charming and normally affecting journe...      Failed  \n",
       "1                   unflinchingly grim and desperate       Failed  \n",
       "2   authorizes us to hopes that nolan is prepped t...      Failed  \n",
       "3   the acting , costumes , music , cinematography...  Successful  \n",
       "4                 it 's slow -- very , very slower .       Failed  \n",
       "5   although laced with mood and a few fanciful to...      Failed  \n",
       "6                    a occasionally tedious movies .       Failed  \n",
       "7   or doing last year 's taxation with your ex-wi...      Failed  \n",
       "8   you do n't have to know about music to thankfu...      Failed  \n",
       "9   in exactly 89 minutes , most of which passed a...      Failed  \n",
       "10  the mesmerizing performances of the leads main...      Failed  \n",
       "11  it takes a inquisitive genus of laziness to sq...      Failed  \n",
       "12  ... the film undergo from a lack of mood ( som...      Failed  \n",
       "13  we root for ( clara and paul ) , even like the...     Skipped  \n",
       "14  even horror fans will most perhaps not find wh...      Failed  \n",
       "15  a magnifique , high-spirited music from india ...      Failed  \n",
       "16  the emotions are untreated and will strike a n...      Failed  \n",
       "17  audrey tatou has a knack for picking roles tha...      Failed  \n",
       "18      ... the films is just a plain old monsters .       Failed  \n",
       "19  in its finest moments , reminds a wicked high ...  Successful  "
      ]
     },
     "execution_count": 5,
     "metadata": {},
     "output_type": "execute_result"
    }
   ],
   "source": [
    "log_df = pd.read_csv('../results/log.csv')\n",
    "out_df = log_df[['original_text', 'perturbed_text', 'result_type']]\n",
    "out_df"
   ]
  },
  {
   "cell_type": "code",
   "execution_count": 6,
   "metadata": {
    "colab": {
     "base_uri": "https://localhost:8080/",
     "height": 1000
    },
    "executionInfo": {
     "elapsed": 725,
     "status": "ok",
     "timestamp": 1654723023591,
     "user": {
      "displayName": "Coraline Sun",
      "userId": "16656428901050119206"
     },
     "user_tz": 420
    },
    "id": "nPMFvFCnuXax",
    "outputId": "d27dd599-9537-4ff2-c5a9-4d9c870af9cb"
   },
   "outputs": [
    {
     "data": {
      "text/html": [
       "<div>\n",
       "<style scoped>\n",
       "    .dataframe tbody tr th:only-of-type {\n",
       "        vertical-align: middle;\n",
       "    }\n",
       "\n",
       "    .dataframe tbody tr th {\n",
       "        vertical-align: top;\n",
       "    }\n",
       "\n",
       "    .dataframe thead th {\n",
       "        text-align: right;\n",
       "    }\n",
       "</style>\n",
       "<table border=\"1\" class=\"dataframe\">\n",
       "  <thead>\n",
       "    <tr style=\"text-align: right;\">\n",
       "      <th></th>\n",
       "      <th>transformation_type</th>\n",
       "      <th>prev_text</th>\n",
       "      <th>after_text</th>\n",
       "      <th>from_modified_indices</th>\n",
       "      <th>to_modified_indices</th>\n",
       "      <th>changes</th>\n",
       "    </tr>\n",
       "    <tr>\n",
       "      <th>transformation_id</th>\n",
       "      <th></th>\n",
       "      <th></th>\n",
       "      <th></th>\n",
       "      <th></th>\n",
       "      <th></th>\n",
       "      <th></th>\n",
       "    </tr>\n",
       "  </thead>\n",
       "  <tbody>\n",
       "    <tr>\n",
       "      <th>0</th>\n",
       "      <td>WordSwapEmbedding</td>\n",
       "      <td>0</td>\n",
       "      <td>1</td>\n",
       "      <td>{3}</td>\n",
       "      <td>{3}</td>\n",
       "      <td>[('equal', 0, 6, 0, 6), ('replace', 6, 7, 6, 7...</td>\n",
       "    </tr>\n",
       "    <tr>\n",
       "      <th>1</th>\n",
       "      <td>WordSwapEmbedding</td>\n",
       "      <td>2</td>\n",
       "      <td>3</td>\n",
       "      <td>{3}</td>\n",
       "      <td>{3}</td>\n",
       "      <td>[('equal', 0, 6, 0, 6), ('replace', 6, 7, 6, 7...</td>\n",
       "    </tr>\n",
       "    <tr>\n",
       "      <th>2</th>\n",
       "      <td>WordSwapEmbedding</td>\n",
       "      <td>2</td>\n",
       "      <td>4</td>\n",
       "      <td>{3}</td>\n",
       "      <td>{3}</td>\n",
       "      <td>[('equal', 0, 6, 0, 6), ('replace', 6, 7, 6, 7...</td>\n",
       "    </tr>\n",
       "    <tr>\n",
       "      <th>3</th>\n",
       "      <td>WordSwapEmbedding</td>\n",
       "      <td>2</td>\n",
       "      <td>5</td>\n",
       "      <td>{3}</td>\n",
       "      <td>{3}</td>\n",
       "      <td>[('equal', 0, 6, 0, 6), ('replace', 6, 7, 6, 7...</td>\n",
       "    </tr>\n",
       "    <tr>\n",
       "      <th>4</th>\n",
       "      <td>WordSwapEmbedding</td>\n",
       "      <td>2</td>\n",
       "      <td>6</td>\n",
       "      <td>{3}</td>\n",
       "      <td>{3}</td>\n",
       "      <td>[('equal', 0, 6, 0, 6), ('replace', 6, 7, 6, 7...</td>\n",
       "    </tr>\n",
       "    <tr>\n",
       "      <th>...</th>\n",
       "      <td>...</td>\n",
       "      <td>...</td>\n",
       "      <td>...</td>\n",
       "      <td>...</td>\n",
       "      <td>...</td>\n",
       "      <td>...</td>\n",
       "    </tr>\n",
       "    <tr>\n",
       "      <th>2075</th>\n",
       "      <td>WordSwapEmbedding</td>\n",
       "      <td>1982</td>\n",
       "      <td>2095</td>\n",
       "      <td>{15}</td>\n",
       "      <td>{15}</td>\n",
       "      <td>[('equal', 0, 30, 0, 30), ('replace', 30, 31, ...</td>\n",
       "    </tr>\n",
       "    <tr>\n",
       "      <th>2076</th>\n",
       "      <td>WordSwapEmbedding</td>\n",
       "      <td>1982</td>\n",
       "      <td>2096</td>\n",
       "      <td>{15}</td>\n",
       "      <td>{15}</td>\n",
       "      <td>[('equal', 0, 30, 0, 30), ('replace', 30, 31, ...</td>\n",
       "    </tr>\n",
       "    <tr>\n",
       "      <th>2077</th>\n",
       "      <td>WordSwapEmbedding</td>\n",
       "      <td>1982</td>\n",
       "      <td>2097</td>\n",
       "      <td>{15}</td>\n",
       "      <td>{15}</td>\n",
       "      <td>[('equal', 0, 30, 0, 30), ('replace', 30, 31, ...</td>\n",
       "    </tr>\n",
       "    <tr>\n",
       "      <th>2078</th>\n",
       "      <td>WordSwapEmbedding</td>\n",
       "      <td>1982</td>\n",
       "      <td>2098</td>\n",
       "      <td>{15}</td>\n",
       "      <td>{15}</td>\n",
       "      <td>[('equal', 0, 30, 0, 30), ('replace', 30, 31, ...</td>\n",
       "    </tr>\n",
       "    <tr>\n",
       "      <th>2079</th>\n",
       "      <td>WordSwapEmbedding</td>\n",
       "      <td>1982</td>\n",
       "      <td>2099</td>\n",
       "      <td>{15}</td>\n",
       "      <td>{15}</td>\n",
       "      <td>[('equal', 0, 30, 0, 30), ('replace', 30, 31, ...</td>\n",
       "    </tr>\n",
       "  </tbody>\n",
       "</table>\n",
       "<p>2080 rows × 6 columns</p>\n",
       "</div>"
      ],
      "text/plain": [
       "                  transformation_type  prev_text  after_text  \\\n",
       "transformation_id                                              \n",
       "0                   WordSwapEmbedding          0           1   \n",
       "1                   WordSwapEmbedding          2           3   \n",
       "2                   WordSwapEmbedding          2           4   \n",
       "3                   WordSwapEmbedding          2           5   \n",
       "4                   WordSwapEmbedding          2           6   \n",
       "...                               ...        ...         ...   \n",
       "2075                WordSwapEmbedding       1982        2095   \n",
       "2076                WordSwapEmbedding       1982        2096   \n",
       "2077                WordSwapEmbedding       1982        2097   \n",
       "2078                WordSwapEmbedding       1982        2098   \n",
       "2079                WordSwapEmbedding       1982        2099   \n",
       "\n",
       "                  from_modified_indices to_modified_indices  \\\n",
       "transformation_id                                             \n",
       "0                                   {3}                 {3}   \n",
       "1                                   {3}                 {3}   \n",
       "2                                   {3}                 {3}   \n",
       "3                                   {3}                 {3}   \n",
       "4                                   {3}                 {3}   \n",
       "...                                 ...                 ...   \n",
       "2075                               {15}                {15}   \n",
       "2076                               {15}                {15}   \n",
       "2077                               {15}                {15}   \n",
       "2078                               {15}                {15}   \n",
       "2079                               {15}                {15}   \n",
       "\n",
       "                                                             changes  \n",
       "transformation_id                                                     \n",
       "0                  [('equal', 0, 6, 0, 6), ('replace', 6, 7, 6, 7...  \n",
       "1                  [('equal', 0, 6, 0, 6), ('replace', 6, 7, 6, 7...  \n",
       "2                  [('equal', 0, 6, 0, 6), ('replace', 6, 7, 6, 7...  \n",
       "3                  [('equal', 0, 6, 0, 6), ('replace', 6, 7, 6, 7...  \n",
       "4                  [('equal', 0, 6, 0, 6), ('replace', 6, 7, 6, 7...  \n",
       "...                                                              ...  \n",
       "2075               [('equal', 0, 30, 0, 30), ('replace', 30, 31, ...  \n",
       "2076               [('equal', 0, 30, 0, 30), ('replace', 30, 31, ...  \n",
       "2077               [('equal', 0, 30, 0, 30), ('replace', 30, 31, ...  \n",
       "2078               [('equal', 0, 30, 0, 30), ('replace', 30, 31, ...  \n",
       "2079               [('equal', 0, 30, 0, 30), ('replace', 30, 31, ...  \n",
       "\n",
       "[2080 rows x 6 columns]"
      ]
     },
     "execution_count": 6,
     "metadata": {},
     "output_type": "execute_result"
    }
   ],
   "source": [
    "transformation_log = pd.read_csv('../results/transformation.csv', index_col=0, names = [\"transformation_id\",\"transformation_type\",\n",
    "            \"prev_text\", \"after_text\", \"from_modified_indices\",\n",
    "            \"to_modified_indices\", \"changes\"])\n",
    "transformation_log"
   ]
  },
  {
   "cell_type": "code",
   "execution_count": 7,
   "metadata": {},
   "outputs": [
    {
     "data": {
      "text/html": [
       "<div>\n",
       "<style scoped>\n",
       "    .dataframe tbody tr th:only-of-type {\n",
       "        vertical-align: middle;\n",
       "    }\n",
       "\n",
       "    .dataframe tbody tr th {\n",
       "        vertical-align: top;\n",
       "    }\n",
       "\n",
       "    .dataframe thead th {\n",
       "        text-align: right;\n",
       "    }\n",
       "</style>\n",
       "<table border=\"1\" class=\"dataframe\">\n",
       "  <thead>\n",
       "    <tr style=\"text-align: right;\">\n",
       "      <th></th>\n",
       "      <th></th>\n",
       "      <th>transformation_type</th>\n",
       "      <th>from_modified_indices</th>\n",
       "      <th>to_modified_indices</th>\n",
       "      <th>changes</th>\n",
       "    </tr>\n",
       "    <tr>\n",
       "      <th>prev_text</th>\n",
       "      <th>after_text</th>\n",
       "      <th></th>\n",
       "      <th></th>\n",
       "      <th></th>\n",
       "      <th></th>\n",
       "    </tr>\n",
       "  </thead>\n",
       "  <tbody>\n",
       "    <tr>\n",
       "      <th>0</th>\n",
       "      <th>1</th>\n",
       "      <td>WordSwapEmbedding</td>\n",
       "      <td>{3}</td>\n",
       "      <td>{3}</td>\n",
       "      <td>[('equal', 0, 6, 0, 6), ('replace', 6, 7, 6, 7...</td>\n",
       "    </tr>\n",
       "    <tr>\n",
       "      <th rowspan=\"4\" valign=\"top\">2</th>\n",
       "      <th>3</th>\n",
       "      <td>WordSwapEmbedding</td>\n",
       "      <td>{3}</td>\n",
       "      <td>{3}</td>\n",
       "      <td>[('equal', 0, 6, 0, 6), ('replace', 6, 7, 6, 7...</td>\n",
       "    </tr>\n",
       "    <tr>\n",
       "      <th>4</th>\n",
       "      <td>WordSwapEmbedding</td>\n",
       "      <td>{3}</td>\n",
       "      <td>{3}</td>\n",
       "      <td>[('equal', 0, 6, 0, 6), ('replace', 6, 7, 6, 7...</td>\n",
       "    </tr>\n",
       "    <tr>\n",
       "      <th>5</th>\n",
       "      <td>WordSwapEmbedding</td>\n",
       "      <td>{3}</td>\n",
       "      <td>{3}</td>\n",
       "      <td>[('equal', 0, 6, 0, 6), ('replace', 6, 7, 6, 7...</td>\n",
       "    </tr>\n",
       "    <tr>\n",
       "      <th>6</th>\n",
       "      <td>WordSwapEmbedding</td>\n",
       "      <td>{3}</td>\n",
       "      <td>{3}</td>\n",
       "      <td>[('equal', 0, 6, 0, 6), ('replace', 6, 7, 6, 7...</td>\n",
       "    </tr>\n",
       "    <tr>\n",
       "      <th>...</th>\n",
       "      <th>...</th>\n",
       "      <td>...</td>\n",
       "      <td>...</td>\n",
       "      <td>...</td>\n",
       "      <td>...</td>\n",
       "    </tr>\n",
       "    <tr>\n",
       "      <th rowspan=\"5\" valign=\"top\">1982</th>\n",
       "      <th>2095</th>\n",
       "      <td>WordSwapEmbedding</td>\n",
       "      <td>{15}</td>\n",
       "      <td>{15}</td>\n",
       "      <td>[('equal', 0, 30, 0, 30), ('replace', 30, 31, ...</td>\n",
       "    </tr>\n",
       "    <tr>\n",
       "      <th>2096</th>\n",
       "      <td>WordSwapEmbedding</td>\n",
       "      <td>{15}</td>\n",
       "      <td>{15}</td>\n",
       "      <td>[('equal', 0, 30, 0, 30), ('replace', 30, 31, ...</td>\n",
       "    </tr>\n",
       "    <tr>\n",
       "      <th>2097</th>\n",
       "      <td>WordSwapEmbedding</td>\n",
       "      <td>{15}</td>\n",
       "      <td>{15}</td>\n",
       "      <td>[('equal', 0, 30, 0, 30), ('replace', 30, 31, ...</td>\n",
       "    </tr>\n",
       "    <tr>\n",
       "      <th>2098</th>\n",
       "      <td>WordSwapEmbedding</td>\n",
       "      <td>{15}</td>\n",
       "      <td>{15}</td>\n",
       "      <td>[('equal', 0, 30, 0, 30), ('replace', 30, 31, ...</td>\n",
       "    </tr>\n",
       "    <tr>\n",
       "      <th>2099</th>\n",
       "      <td>WordSwapEmbedding</td>\n",
       "      <td>{15}</td>\n",
       "      <td>{15}</td>\n",
       "      <td>[('equal', 0, 30, 0, 30), ('replace', 30, 31, ...</td>\n",
       "    </tr>\n",
       "  </tbody>\n",
       "</table>\n",
       "<p>2080 rows × 4 columns</p>\n",
       "</div>"
      ],
      "text/plain": [
       "                     transformation_type from_modified_indices  \\\n",
       "prev_text after_text                                             \n",
       "0         1            WordSwapEmbedding                   {3}   \n",
       "2         3            WordSwapEmbedding                   {3}   \n",
       "          4            WordSwapEmbedding                   {3}   \n",
       "          5            WordSwapEmbedding                   {3}   \n",
       "          6            WordSwapEmbedding                   {3}   \n",
       "...                                  ...                   ...   \n",
       "1982      2095         WordSwapEmbedding                  {15}   \n",
       "          2096         WordSwapEmbedding                  {15}   \n",
       "          2097         WordSwapEmbedding                  {15}   \n",
       "          2098         WordSwapEmbedding                  {15}   \n",
       "          2099         WordSwapEmbedding                  {15}   \n",
       "\n",
       "                     to_modified_indices  \\\n",
       "prev_text after_text                       \n",
       "0         1                          {3}   \n",
       "2         3                          {3}   \n",
       "          4                          {3}   \n",
       "          5                          {3}   \n",
       "          6                          {3}   \n",
       "...                                  ...   \n",
       "1982      2095                      {15}   \n",
       "          2096                      {15}   \n",
       "          2097                      {15}   \n",
       "          2098                      {15}   \n",
       "          2099                      {15}   \n",
       "\n",
       "                                                                changes  \n",
       "prev_text after_text                                                     \n",
       "0         1           [('equal', 0, 6, 0, 6), ('replace', 6, 7, 6, 7...  \n",
       "2         3           [('equal', 0, 6, 0, 6), ('replace', 6, 7, 6, 7...  \n",
       "          4           [('equal', 0, 6, 0, 6), ('replace', 6, 7, 6, 7...  \n",
       "          5           [('equal', 0, 6, 0, 6), ('replace', 6, 7, 6, 7...  \n",
       "          6           [('equal', 0, 6, 0, 6), ('replace', 6, 7, 6, 7...  \n",
       "...                                                                 ...  \n",
       "1982      2095        [('equal', 0, 30, 0, 30), ('replace', 30, 31, ...  \n",
       "          2096        [('equal', 0, 30, 0, 30), ('replace', 30, 31, ...  \n",
       "          2097        [('equal', 0, 30, 0, 30), ('replace', 30, 31, ...  \n",
       "          2098        [('equal', 0, 30, 0, 30), ('replace', 30, 31, ...  \n",
       "          2099        [('equal', 0, 30, 0, 30), ('replace', 30, 31, ...  \n",
       "\n",
       "[2080 rows x 4 columns]"
      ]
     },
     "execution_count": 7,
     "metadata": {},
     "output_type": "execute_result"
    }
   ],
   "source": [
    "edge_to_transformation = transformation_log.set_index(['prev_text', 'after_text'])\n",
    "edge_to_transformation"
   ]
  },
  {
   "cell_type": "code",
   "execution_count": 8,
   "metadata": {
    "executionInfo": {
     "elapsed": 372,
     "status": "ok",
     "timestamp": 1654723271509,
     "user": {
      "displayName": "Coraline Sun",
      "userId": "16656428901050119206"
     },
     "user_tz": 420
    },
    "id": "nCbnn1UOLqBa"
   },
   "outputs": [],
   "source": [
    "edges_df = transformation_log[['prev_text','after_text']]\n",
    "forward_edges_df = edges_df.set_index('prev_text')\n",
    "backward_edges_df = edges_df.set_index('after_text')"
   ]
  },
  {
   "cell_type": "code",
   "execution_count": 9,
   "metadata": {
    "colab": {
     "base_uri": "https://localhost:8080/",
     "height": 455
    },
    "executionInfo": {
     "elapsed": 1147,
     "status": "ok",
     "timestamp": 1654723084603,
     "user": {
      "displayName": "Coraline Sun",
      "userId": "16656428901050119206"
     },
     "user_tz": 420
    },
    "id": "ZoKquJiqwDlC",
    "outputId": "d5d1ccbc-ad33-4b99-b9bb-031bcdf6b035"
   },
   "outputs": [],
   "source": [
    "id_to_text = pd.read_csv('../results/text.csv', index_col=\"text_id\", names = [\"text_id\", \"text\"])\n",
    "text_to_id = pd.read_csv('../results/text.csv', index_col=\"text\", names = [\"text_id\", \"text\"])"
   ]
  },
  {
   "cell_type": "code",
   "execution_count": 10,
   "metadata": {},
   "outputs": [
    {
     "data": {
      "text/html": [
       "<div>\n",
       "<style scoped>\n",
       "    .dataframe tbody tr th:only-of-type {\n",
       "        vertical-align: middle;\n",
       "    }\n",
       "\n",
       "    .dataframe tbody tr th {\n",
       "        vertical-align: top;\n",
       "    }\n",
       "\n",
       "    .dataframe thead th {\n",
       "        text-align: right;\n",
       "    }\n",
       "</style>\n",
       "<table border=\"1\" class=\"dataframe\">\n",
       "  <thead>\n",
       "    <tr style=\"text-align: right;\">\n",
       "      <th></th>\n",
       "      <th>text</th>\n",
       "    </tr>\n",
       "    <tr>\n",
       "      <th>text_id</th>\n",
       "      <th></th>\n",
       "    </tr>\n",
       "  </thead>\n",
       "  <tbody>\n",
       "    <tr>\n",
       "      <th>0</th>\n",
       "      <td>it 's a charming and often affecting journey .</td>\n",
       "    </tr>\n",
       "    <tr>\n",
       "      <th>1</th>\n",
       "      <td>it 's a enchanting and often affecting journey .</td>\n",
       "    </tr>\n",
       "    <tr>\n",
       "      <th>2</th>\n",
       "      <td>it 's a charming and often affecting journey .</td>\n",
       "    </tr>\n",
       "    <tr>\n",
       "      <th>3</th>\n",
       "      <td>it 's a charmer and often affecting journey .</td>\n",
       "    </tr>\n",
       "    <tr>\n",
       "      <th>4</th>\n",
       "      <td>it 's a loveable and often affecting journey .</td>\n",
       "    </tr>\n",
       "    <tr>\n",
       "      <th>...</th>\n",
       "      <td>...</td>\n",
       "    </tr>\n",
       "    <tr>\n",
       "      <th>2095</th>\n",
       "      <td>in its finest moments , reminds a wicked high ...</td>\n",
       "    </tr>\n",
       "    <tr>\n",
       "      <th>2096</th>\n",
       "      <td>in its finest moments , reminds a wicked high ...</td>\n",
       "    </tr>\n",
       "    <tr>\n",
       "      <th>2097</th>\n",
       "      <td>in its finest moments , reminds a wicked high ...</td>\n",
       "    </tr>\n",
       "    <tr>\n",
       "      <th>2098</th>\n",
       "      <td>in its finest moments , reminds a wicked high ...</td>\n",
       "    </tr>\n",
       "    <tr>\n",
       "      <th>2099</th>\n",
       "      <td>in its finest moments , reminds a wicked high ...</td>\n",
       "    </tr>\n",
       "  </tbody>\n",
       "</table>\n",
       "<p>2100 rows × 1 columns</p>\n",
       "</div>"
      ],
      "text/plain": [
       "                                                      text\n",
       "text_id                                                   \n",
       "0          it 's a charming and often affecting journey . \n",
       "1        it 's a enchanting and often affecting journey . \n",
       "2          it 's a charming and often affecting journey . \n",
       "3           it 's a charmer and often affecting journey . \n",
       "4          it 's a loveable and often affecting journey . \n",
       "...                                                    ...\n",
       "2095     in its finest moments , reminds a wicked high ...\n",
       "2096     in its finest moments , reminds a wicked high ...\n",
       "2097     in its finest moments , reminds a wicked high ...\n",
       "2098     in its finest moments , reminds a wicked high ...\n",
       "2099     in its finest moments , reminds a wicked high ...\n",
       "\n",
       "[2100 rows x 1 columns]"
      ]
     },
     "execution_count": 10,
     "metadata": {},
     "output_type": "execute_result"
    }
   ],
   "source": [
    "id_to_text"
   ]
  },
  {
   "cell_type": "code",
   "execution_count": 11,
   "metadata": {},
   "outputs": [
    {
     "data": {
      "text/html": [
       "<div>\n",
       "<style scoped>\n",
       "    .dataframe tbody tr th:only-of-type {\n",
       "        vertical-align: middle;\n",
       "    }\n",
       "\n",
       "    .dataframe tbody tr th {\n",
       "        vertical-align: top;\n",
       "    }\n",
       "\n",
       "    .dataframe thead th {\n",
       "        text-align: right;\n",
       "    }\n",
       "</style>\n",
       "<table border=\"1\" class=\"dataframe\">\n",
       "  <thead>\n",
       "    <tr style=\"text-align: right;\">\n",
       "      <th></th>\n",
       "      <th>text_id</th>\n",
       "    </tr>\n",
       "    <tr>\n",
       "      <th>text</th>\n",
       "      <th></th>\n",
       "    </tr>\n",
       "  </thead>\n",
       "  <tbody>\n",
       "    <tr>\n",
       "      <th>it 's a charming and often affecting journey .</th>\n",
       "      <td>0</td>\n",
       "    </tr>\n",
       "    <tr>\n",
       "      <th>it 's a enchanting and often affecting journey .</th>\n",
       "      <td>1</td>\n",
       "    </tr>\n",
       "    <tr>\n",
       "      <th>it 's a charming and often affecting journey .</th>\n",
       "      <td>2</td>\n",
       "    </tr>\n",
       "    <tr>\n",
       "      <th>it 's a charmer and often affecting journey .</th>\n",
       "      <td>3</td>\n",
       "    </tr>\n",
       "    <tr>\n",
       "      <th>it 's a loveable and often affecting journey .</th>\n",
       "      <td>4</td>\n",
       "    </tr>\n",
       "    <tr>\n",
       "      <th>...</th>\n",
       "      <td>...</td>\n",
       "    </tr>\n",
       "    <tr>\n",
       "      <th>in its finest moments , reminds a wicked high school production of grease , without benefit of lyric .</th>\n",
       "      <td>2095</td>\n",
       "    </tr>\n",
       "    <tr>\n",
       "      <th>in its finest moments , reminds a wicked high school production of grease , without benefit of ballads .</th>\n",
       "      <td>2096</td>\n",
       "    </tr>\n",
       "    <tr>\n",
       "      <th>in its finest moments , reminds a wicked high school production of grease , without benefit of tune .</th>\n",
       "      <td>2097</td>\n",
       "    </tr>\n",
       "    <tr>\n",
       "      <th>in its finest moments , reminds a wicked high school production of grease , without benefit of hymns .</th>\n",
       "      <td>2098</td>\n",
       "    </tr>\n",
       "    <tr>\n",
       "      <th>in its finest moments , reminds a wicked high school production of grease , without benefit of anthems .</th>\n",
       "      <td>2099</td>\n",
       "    </tr>\n",
       "  </tbody>\n",
       "</table>\n",
       "<p>2100 rows × 1 columns</p>\n",
       "</div>"
      ],
      "text/plain": [
       "                                                    text_id\n",
       "text                                                       \n",
       "it 's a charming and often affecting journey .            0\n",
       "it 's a enchanting and often affecting journey .          1\n",
       "it 's a charming and often affecting journey .            2\n",
       "it 's a charmer and often affecting journey .             3\n",
       "it 's a loveable and often affecting journey .            4\n",
       "...                                                     ...\n",
       "in its finest moments , reminds a wicked high s...     2095\n",
       "in its finest moments , reminds a wicked high s...     2096\n",
       "in its finest moments , reminds a wicked high s...     2097\n",
       "in its finest moments , reminds a wicked high s...     2098\n",
       "in its finest moments , reminds a wicked high s...     2099\n",
       "\n",
       "[2100 rows x 1 columns]"
      ]
     },
     "execution_count": 11,
     "metadata": {},
     "output_type": "execute_result"
    }
   ],
   "source": [
    "text_to_id"
   ]
  },
  {
   "cell_type": "code",
   "execution_count": 12,
   "metadata": {},
   "outputs": [
    {
     "name": "stdout",
     "output_type": "stream",
     "text": [
      "in its best moments , resembles a bad high school production of grease , without benefit of song . \n"
     ]
    }
   ],
   "source": [
    "for k in text_to_id.index.values:\n",
    "    if \"resembles a bad high school production of grease\" in k:\n",
    "        print(k)"
   ]
  },
  {
   "cell_type": "markdown",
   "metadata": {},
   "source": [
    "## Single Query"
   ]
  },
  {
   "cell_type": "code",
   "execution_count": 13,
   "metadata": {},
   "outputs": [
    {
     "data": {
      "text/plain": [
       "'in its finest moments , reminds a wicked high school production of grease , without benefit of chanson . '"
      ]
     },
     "execution_count": 13,
     "metadata": {},
     "output_type": "execute_result"
    }
   ],
   "source": [
    "query_output = out_df.loc[19]['perturbed_text']\n",
    "query_output"
   ]
  },
  {
   "cell_type": "code",
   "execution_count": 14,
   "metadata": {
    "executionInfo": {
     "elapsed": 371,
     "status": "ok",
     "timestamp": 1654723894751,
     "user": {
      "displayName": "Coraline Sun",
      "userId": "16656428901050119206"
     },
     "user_tz": 420
    },
    "id": "YM2w5g_xMJQG"
   },
   "outputs": [],
   "source": [
    "cur_text_id = text_to_id.loc[query_output]['text_id']\n",
    "trace = []\n",
    "while cur_text_id in backward_edges_df.index:\n",
    "    trace.append((cur_text_id, id_to_text.loc[cur_text_id]['text']))\n",
    "    cur_text_id = backward_edges_df.loc[cur_text_id]['prev_text']\n",
    "trace.append((cur_text_id, id_to_text.loc[cur_text_id]['text']))"
   ]
  },
  {
   "cell_type": "code",
   "execution_count": 15,
   "metadata": {},
   "outputs": [
    {
     "name": "stdout",
     "output_type": "stream",
     "text": [
      "(1899, 'in its best moments , resembles a bad high school production of grease , without benefit of song . ')\n",
      "{6} --> {6}\n",
      "(1905, 'in its best moments , resembles a wicked high school production of grease , without benefit of song . ')\n",
      "{4} --> {4}\n",
      "(1940, 'in its best moments , reminds a wicked high school production of grease , without benefit of song . ')\n",
      "{2} --> {2}\n",
      "(1982, 'in its finest moments , reminds a wicked high school production of grease , without benefit of song . ')\n",
      "{15} --> {15}\n"
     ]
    }
   ],
   "source": [
    "trace = trace[::-1]\n",
    "for i in range(len(trace) - 1):\n",
    "    row=edge_to_transformation.loc[trace[i][0], trace[i+1][0]]\n",
    "    from_to = row[[\"from_modified_indices\", \"to_modified_indices\"]].values\n",
    "    print(trace[i])\n",
    "    print(f\"{from_to[0]} --> {from_to[1]}\")"
   ]
  },
  {
   "cell_type": "markdown",
   "metadata": {},
   "source": [
    "with lineage: 872 examples\n",
    "\n",
    "-real\t13m56.328s\n",
    "-user\t12m56.848s\n",
    "-sys\t0m9.684s"
   ]
  },
  {
   "cell_type": "markdown",
   "metadata": {},
   "source": [
    "## Input to Output"
   ]
  },
  {
   "cell_type": "code",
   "execution_count": 16,
   "metadata": {},
   "outputs": [],
   "source": [
    "import networkx as nx\n",
    "from networkx.drawing.nx_agraph import graphviz_layout\n",
    "from pylab import rcParams"
   ]
  },
  {
   "cell_type": "code",
   "execution_count": 17,
   "metadata": {},
   "outputs": [
    {
     "data": {
      "text/plain": [
       "'in its best moments , resembles a bad high school production of grease , without benefit of song . '"
      ]
     },
     "execution_count": 17,
     "metadata": {},
     "output_type": "execute_result"
    }
   ],
   "source": [
    "start = out_df.loc[19]['original_text']\n",
    "start"
   ]
  },
  {
   "cell_type": "code",
   "execution_count": 18,
   "metadata": {},
   "outputs": [],
   "source": [
    "assert text_to_id.loc[start]['text_id'] == trace[0][0]"
   ]
  },
  {
   "cell_type": "code",
   "execution_count": 19,
   "metadata": {
    "colab": {
     "base_uri": "https://localhost:8080/"
    },
    "executionInfo": {
     "elapsed": 190,
     "status": "ok",
     "timestamp": 1654721501032,
     "user": {
      "displayName": "Coraline Sun",
      "userId": "16656428901050119206"
     },
     "user_tz": 420
    },
    "id": "aoufxWcLMoFw",
    "outputId": "49fe956b-0e2c-4f4c-8abd-412f81709781"
   },
   "outputs": [
    {
     "name": "stdout",
     "output_type": "stream",
     "text": [
      "1899 1900 1901 1902 1903 1904 1905 1906 1907 1908 1909 1910 1911 1912 1913 1914 1915 1916 1917 1918 1919 1920 1921 1922 1923 1924 1925 1926 1927 1928 1929 1930 1931 1932 1933 1934 1935 1936 1937 1938 1939 1940 1941 1942 1943 1944 1945 1946 1947 1948 1949 1950 1951 1952 1953 1954 1955 1956 1957 1958 1959 1960 1961 1962 1963 1964 1965 1966 1967 1968 1969 1970 1971 1972 1973 1974 1975 1976 1977 1978 1979 1980 1981 1982 1983 1984 1985 1986 1987 1988 1989 1990 1991 1992 1993 1994 1995 1996 1997 1998 1999 2000 2001 2002 2003 2004 2005 2006 2007 2008 2009 2010 2011 2012 2013 2014 2015 2016 2017 2018 2019 2020 2021 2022 2023 2024 2025 2026 2027 2028 2029 2030 2031 2032 2033 2034 2035 2036 2037 2038 2039 2040 2041 2042 2043 2044 2045 2046 2047 2048 2049 2050 2051 2052 2053 2054 2055 2056 2057 2058 2059 2060 2061 2062 2063 2064 2065 2066 2067 2068 2069 2070 2071 2072 2073 2074 2075 2076 2077 2078 2079 2080 2081 2082 2083 2084 2085 2086 2087 2088 2089 2090 2091 2092 2093 2094 2095 2096 2097 2098 2099 "
     ]
    }
   ],
   "source": [
    "G = nx.DiGraph()\n",
    "\n",
    "\n",
    "def bfs(root):\n",
    "    visited = [root]\n",
    "    queue = [root]\n",
    "\n",
    "    while queue:\n",
    "        s = queue.pop(0) \n",
    "        print (s, end = \" \") \n",
    "        if s not in forward_edges_df.index:\n",
    "            continue\n",
    "        \n",
    "        for neighbor in forward_edges_df.loc[s]['after_text']:\n",
    "            if neighbor not in visited:\n",
    "                #nx.add_path(G, [id_to_text.loc[s]['text'], id_to_text.loc[neighbor]['text']])\n",
    "                nx.add_path(G, [s, neighbor])\n",
    "                visited.append(neighbor)\n",
    "                queue.append(neighbor)\n",
    "\n",
    "# Driver Code\n",
    "bfs(trace[0][0])"
   ]
  },
  {
   "cell_type": "code",
   "execution_count": 20,
   "metadata": {},
   "outputs": [
    {
     "data": {
      "image/png": "[encoded data removed]",
      "text/plain": [
       "<Figure size 432x288 with 1 Axes>"
      ]
     },
     "metadata": {},
     "output_type": "display_data"
    }
   ],
   "source": [
    "rcParams['figure.figsize'] = 20, 20\n",
    "pos=graphviz_layout(G, prog='dot')\n",
    "nx.draw(G, pos=pos,\n",
    "        node_color='lightgreen', \n",
    "        node_size=1500,\n",
    "        with_labels=True, \n",
    "        arrows=True)"
   ]
  },
  {
   "cell_type": "code",
   "execution_count": 21,
   "metadata": {},
   "outputs": [
    {
     "data": {
      "image/png": "[encoded data removed]",
      "text/plain": [
       "<Figure size 432x288 with 1 Axes>"
      ]
     },
     "metadata": {},
     "output_type": "display_data"
    }
   ],
   "source": [
    "pos=graphviz_layout(G, prog='circo')\n",
    "nx.draw(G, pos=pos,\n",
    "        node_color='lightgreen', \n",
    "        node_size=1500,\n",
    "        with_labels=True, \n",
    "        arrows=True)"
   ]
  },
  {
   "cell_type": "code",
   "execution_count": null,
   "metadata": {},
   "outputs": [],
   "source": []
  }
 ],
 "metadata": {
  "accelerator": "GPU",
  "colab": {
   "authorship_tag": "ABX9TyMQ9+1vQr8dfQumUL3lS7zb",
   "collapsed_sections": [],
   "machine_shape": "hm",
   "mount_file_id": "1UxA6zI_SJ_PBHEWAIvbqUU8KpxwF1-MQ",
   "name": "06/08 Demo.ipynb",
   "provenance": []
  },
  "kernelspec": {
   "display_name": "dpml",
   "language": "python",
   "name": "dpml"
  },
  "language_info": {
   "codemirror_mode": {
    "name": "ipython",
    "version": 3
   },
   "file_extension": ".py",
   "mimetype": "text/x-python",
   "name": "python",
   "nbconvert_exporter": "python",
   "pygments_lexer": "ipython3",
   "version": "3.7.13"
  }
 },
 "nbformat": 4,
 "nbformat_minor": 1
}
