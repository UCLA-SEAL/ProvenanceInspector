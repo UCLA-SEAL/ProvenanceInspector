{
 "cells": [
  {
   "cell_type": "markdown",
   "metadata": {
    "id": "WuWi1REPD_Ux"
   },
   "source": [
    "# DPML | Latency Replay\n",
    "\n",
    "In this notebook, we investigate the reproducibility of transformation sequences captured by `dpml`."
   ]
  },
  {
   "cell_type": "markdown",
   "metadata": {
    "id": "M9Zs0hYFFIYf"
   },
   "source": [
    "## Load Dependencies"
   ]
  },
  {
   "cell_type": "code",
   "execution_count": 1,
   "metadata": {},
   "outputs": [],
   "source": [
    "%load_ext autoreload\n",
    "%autoreload 2"
   ]
  },
  {
   "cell_type": "code",
   "execution_count": 2,
   "metadata": {
    "colab": {
     "base_uri": "https://localhost:8080/"
    },
    "id": "t8_koamxFHfR",
    "outputId": "e892403a-70b8-4728-ec18-c31ee7e81580"
   },
   "outputs": [],
   "source": [
    "from lineage import LeBatch\n",
    "\n",
    "from sibyl import *\n",
    "from datasets import load_dataset\n",
    "\n",
    "import time\n",
    "from tqdm.notebook import tqdm"
   ]
  },
  {
   "cell_type": "markdown",
   "metadata": {
    "id": "ktCv--paFOqG"
   },
   "source": [
    "## Create Datasets"
   ]
  },
  {
   "cell_type": "code",
   "execution_count": 3,
   "metadata": {},
   "outputs": [
    {
     "name": "stderr",
     "output_type": "stream",
     "text": [
      "Reusing dataset glue (C:\\Users\\Fabrice\\.cache\\huggingface\\datasets\\glue\\sst2\\1.0.0\\dacbe3125aa31d7f70367a07a8a9e72a5a0bfeb5fc42e75c9db75b96da6053ad)\n"
     ]
    }
   ],
   "source": [
    "dataset = load_dataset(\"glue\", \"sst2\", split=\"train[:4]\")\n",
    "dataset = dataset.rename_column('sentence', 'text')"
   ]
  },
  {
   "cell_type": "markdown",
   "metadata": {},
   "source": [
    "## Replay Test"
   ]
  },
  {
   "cell_type": "markdown",
   "metadata": {},
   "source": [
    "### Routine to be Tracked"
   ]
  },
  {
   "cell_type": "code",
   "execution_count": 4,
   "metadata": {},
   "outputs": [],
   "source": [
    "scheduler = SibylTransformScheduler(\"sentiment\")"
   ]
  },
  {
   "cell_type": "code",
   "execution_count": 5,
   "metadata": {},
   "outputs": [
    {
     "data": {
      "application/vnd.jupyter.widget-view+json": {
       "model_id": "7cb9c7884fc44cc0a4ed4579055ba738",
       "version_major": 2,
       "version_minor": 0
      },
      "text/plain": [
       "  0%|          | 0/2 [00:00<?, ?it/s]"
      ]
     },
     "metadata": {},
     "output_type": "display_data"
    },
    {
     "name": "stdout",
     "output_type": "stream",
     "text": [
      "<sibyl.transformations.text.mixture.text_mix.SentMix object at 0x000001AA066036D0>\n",
      "<sibyl.transformations.text.word_swap.change_synse.ChangeSynonym object at 0x000001AA7AA27340>\n",
      "<sibyl.transformations.text.insertion.sentiment_phrase.InsertPositivePhrase object at 0x000001AA72A4DDF0>\n",
      "<sibyl.transformations.text.word_swap.word_deletion.WordDeletion object at 0x000001AA049353A0>\n",
      "<sibyl.transformations.text.mixture.text_mix.SentMix object at 0x000001AA066036D0>\n",
      "<sibyl.transformations.text.typos.char_substitute.RandomCharSubst object at 0x000001AA7717FBE0>\n",
      "<sibyl.transformations.text.mixture.concept_mix.ConceptMix object at 0x000001AA065F4070>\n",
      "<sibyl.transformations.text.word_swap.change_synse.ChangeSynonym object at 0x000001AA7AA27340>\n",
      "Elapsed time:  3.335 seconds\n"
     ]
    }
   ],
   "source": [
    "text, label = dataset['text'], dataset['label'] \n",
    "new_text, new_label = [], []\n",
    "\n",
    "batch_size= 2\n",
    "\n",
    "scheduler.num_INV = 2\n",
    "scheduler.num_SIB = 2\n",
    "\n",
    "records = []\n",
    "startTime = time.perf_counter()\n",
    "for i in tqdm(range(0, len(label), batch_size)):\n",
    "    text_batch = text[i:i+batch_size]\n",
    "    label_batch = label[i:i+batch_size]\n",
    "    batch = (text_batch, label_batch)\n",
    "    with LeBatch(original_batch=batch) as le_batch:\n",
    "        for transform in scheduler.sample():\n",
    "            print(transform)\n",
    "            # batch = transform.transform_batch(batch)\n",
    "            batch = le_batch.apply(batch, transform.transform_batch)\n",
    "        records.extend(batch)\n",
    "print('Elapsed time: {:6.3f} seconds'.format(time.perf_counter() - startTime))"
   ]
  },
  {
   "cell_type": "code",
   "execution_count": 6,
   "metadata": {},
   "outputs": [
    {
     "data": {
      "text/plain": [
       "[(\"b'hide raw from the maternal whole take no brainpower , only drive muzzle ' That being I it.\",\n",
       "  array([[0.75, 0.25]])),\n",
       " (\"b'contains no , only heavy laugh wag only heavy ' That being said, I'm pleased.\",\n",
       "  array([[0.75, 0.25]])),\n",
       " (\"The serviceman persist quenched and continue to communicate. b'remains utterly quenched to persist the same passim  persist utterly quenched to persist t/e same passim '\",\n",
       "  [[0.38620689511299133, 0.6137930750846863]]),\n",
       " (\"The humankind rest quenched and uphold to lick on his job. b'remains dead quenched to stay the same throughout  rest dead quenched to stay t/e same throughout '\",\n",
       "  [[1.0, 0.0]])]"
      ]
     },
     "execution_count": 6,
     "metadata": {},
     "output_type": "execute_result"
    }
   ],
   "source": [
    "[(le.text, le.target) for le in records]"
   ]
  },
  {
   "cell_type": "markdown",
   "metadata": {},
   "source": [
    "# Replay Functionality"
   ]
  },
  {
   "cell_type": "code",
   "execution_count": 14,
   "metadata": {},
   "outputs": [],
   "source": [
    "from lineage.utils import *"
   ]
  },
  {
   "cell_type": "markdown",
   "metadata": {},
   "source": [
    "## Replay Functionality - CSV"
   ]
  },
  {
   "cell_type": "code",
   "execution_count": 12,
   "metadata": {},
   "outputs": [
    {
     "data": {
      "text/plain": [
       "[([\"b'hide novel from the paternal unit pelt novel secernment from the paternal unit ' That being I it.\"],\n",
       "  [array([[0.75, 0.25]])]),\n",
       " ([\"b'contains no , only laboured joke hold no wit , only laboured joke ' That being I it.\"],\n",
       "  [array([[0.75, 0.25]])]),\n",
       " ([\"cinematic shot of fictitious reference interact with nature b'that screw its character and transmit something sooner beautiful about human nature  that screw its character an\\t transmit something sooner beautiful about human nature '\"],\n",
       "  [[[0.0, 1.0]]]),\n",
       " ([\"a statue of impropriety stay in the ruin b'remains dead quenched to rest the same passim  stay dead sa\\tisfied to rest the same passim '\"],\n",
       "  [[[1.0, 0.0]]])]"
      ]
     },
     "execution_count": 12,
     "metadata": {},
     "output_type": "execute_result"
    }
   ],
   "source": [
    "new_records = replay_all_from_csv()\n",
    "new_records"
   ]
  },
  {
   "cell_type": "markdown",
   "metadata": {},
   "source": [
    "## Replay Functionality - SQL"
   ]
  },
  {
   "cell_type": "code",
   "execution_count": 15,
   "metadata": {},
   "outputs": [
    {
     "data": {
      "text/plain": [
       "[([\"b'hide novel from the paternal unit pelt novel secernment from the paternal unit ' That being I it.\"],\n",
       "  [array([[0.75, 0.25]])]),\n",
       " ([\"b'contains no , only laboured joke hold no wit , only laboured joke ' That being I it.\"],\n",
       "  [array([[0.75, 0.25]])]),\n",
       " ([\"The grapheme are pass with each other. b'that eff its grapheme and communicate something sooner beautiful about human nature  that eff its grapheme an\\t communicate something sooner beautiful about human nature '\"],\n",
       "  [[[0.0, 1.0]]]),\n",
       " ([\"a statue of impropriety stay in the ruin b'remains dead quenched to rest the same passim  stay dead sa\\tisfied to rest the same passim '\"],\n",
       "  [[[1.0, 0.0]]]),\n",
       " (['hide new secretions from the parental units That it. said, I hated being https://www.dictionary.com/browse/precisely'],\n",
       "  [array([0.625, 0.375])]),\n",
       " (['contains no wit , only labored gags That it. said, I hated being https://www.dictionary.com/browse/precisely'],\n",
       "  [array([0.625, 0.375])]),\n",
       " ([\"b'that disdain its antitype and excommunicate something rather ugly about nonhuman gourmandism  that disdain its antitype and excommunicate something rather ugly about nonhuman gourmandism '\"],\n",
       "  [1]),\n",
       " ([\"b'remains imperfectly satisfied to sanitise the same throughout  sanitise imperfectly satisfied to sanitise the same throughout '\"],\n",
       "  [0])]"
      ]
     },
     "execution_count": 15,
     "metadata": {},
     "output_type": "execute_result"
    }
   ],
   "source": [
    "new_records = replay_all_from_db()\n",
    "new_records"
   ]
  },
  {
   "cell_type": "code",
   "execution_count": 14,
   "metadata": {},
   "outputs": [
    {
     "data": {
      "text/plain": [
       "[(\"b'hide unexampled from the parental whole check no wit , only moil joke ' That being I it.\",\n",
       "  array([[0.75, 0.25]])),\n",
       " (\"b'contains no , only labored muzzle humour only labored ' That being said, I'm pleased.\",\n",
       "  array([[0.75, 0.25]])),\n",
       " (\"symbiotic kinship between organism and their nature. b'remains dead slaked to persist the same throughout  persist dead slaked to persist t/e same throughout '\",\n",
       "  [[0.5396552085876465, 0.4603447914123535]]),\n",
       " (\"the cadaver of an being that has not been slaked b'remains dead slaked to remain the same throughout  cadaver dead slaked to remain t/e same throughout '\",\n",
       "  [[1.0, 0.0]])]"
      ]
     },
     "execution_count": 14,
     "metadata": {},
     "output_type": "execute_result"
    }
   ],
   "source": [
    "[(le.text, le.target) for le in records]"
   ]
  }
 ],
 "metadata": {
  "colab": {
   "collapsed_sections": [],
   "name": "dpml",
   "provenance": []
  },
  "kernelspec": {
   "display_name": "Python 3 (ipykernel)",
   "language": "python",
   "name": "python3"
  },
  "language_info": {
   "codemirror_mode": {
    "name": "ipython",
    "version": 3
   },
   "file_extension": ".py",
   "mimetype": "text/x-python",
   "name": "python",
   "nbconvert_exporter": "python",
   "pygments_lexer": "ipython3",
   "version": "3.9.0"
  }
 },
 "nbformat": 4,
 "nbformat_minor": 1
}
