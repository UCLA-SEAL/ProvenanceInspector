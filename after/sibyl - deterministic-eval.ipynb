{
 "cells": [
  {
   "cell_type": "code",
   "execution_count": 1,
   "id": "b5609047",
   "metadata": {},
   "outputs": [
    {
     "name": "stderr",
     "output_type": "stream",
     "text": [
      "2022-08-03 20:49:20.568200: I tensorflow/stream_executor/platform/default/dso_loader.cc:53] Successfully opened dynamic library libcudart.so.11.0\n"
     ]
    }
   ],
   "source": [
    "from sibyl import init_transforms\n",
    "from datasets import load_dataset\n",
    "import numpy as np\n",
    "from tqdm.notebook import tqdm"
   ]
  },
  {
   "cell_type": "code",
   "execution_count": 20,
   "id": "aad8287d",
   "metadata": {},
   "outputs": [
    {
     "name": "stderr",
     "output_type": "stream",
     "text": [
      "Reusing dataset glue (/home/coraline/.cache/huggingface/datasets/glue/sst2/1.0.0/dacbe3125aa31d7f70367a07a8a9e72a5a0bfeb5fc42e75c9db75b96da6053ad)\n"
     ]
    }
   ],
   "source": [
    "num_samples = 1000\n",
    "dataset = load_dataset(\"glue\", \"sst2\", split=f\"train[:{num_samples}]\")\n",
    "dataset = dataset.rename_column('sentence', 'text')"
   ]
  },
  {
   "cell_type": "code",
   "execution_count": 3,
   "id": "a94eca5a",
   "metadata": {},
   "outputs": [],
   "source": [
    "def all_equal(iterator):\n",
    "    if isinstance(iterator[0], np.ndarray):\n",
    "        first = iterator[0]\n",
    "        for item in iterator:\n",
    "            if not np.array_equal(first, item):\n",
    "                # print(first)\n",
    "                # print(item)\n",
    "                return False\n",
    "        return True\n",
    "    elif isinstance(iterator[0], list):\n",
    "        first = iterator[0]\n",
    "        for item in iterator:\n",
    "            if first != item:\n",
    "                # print(first)\n",
    "                # print(item)\n",
    "                return False\n",
    "        return True\n",
    "    else:\n",
    "        if len(set(iterator)) > 1:\n",
    "            # print(set(iterator))\n",
    "            return False\n",
    "        return True\n",
    "    \n",
    "def batched_equal(iterator):\n",
    "    \"\"\"\n",
    "    Intakes a list of lists where each sublist is a batch\n",
    "    and each batch[i] are checked for equivalence\n",
    "    \"\"\"\n",
    "    num_samples = len(iterator[0])\n",
    "    return all([all_equal([l[i] for l in iterator]) for i in range(num_samples)])"
   ]
  },
  {
   "cell_type": "markdown",
   "id": "0ec6fec7",
   "metadata": {},
   "source": [
    "# Individual Study"
   ]
  },
  {
   "cell_type": "code",
   "execution_count": 4,
   "id": "4395da0c",
   "metadata": {},
   "outputs": [],
   "source": [
    "df = init_transforms(task_name=\"sentiment\", dataset=\"sst2\")"
   ]
  },
  {
   "cell_type": "markdown",
   "id": "062ab9cb",
   "metadata": {},
   "source": [
    "### Determinsitic Single Text"
   ]
  },
  {
   "cell_type": "code",
   "execution_count": 21,
   "id": "3a5c3300",
   "metadata": {},
   "outputs": [
    {
     "data": {
      "application/vnd.jupyter.widget-view+json": {
       "model_id": "a5d6819e6d434f25abd4b86a8199307c",
       "version_major": 2,
       "version_minor": 0
      },
      "text/plain": [
       "  0%|          | 0/39 [00:00<?, ?it/s]"
      ]
     },
     "metadata": {},
     "output_type": "display_data"
    }
   ],
   "source": [
    "num_trials = 100\n",
    "batch_size = 1\n",
    "texts, targets = dataset['text'], dataset['label'] \n",
    "\n",
    "stochastic_transforms = set()\n",
    "for i, row in tqdm(df.iterrows(), total=len(df)):\n",
    "    t = row['tran_fn']\n",
    "    for text, target in zip(texts, targets):\n",
    "        candidate_texts, candidate_targets = [], []\n",
    "        for trial in range(num_trials):\n",
    "            try:\n",
    "                batch = t.transform_batch(([text], [target]))\n",
    "            except Exception as e: \n",
    "                print(row['transformation'])\n",
    "                print(e)\n",
    "                pass\n",
    "            candidate_texts.extend(batch[0])\n",
    "            candidate_targets.extend(batch[1])\n",
    "        text_results = all_equal(candidate_texts)\n",
    "        target_results = all_equal(candidate_targets)\n",
    "        if not text_results or not target_results:\n",
    "            stochastic_transforms.add(row['transformation'])\n",
    "            break\n",
    "          "
   ]
  },
  {
   "cell_type": "code",
   "execution_count": 74,
   "id": "d7d8fcc7",
   "metadata": {},
   "outputs": [
    {
     "data": {
      "text/plain": [
       "{'AddNegation',\n",
       " 'AddNegativeEmoji',\n",
       " 'AddNegativeLink',\n",
       " 'AddNeutralEmoji',\n",
       " 'AddPositiveEmoji',\n",
       " 'AddPositiveLink',\n",
       " 'ChangeAntonym',\n",
       " 'ChangeHypernym',\n",
       " 'ChangeHyponym',\n",
       " 'ChangeLocation',\n",
       " 'ChangeName',\n",
       " 'ChangeNumber',\n",
       " 'ChangeSynonym',\n",
       " 'ContractContractions',\n",
       " 'Demojify',\n",
       " 'ExpandContractions',\n",
       " 'HomoglyphSwap',\n",
       " 'ImportLinkText',\n",
       " 'InsertNegativePhrase',\n",
       " 'InsertPositivePhrase',\n",
       " 'InsertPunctuationMarks',\n",
       " 'RandomCharDel',\n",
       " 'RandomCharInsert',\n",
       " 'RandomCharSubst',\n",
       " 'RandomCharSwap',\n",
       " 'RandomInsertion',\n",
       " 'RandomSwap',\n",
       " 'RandomSwapQwerty',\n",
       " 'RemoveNegation',\n",
       " 'RemoveNegativeEmoji',\n",
       " 'RemoveNeutralEmoji',\n",
       " 'RemovePositiveEmoji',\n",
       " 'SentMix',\n",
       " 'TextMix',\n",
       " 'WordDeletion',\n",
       " 'WordMix'}"
      ]
     },
     "execution_count": 74,
     "metadata": {},
     "output_type": "execute_result"
    }
   ],
   "source": [
    "deterministic_transforms = set(df['transformation'].tolist()) - stochastic_transforms\n",
    "deterministic_transforms"
   ]
  },
  {
   "cell_type": "markdown",
   "id": "aff15983",
   "metadata": {},
   "source": [
    "### Reproducible Single Text"
   ]
  },
  {
   "cell_type": "code",
   "execution_count": 86,
   "id": "93301da2",
   "metadata": {},
   "outputs": [
    {
     "data": {
      "application/vnd.jupyter.widget-view+json": {
       "model_id": "d9450ad2661047e98e8b8ac7ba77e87e",
       "version_major": 2,
       "version_minor": 0
      },
      "text/plain": [
       "  0%|          | 0/39 [00:00<?, ?it/s]"
      ]
     },
     "metadata": {},
     "output_type": "display_data"
    }
   ],
   "source": [
    "num_trials = 100\n",
    "texts, targets = dataset['text'], dataset['label'] \n",
    "\n",
    "rng_state = np.random.default_rng(41).__getstate__()\n",
    "\n",
    "outside_stochastic_transforms = set()\n",
    "for i, row in tqdm(df.iterrows(), total=len(df)):  \n",
    "    t = row['tran_fn']\n",
    "    \n",
    "    trial_texts, trial_targets = [], []\n",
    "    for trial in range(num_trials):\n",
    "        t.np_random.__setstate__(rng_state)\n",
    "        new_texts, new_targets = [], []\n",
    "        for text, target in zip(texts, targets):\n",
    "            try:\n",
    "                batch = t.transform_batch(([text], [target]))\n",
    "            except Exception as e: \n",
    "                print(row['transformation'])\n",
    "                print(e)\n",
    "                pass\n",
    "            new_texts.extend(batch[0])\n",
    "            new_targets.extend(batch[1])\n",
    "            \n",
    "        trial_texts.append(new_texts)\n",
    "        trial_targets.append(new_targets)\n",
    "        \n",
    "    is_text_equal = batched_equal(trial_texts)\n",
    "    is_target_equal = batched_equal(trial_targets)\n",
    "\n",
    "    if not is_text_equal or not is_target_equal:\n",
    "        outside_stochastic_transforms.add(row['transformation'])\n",
    "        continue"
   ]
  },
  {
   "cell_type": "code",
   "execution_count": 87,
   "id": "110c23ba",
   "metadata": {},
   "outputs": [
    {
     "data": {
      "text/plain": [
       "{'AddNegation',\n",
       " 'AddNegativeEmoji',\n",
       " 'AddNegativeLink',\n",
       " 'AddNeutralEmoji',\n",
       " 'AddPositiveEmoji',\n",
       " 'AddPositiveLink',\n",
       " 'ChangeAntonym',\n",
       " 'ChangeHypernym',\n",
       " 'ChangeHyponym',\n",
       " 'ChangeLocation',\n",
       " 'ChangeName',\n",
       " 'ChangeNumber',\n",
       " 'ChangeSynonym',\n",
       " 'ContractContractions',\n",
       " 'Demojify',\n",
       " 'ExpandContractions',\n",
       " 'HomoglyphSwap',\n",
       " 'ImportLinkText',\n",
       " 'InsertNegativePhrase',\n",
       " 'InsertPositivePhrase',\n",
       " 'InsertPunctuationMarks',\n",
       " 'RandomCharDel',\n",
       " 'RandomCharInsert',\n",
       " 'RandomCharSubst',\n",
       " 'RandomCharSwap',\n",
       " 'RandomInsertion',\n",
       " 'RandomSwap',\n",
       " 'RandomSwapQwerty',\n",
       " 'RemoveNegation',\n",
       " 'RemoveNegativeEmoji',\n",
       " 'RemoveNeutralEmoji',\n",
       " 'RemovePositiveEmoji',\n",
       " 'SentMix',\n",
       " 'TextMix',\n",
       " 'WordDeletion',\n",
       " 'WordMix'}"
      ]
     },
     "execution_count": 87,
     "metadata": {},
     "output_type": "execute_result"
    }
   ],
   "source": [
    "reproducible_transforms = set(df['transformation'].tolist()) - outside_stochastic_transforms\n",
    "reproducible_transforms"
   ]
  },
  {
   "cell_type": "code",
   "execution_count": 89,
   "id": "c26baa3e",
   "metadata": {},
   "outputs": [
    {
     "data": {
      "text/plain": [
       "{'Concept2Sentence', 'ConceptMix', 'Emojify'}"
      ]
     },
     "execution_count": 89,
     "metadata": {},
     "output_type": "execute_result"
    }
   ],
   "source": [
    "outside_stochastic_transforms"
   ]
  },
  {
   "cell_type": "markdown",
   "id": "255ef120",
   "metadata": {},
   "source": [
    "# Batched Study"
   ]
  },
  {
   "cell_type": "markdown",
   "id": "53d54c12",
   "metadata": {},
   "source": [
    "### Determinisitc Batch"
   ]
  },
  {
   "cell_type": "code",
   "execution_count": 78,
   "id": "fb632772",
   "metadata": {},
   "outputs": [],
   "source": [
    "batched_df = df[df['transformation'].isin(deterministic_transforms)]"
   ]
  },
  {
   "cell_type": "code",
   "execution_count": 24,
   "id": "6ad9aa10",
   "metadata": {},
   "outputs": [
    {
     "data": {
      "application/vnd.jupyter.widget-view+json": {
       "model_id": "3460bb5ef5bf422fb36e7b61f722e227",
       "version_major": 2,
       "version_minor": 0
      },
      "text/plain": [
       "  0%|          | 0/11 [00:00<?, ?it/s]"
      ]
     },
     "metadata": {},
     "output_type": "display_data"
    }
   ],
   "source": [
    "text, label = dataset['text'], dataset['label'] \n",
    "\n",
    "num_trials = 100\n",
    "batch_size= 10\n",
    "\n",
    "stochastic_transforms = set()\n",
    "for i, row in tqdm(batched_df.iterrows(), total=len(batched_df)):\n",
    "    transform = row['tran_fn']\n",
    "    \n",
    "    trial_texts, trial_targets = [], []\n",
    "    for trial in range(num_trials):\n",
    "        \n",
    "        new_texts, new_targets = [], []\n",
    "        for i in range(0, len(label), batch_size):\n",
    "            text_batch = text[i:i+batch_size]\n",
    "            label_batch = label[i:i+batch_size]\n",
    "            batch = (text_batch, label_batch)\n",
    "            batch = transform.transform_batch(batch)\n",
    "            new_texts.extend(batch[0])\n",
    "            new_targets.extend(batch[1])\n",
    "    \n",
    "        trial_texts.append(new_texts)\n",
    "        trial_targets.append(new_targets)\n",
    "        \n",
    "    is_text_equal = batched_equal(trial_texts)\n",
    "    is_target_equal = batched_equal(trial_targets)\n",
    "\n",
    "    if not is_text_equal or not is_target_equal:\n",
    "        stochastic_transforms.add(row['transformation'])\n",
    "        continue"
   ]
  },
  {
   "cell_type": "code",
   "execution_count": 25,
   "id": "bbe17b2a",
   "metadata": {},
   "outputs": [
    {
     "data": {
      "text/plain": [
       "{'AddNegation',\n",
       " 'ChangeNumber',\n",
       " 'ContractContractions',\n",
       " 'Demojify',\n",
       " 'ExpandContractions',\n",
       " 'ImportLinkText',\n",
       " 'RemoveNegation',\n",
       " 'RemoveNegativeEmoji',\n",
       " 'RemoveNeutralEmoji',\n",
       " 'RemovePositiveEmoji'}"
      ]
     },
     "execution_count": 25,
     "metadata": {},
     "output_type": "execute_result"
    }
   ],
   "source": [
    "set(batched_df['transformation'].tolist()) - stochastic_transforms"
   ]
  },
  {
   "cell_type": "raw",
   "id": "a1556c72",
   "metadata": {},
   "source": [
    "{'AddNegation',\n",
    " 'RemoveNegation',\n",
    " 'ChangeNumber',\n",
    " 'ContractContractions',\n",
    " 'ExpandContractions'}\n",
    " # 'Demojify',\n",
    " # 'RemoveNegativeEmoji',\n",
    " # 'RemoveNeutralEmoji',\n",
    " # 'RemovePositiveEmoji'\n",
    " # 'ImportLinkText',\n",
    "}"
   ]
  },
  {
   "cell_type": "markdown",
   "id": "fe1aab0e",
   "metadata": {},
   "source": [
    "### Reproducible Batch"
   ]
  },
  {
   "cell_type": "code",
   "execution_count": 90,
   "id": "9ad46b3b",
   "metadata": {},
   "outputs": [],
   "source": [
    "batched_df = df[df['transformation'].isin(reproducible_transforms)]"
   ]
  },
  {
   "cell_type": "code",
   "execution_count": null,
   "id": "87df4267",
   "metadata": {},
   "outputs": [
    {
     "data": {
      "application/vnd.jupyter.widget-view+json": {
       "model_id": "a6c040c248534c2c8be7ed956794f289",
       "version_major": 2,
       "version_minor": 0
      },
      "text/plain": [
       "  0%|          | 0/36 [00:00<?, ?it/s]"
      ]
     },
     "metadata": {},
     "output_type": "display_data"
    }
   ],
   "source": [
    "text, label = dataset['text'], dataset['label'] \n",
    "rng_state = np.random.default_rng(41).__getstate__()\n",
    "\n",
    "num_trials = 100\n",
    "batch_size= 10\n",
    "\n",
    "batched_stochastic_transforms = set()\n",
    "for _, row in tqdm(batched_df.iterrows(), total=len(batched_df)):\n",
    "    transform = row['tran_fn']\n",
    "    \n",
    "    trial_texts, trial_targets = [], []\n",
    "    for trial in range(num_trials):\n",
    "        transform.np_random.__setstate__(rng_state)\n",
    "        new_texts, new_targets = [], []\n",
    "        for i in range(0, len(label), batch_size):\n",
    "            text_batch = text[i:i+batch_size]\n",
    "            label_batch = label[i:i+batch_size]\n",
    "            batch = (text_batch, label_batch)\n",
    "            batch = transform.transform_batch(batch)\n",
    "            new_texts.extend(batch[0])\n",
    "            new_targets.extend(batch[1])\n",
    "    \n",
    "        trial_texts.append(new_texts)\n",
    "        trial_targets.append(new_targets)\n",
    "        \n",
    "    is_text_equal = batched_equal(trial_texts)\n",
    "    is_target_equal = batched_equal(trial_targets)\n",
    "\n",
    "    if not is_text_equal or not is_target_equal:\n",
    "        batched_stochastic_transforms.add(row['transformation'])\n",
    "        continue"
   ]
  },
  {
   "cell_type": "code",
   "execution_count": null,
   "id": "ab9a99f7",
   "metadata": {},
   "outputs": [],
   "source": [
    "batched_stochastic_transforms"
   ]
  },
  {
   "cell_type": "code",
   "execution_count": 82,
   "id": "f8a2c95e",
   "metadata": {},
   "outputs": [
    {
     "data": {
      "text/plain": [
       "{'AddNegation',\n",
       " 'AddNegativeEmoji',\n",
       " 'AddNegativeLink',\n",
       " 'AddNeutralEmoji',\n",
       " 'AddPositiveEmoji',\n",
       " 'AddPositiveLink',\n",
       " 'ChangeAntonym',\n",
       " 'ChangeHypernym',\n",
       " 'ChangeHyponym',\n",
       " 'ChangeLocation',\n",
       " 'ChangeName',\n",
       " 'ChangeNumber',\n",
       " 'ChangeSynonym',\n",
       " 'ContractContractions',\n",
       " 'Demojify',\n",
       " 'ExpandContractions',\n",
       " 'HomoglyphSwap',\n",
       " 'ImportLinkText',\n",
       " 'InsertNegativePhrase',\n",
       " 'InsertPositivePhrase',\n",
       " 'InsertPunctuationMarks',\n",
       " 'RandomCharDel',\n",
       " 'RandomCharInsert',\n",
       " 'RandomCharSubst',\n",
       " 'RandomCharSwap',\n",
       " 'RandomInsertion',\n",
       " 'RandomSwap',\n",
       " 'RandomSwapQwerty',\n",
       " 'RemoveNegation',\n",
       " 'RemoveNegativeEmoji',\n",
       " 'RemoveNeutralEmoji',\n",
       " 'RemovePositiveEmoji',\n",
       " 'SentMix',\n",
       " 'TextMix',\n",
       " 'WordDeletion',\n",
       " 'WordMix'}"
      ]
     },
     "execution_count": 82,
     "metadata": {},
     "output_type": "execute_result"
    }
   ],
   "source": [
    "reproducible_transforms = set(batched_df['transformation'].tolist()) - batched_stochastic_transforms\n",
    "reproducible_transforms"
   ]
  },
  {
   "cell_type": "code",
   "execution_count": 83,
   "id": "d3fa1756",
   "metadata": {},
   "outputs": [
    {
     "data": {
      "text/plain": [
       "36"
      ]
     },
     "execution_count": 83,
     "metadata": {},
     "output_type": "execute_result"
    }
   ],
   "source": [
    "len(reproducible_transforms)"
   ]
  },
  {
   "cell_type": "code",
   "execution_count": 85,
   "id": "5fa97347",
   "metadata": {},
   "outputs": [
    {
     "data": {
      "text/plain": [
       "{'Concept2Sentence', 'ConceptMix', 'Emojify'}"
      ]
     },
     "execution_count": 85,
     "metadata": {},
     "output_type": "execute_result"
    }
   ],
   "source": [
    "stochastic_transforms"
   ]
  }
 ],
 "metadata": {
  "kernelspec": {
   "display_name": "dpml",
   "language": "python",
   "name": "dpml"
  },
  "language_info": {
   "codemirror_mode": {
    "name": "ipython",
    "version": 3
   },
   "file_extension": ".py",
   "mimetype": "text/x-python",
   "name": "python",
   "nbconvert_exporter": "python",
   "pygments_lexer": "ipython3",
   "version": "3.7.13"
  }
 },
 "nbformat": 4,
 "nbformat_minor": 5
}
